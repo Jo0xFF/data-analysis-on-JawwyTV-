{
  "nbformat": 4,
  "nbformat_minor": 0,
  "metadata": {
    "colab": {
      "provenance": []
    },
    "kernelspec": {
      "name": "python3",
      "display_name": "Python 3"
    },
    "language_info": {
      "name": "python"
    }
  },
  "cells": [
    {
      "cell_type": "markdown",
      "source": [
        "## Data Analysis"
      ],
      "metadata": {
        "id": "EFsbQC8Vs1gj"
      }
    },
    {
      "cell_type": "markdown",
      "source": [
        "### Import necessary libraries"
      ],
      "metadata": {
        "id": "89hiYrE6JyAH"
      }
    },
    {
      "cell_type": "code",
      "source": [
        "import pandas as pd\n",
        "import numpy as np\n",
        "import matplotlib.pyplot as plt\n",
        "import seaborn as sns\n",
        "import scipy.stats as st\n",
        "import statsmodels.stats.api as sm"
      ],
      "metadata": {
        "id": "w_inKjnJ2w7s"
      },
      "execution_count": 4,
      "outputs": []
    },
    {
      "cell_type": "markdown",
      "source": [
        "### Reading data & parse it"
      ],
      "metadata": {
        "id": "p0zLXI5eJ6Tu"
      }
    },
    {
      "cell_type": "code",
      "source": [
        "df = pd.read_csv(\"Final_Dataset.txt\", parse_dates=[\"date_\"])\n",
        "df.head()"
      ],
      "metadata": {
        "colab": {
          "base_uri": "https://localhost:8080/",
          "height": 354
        },
        "id": "WuDK-k6J363K",
        "outputId": "b12e2bac-4225-4c83-fccc-208abeaed65e"
      },
      "execution_count": 5,
      "outputs": [
        {
          "output_type": "execute_result",
          "data": {
            "text/plain": [
              "   Unnamed: 0      date_  user_id_maped           program_name  \\\n",
              "0           1 2017-05-27          26138             100 treets   \n",
              "1           3 2017-05-21           7946                 Moana    \n",
              "2           4 2017-08-10           7418  The Mermaid Princess    \n",
              "3           5 2017-07-26          19307  The Mermaid Princess    \n",
              "4           7 2017-07-07          15860             Churchill    \n",
              "\n",
              "   duration_seconds program_class  season  episode  \\\n",
              "0                40         MOVIE       0        0   \n",
              "1                17         MOVIE       0        0   \n",
              "2                 8         MOVIE       0        0   \n",
              "3                76         MOVIE       0        0   \n",
              "4                87         MOVIE       0        0   \n",
              "\n",
              "                               program_desc program_genre  series_title  hd  \\\n",
              "0                    Drama Movie100 Streets         Drama             0   0   \n",
              "1                 Animation MovieMoana (HD)     Animation             0   1   \n",
              "2  Animation MovieThe Mermaid Princess (HD)     Animation             0   1   \n",
              "3  Animation MovieThe Mermaid Princess (HD)     Animation             0   1   \n",
              "4             Biography MovieChurchill (HD)     Biography             0   1   \n",
              "\n",
              "          original_name  \n",
              "0            100 treets  \n",
              "1                 Moana  \n",
              "2  The Mermaid Princess  \n",
              "3  The Mermaid Princess  \n",
              "4             Churchill  "
            ],
            "text/html": [
              "\n",
              "  <div id=\"df-5e363f67-5d56-44b5-b2a1-7cbb788c9b7e\">\n",
              "    <div class=\"colab-df-container\">\n",
              "      <div>\n",
              "<style scoped>\n",
              "    .dataframe tbody tr th:only-of-type {\n",
              "        vertical-align: middle;\n",
              "    }\n",
              "\n",
              "    .dataframe tbody tr th {\n",
              "        vertical-align: top;\n",
              "    }\n",
              "\n",
              "    .dataframe thead th {\n",
              "        text-align: right;\n",
              "    }\n",
              "</style>\n",
              "<table border=\"1\" class=\"dataframe\">\n",
              "  <thead>\n",
              "    <tr style=\"text-align: right;\">\n",
              "      <th></th>\n",
              "      <th>Unnamed: 0</th>\n",
              "      <th>date_</th>\n",
              "      <th>user_id_maped</th>\n",
              "      <th>program_name</th>\n",
              "      <th>duration_seconds</th>\n",
              "      <th>program_class</th>\n",
              "      <th>season</th>\n",
              "      <th>episode</th>\n",
              "      <th>program_desc</th>\n",
              "      <th>program_genre</th>\n",
              "      <th>series_title</th>\n",
              "      <th>hd</th>\n",
              "      <th>original_name</th>\n",
              "    </tr>\n",
              "  </thead>\n",
              "  <tbody>\n",
              "    <tr>\n",
              "      <th>0</th>\n",
              "      <td>1</td>\n",
              "      <td>2017-05-27</td>\n",
              "      <td>26138</td>\n",
              "      <td>100 treets</td>\n",
              "      <td>40</td>\n",
              "      <td>MOVIE</td>\n",
              "      <td>0</td>\n",
              "      <td>0</td>\n",
              "      <td>Drama Movie100 Streets</td>\n",
              "      <td>Drama</td>\n",
              "      <td>0</td>\n",
              "      <td>0</td>\n",
              "      <td>100 treets</td>\n",
              "    </tr>\n",
              "    <tr>\n",
              "      <th>1</th>\n",
              "      <td>3</td>\n",
              "      <td>2017-05-21</td>\n",
              "      <td>7946</td>\n",
              "      <td>Moana</td>\n",
              "      <td>17</td>\n",
              "      <td>MOVIE</td>\n",
              "      <td>0</td>\n",
              "      <td>0</td>\n",
              "      <td>Animation MovieMoana (HD)</td>\n",
              "      <td>Animation</td>\n",
              "      <td>0</td>\n",
              "      <td>1</td>\n",
              "      <td>Moana</td>\n",
              "    </tr>\n",
              "    <tr>\n",
              "      <th>2</th>\n",
              "      <td>4</td>\n",
              "      <td>2017-08-10</td>\n",
              "      <td>7418</td>\n",
              "      <td>The Mermaid Princess</td>\n",
              "      <td>8</td>\n",
              "      <td>MOVIE</td>\n",
              "      <td>0</td>\n",
              "      <td>0</td>\n",
              "      <td>Animation MovieThe Mermaid Princess (HD)</td>\n",
              "      <td>Animation</td>\n",
              "      <td>0</td>\n",
              "      <td>1</td>\n",
              "      <td>The Mermaid Princess</td>\n",
              "    </tr>\n",
              "    <tr>\n",
              "      <th>3</th>\n",
              "      <td>5</td>\n",
              "      <td>2017-07-26</td>\n",
              "      <td>19307</td>\n",
              "      <td>The Mermaid Princess</td>\n",
              "      <td>76</td>\n",
              "      <td>MOVIE</td>\n",
              "      <td>0</td>\n",
              "      <td>0</td>\n",
              "      <td>Animation MovieThe Mermaid Princess (HD)</td>\n",
              "      <td>Animation</td>\n",
              "      <td>0</td>\n",
              "      <td>1</td>\n",
              "      <td>The Mermaid Princess</td>\n",
              "    </tr>\n",
              "    <tr>\n",
              "      <th>4</th>\n",
              "      <td>7</td>\n",
              "      <td>2017-07-07</td>\n",
              "      <td>15860</td>\n",
              "      <td>Churchill</td>\n",
              "      <td>87</td>\n",
              "      <td>MOVIE</td>\n",
              "      <td>0</td>\n",
              "      <td>0</td>\n",
              "      <td>Biography MovieChurchill (HD)</td>\n",
              "      <td>Biography</td>\n",
              "      <td>0</td>\n",
              "      <td>1</td>\n",
              "      <td>Churchill</td>\n",
              "    </tr>\n",
              "  </tbody>\n",
              "</table>\n",
              "</div>\n",
              "      <button class=\"colab-df-convert\" onclick=\"convertToInteractive('df-5e363f67-5d56-44b5-b2a1-7cbb788c9b7e')\"\n",
              "              title=\"Convert this dataframe to an interactive table.\"\n",
              "              style=\"display:none;\">\n",
              "        \n",
              "  <svg xmlns=\"http://www.w3.org/2000/svg\" height=\"24px\"viewBox=\"0 0 24 24\"\n",
              "       width=\"24px\">\n",
              "    <path d=\"M0 0h24v24H0V0z\" fill=\"none\"/>\n",
              "    <path d=\"M18.56 5.44l.94 2.06.94-2.06 2.06-.94-2.06-.94-.94-2.06-.94 2.06-2.06.94zm-11 1L8.5 8.5l.94-2.06 2.06-.94-2.06-.94L8.5 2.5l-.94 2.06-2.06.94zm10 10l.94 2.06.94-2.06 2.06-.94-2.06-.94-.94-2.06-.94 2.06-2.06.94z\"/><path d=\"M17.41 7.96l-1.37-1.37c-.4-.4-.92-.59-1.43-.59-.52 0-1.04.2-1.43.59L10.3 9.45l-7.72 7.72c-.78.78-.78 2.05 0 2.83L4 21.41c.39.39.9.59 1.41.59.51 0 1.02-.2 1.41-.59l7.78-7.78 2.81-2.81c.8-.78.8-2.07 0-2.86zM5.41 20L4 18.59l7.72-7.72 1.47 1.35L5.41 20z\"/>\n",
              "  </svg>\n",
              "      </button>\n",
              "      \n",
              "  <style>\n",
              "    .colab-df-container {\n",
              "      display:flex;\n",
              "      flex-wrap:wrap;\n",
              "      gap: 12px;\n",
              "    }\n",
              "\n",
              "    .colab-df-convert {\n",
              "      background-color: #E8F0FE;\n",
              "      border: none;\n",
              "      border-radius: 50%;\n",
              "      cursor: pointer;\n",
              "      display: none;\n",
              "      fill: #1967D2;\n",
              "      height: 32px;\n",
              "      padding: 0 0 0 0;\n",
              "      width: 32px;\n",
              "    }\n",
              "\n",
              "    .colab-df-convert:hover {\n",
              "      background-color: #E2EBFA;\n",
              "      box-shadow: 0px 1px 2px rgba(60, 64, 67, 0.3), 0px 1px 3px 1px rgba(60, 64, 67, 0.15);\n",
              "      fill: #174EA6;\n",
              "    }\n",
              "\n",
              "    [theme=dark] .colab-df-convert {\n",
              "      background-color: #3B4455;\n",
              "      fill: #D2E3FC;\n",
              "    }\n",
              "\n",
              "    [theme=dark] .colab-df-convert:hover {\n",
              "      background-color: #434B5C;\n",
              "      box-shadow: 0px 1px 3px 1px rgba(0, 0, 0, 0.15);\n",
              "      filter: drop-shadow(0px 1px 2px rgba(0, 0, 0, 0.3));\n",
              "      fill: #FFFFFF;\n",
              "    }\n",
              "  </style>\n",
              "\n",
              "      <script>\n",
              "        const buttonEl =\n",
              "          document.querySelector('#df-5e363f67-5d56-44b5-b2a1-7cbb788c9b7e button.colab-df-convert');\n",
              "        buttonEl.style.display =\n",
              "          google.colab.kernel.accessAllowed ? 'block' : 'none';\n",
              "\n",
              "        async function convertToInteractive(key) {\n",
              "          const element = document.querySelector('#df-5e363f67-5d56-44b5-b2a1-7cbb788c9b7e');\n",
              "          const dataTable =\n",
              "            await google.colab.kernel.invokeFunction('convertToInteractive',\n",
              "                                                     [key], {});\n",
              "          if (!dataTable) return;\n",
              "\n",
              "          const docLinkHtml = 'Like what you see? Visit the ' +\n",
              "            '<a target=\"_blank\" href=https://colab.research.google.com/notebooks/data_table.ipynb>data table notebook</a>'\n",
              "            + ' to learn more about interactive tables.';\n",
              "          element.innerHTML = '';\n",
              "          dataTable['output_type'] = 'display_data';\n",
              "          await google.colab.output.renderOutput(dataTable, element);\n",
              "          const docLink = document.createElement('div');\n",
              "          docLink.innerHTML = docLinkHtml;\n",
              "          element.appendChild(docLink);\n",
              "        }\n",
              "      </script>\n",
              "    </div>\n",
              "  </div>\n",
              "  "
            ]
          },
          "metadata": {},
          "execution_count": 5
        }
      ]
    },
    {
      "cell_type": "markdown",
      "source": [
        "### Drop unnecessary columns"
      ],
      "metadata": {
        "id": "6aOxC2n-J_lP"
      }
    },
    {
      "cell_type": "code",
      "source": [
        "# Drop the additonal index \n",
        "df.drop(\"Unnamed: 0\", axis=1, inplace=True)\n",
        "\n",
        "# Get the top 5 rows of data\n",
        "df.head()"
      ],
      "metadata": {
        "colab": {
          "base_uri": "https://localhost:8080/",
          "height": 337
        },
        "id": "QIpLQCHA4SbE",
        "outputId": "bc760119-78fa-468d-e6e5-e511533b2f9f"
      },
      "execution_count": 6,
      "outputs": [
        {
          "output_type": "execute_result",
          "data": {
            "text/plain": [
              "       date_  user_id_maped           program_name  duration_seconds  \\\n",
              "0 2017-05-27          26138             100 treets                40   \n",
              "1 2017-05-21           7946                 Moana                 17   \n",
              "2 2017-08-10           7418  The Mermaid Princess                  8   \n",
              "3 2017-07-26          19307  The Mermaid Princess                 76   \n",
              "4 2017-07-07          15860             Churchill                 87   \n",
              "\n",
              "  program_class  season  episode                              program_desc  \\\n",
              "0         MOVIE       0        0                    Drama Movie100 Streets   \n",
              "1         MOVIE       0        0                 Animation MovieMoana (HD)   \n",
              "2         MOVIE       0        0  Animation MovieThe Mermaid Princess (HD)   \n",
              "3         MOVIE       0        0  Animation MovieThe Mermaid Princess (HD)   \n",
              "4         MOVIE       0        0             Biography MovieChurchill (HD)   \n",
              "\n",
              "  program_genre  series_title  hd         original_name  \n",
              "0         Drama             0   0            100 treets  \n",
              "1     Animation             0   1                 Moana  \n",
              "2     Animation             0   1  The Mermaid Princess  \n",
              "3     Animation             0   1  The Mermaid Princess  \n",
              "4     Biography             0   1             Churchill  "
            ],
            "text/html": [
              "\n",
              "  <div id=\"df-8320958a-b4d5-403f-b56d-9d55281b16cb\">\n",
              "    <div class=\"colab-df-container\">\n",
              "      <div>\n",
              "<style scoped>\n",
              "    .dataframe tbody tr th:only-of-type {\n",
              "        vertical-align: middle;\n",
              "    }\n",
              "\n",
              "    .dataframe tbody tr th {\n",
              "        vertical-align: top;\n",
              "    }\n",
              "\n",
              "    .dataframe thead th {\n",
              "        text-align: right;\n",
              "    }\n",
              "</style>\n",
              "<table border=\"1\" class=\"dataframe\">\n",
              "  <thead>\n",
              "    <tr style=\"text-align: right;\">\n",
              "      <th></th>\n",
              "      <th>date_</th>\n",
              "      <th>user_id_maped</th>\n",
              "      <th>program_name</th>\n",
              "      <th>duration_seconds</th>\n",
              "      <th>program_class</th>\n",
              "      <th>season</th>\n",
              "      <th>episode</th>\n",
              "      <th>program_desc</th>\n",
              "      <th>program_genre</th>\n",
              "      <th>series_title</th>\n",
              "      <th>hd</th>\n",
              "      <th>original_name</th>\n",
              "    </tr>\n",
              "  </thead>\n",
              "  <tbody>\n",
              "    <tr>\n",
              "      <th>0</th>\n",
              "      <td>2017-05-27</td>\n",
              "      <td>26138</td>\n",
              "      <td>100 treets</td>\n",
              "      <td>40</td>\n",
              "      <td>MOVIE</td>\n",
              "      <td>0</td>\n",
              "      <td>0</td>\n",
              "      <td>Drama Movie100 Streets</td>\n",
              "      <td>Drama</td>\n",
              "      <td>0</td>\n",
              "      <td>0</td>\n",
              "      <td>100 treets</td>\n",
              "    </tr>\n",
              "    <tr>\n",
              "      <th>1</th>\n",
              "      <td>2017-05-21</td>\n",
              "      <td>7946</td>\n",
              "      <td>Moana</td>\n",
              "      <td>17</td>\n",
              "      <td>MOVIE</td>\n",
              "      <td>0</td>\n",
              "      <td>0</td>\n",
              "      <td>Animation MovieMoana (HD)</td>\n",
              "      <td>Animation</td>\n",
              "      <td>0</td>\n",
              "      <td>1</td>\n",
              "      <td>Moana</td>\n",
              "    </tr>\n",
              "    <tr>\n",
              "      <th>2</th>\n",
              "      <td>2017-08-10</td>\n",
              "      <td>7418</td>\n",
              "      <td>The Mermaid Princess</td>\n",
              "      <td>8</td>\n",
              "      <td>MOVIE</td>\n",
              "      <td>0</td>\n",
              "      <td>0</td>\n",
              "      <td>Animation MovieThe Mermaid Princess (HD)</td>\n",
              "      <td>Animation</td>\n",
              "      <td>0</td>\n",
              "      <td>1</td>\n",
              "      <td>The Mermaid Princess</td>\n",
              "    </tr>\n",
              "    <tr>\n",
              "      <th>3</th>\n",
              "      <td>2017-07-26</td>\n",
              "      <td>19307</td>\n",
              "      <td>The Mermaid Princess</td>\n",
              "      <td>76</td>\n",
              "      <td>MOVIE</td>\n",
              "      <td>0</td>\n",
              "      <td>0</td>\n",
              "      <td>Animation MovieThe Mermaid Princess (HD)</td>\n",
              "      <td>Animation</td>\n",
              "      <td>0</td>\n",
              "      <td>1</td>\n",
              "      <td>The Mermaid Princess</td>\n",
              "    </tr>\n",
              "    <tr>\n",
              "      <th>4</th>\n",
              "      <td>2017-07-07</td>\n",
              "      <td>15860</td>\n",
              "      <td>Churchill</td>\n",
              "      <td>87</td>\n",
              "      <td>MOVIE</td>\n",
              "      <td>0</td>\n",
              "      <td>0</td>\n",
              "      <td>Biography MovieChurchill (HD)</td>\n",
              "      <td>Biography</td>\n",
              "      <td>0</td>\n",
              "      <td>1</td>\n",
              "      <td>Churchill</td>\n",
              "    </tr>\n",
              "  </tbody>\n",
              "</table>\n",
              "</div>\n",
              "      <button class=\"colab-df-convert\" onclick=\"convertToInteractive('df-8320958a-b4d5-403f-b56d-9d55281b16cb')\"\n",
              "              title=\"Convert this dataframe to an interactive table.\"\n",
              "              style=\"display:none;\">\n",
              "        \n",
              "  <svg xmlns=\"http://www.w3.org/2000/svg\" height=\"24px\"viewBox=\"0 0 24 24\"\n",
              "       width=\"24px\">\n",
              "    <path d=\"M0 0h24v24H0V0z\" fill=\"none\"/>\n",
              "    <path d=\"M18.56 5.44l.94 2.06.94-2.06 2.06-.94-2.06-.94-.94-2.06-.94 2.06-2.06.94zm-11 1L8.5 8.5l.94-2.06 2.06-.94-2.06-.94L8.5 2.5l-.94 2.06-2.06.94zm10 10l.94 2.06.94-2.06 2.06-.94-2.06-.94-.94-2.06-.94 2.06-2.06.94z\"/><path d=\"M17.41 7.96l-1.37-1.37c-.4-.4-.92-.59-1.43-.59-.52 0-1.04.2-1.43.59L10.3 9.45l-7.72 7.72c-.78.78-.78 2.05 0 2.83L4 21.41c.39.39.9.59 1.41.59.51 0 1.02-.2 1.41-.59l7.78-7.78 2.81-2.81c.8-.78.8-2.07 0-2.86zM5.41 20L4 18.59l7.72-7.72 1.47 1.35L5.41 20z\"/>\n",
              "  </svg>\n",
              "      </button>\n",
              "      \n",
              "  <style>\n",
              "    .colab-df-container {\n",
              "      display:flex;\n",
              "      flex-wrap:wrap;\n",
              "      gap: 12px;\n",
              "    }\n",
              "\n",
              "    .colab-df-convert {\n",
              "      background-color: #E8F0FE;\n",
              "      border: none;\n",
              "      border-radius: 50%;\n",
              "      cursor: pointer;\n",
              "      display: none;\n",
              "      fill: #1967D2;\n",
              "      height: 32px;\n",
              "      padding: 0 0 0 0;\n",
              "      width: 32px;\n",
              "    }\n",
              "\n",
              "    .colab-df-convert:hover {\n",
              "      background-color: #E2EBFA;\n",
              "      box-shadow: 0px 1px 2px rgba(60, 64, 67, 0.3), 0px 1px 3px 1px rgba(60, 64, 67, 0.15);\n",
              "      fill: #174EA6;\n",
              "    }\n",
              "\n",
              "    [theme=dark] .colab-df-convert {\n",
              "      background-color: #3B4455;\n",
              "      fill: #D2E3FC;\n",
              "    }\n",
              "\n",
              "    [theme=dark] .colab-df-convert:hover {\n",
              "      background-color: #434B5C;\n",
              "      box-shadow: 0px 1px 3px 1px rgba(0, 0, 0, 0.15);\n",
              "      filter: drop-shadow(0px 1px 2px rgba(0, 0, 0, 0.3));\n",
              "      fill: #FFFFFF;\n",
              "    }\n",
              "  </style>\n",
              "\n",
              "      <script>\n",
              "        const buttonEl =\n",
              "          document.querySelector('#df-8320958a-b4d5-403f-b56d-9d55281b16cb button.colab-df-convert');\n",
              "        buttonEl.style.display =\n",
              "          google.colab.kernel.accessAllowed ? 'block' : 'none';\n",
              "\n",
              "        async function convertToInteractive(key) {\n",
              "          const element = document.querySelector('#df-8320958a-b4d5-403f-b56d-9d55281b16cb');\n",
              "          const dataTable =\n",
              "            await google.colab.kernel.invokeFunction('convertToInteractive',\n",
              "                                                     [key], {});\n",
              "          if (!dataTable) return;\n",
              "\n",
              "          const docLinkHtml = 'Like what you see? Visit the ' +\n",
              "            '<a target=\"_blank\" href=https://colab.research.google.com/notebooks/data_table.ipynb>data table notebook</a>'\n",
              "            + ' to learn more about interactive tables.';\n",
              "          element.innerHTML = '';\n",
              "          dataTable['output_type'] = 'display_data';\n",
              "          await google.colab.output.renderOutput(dataTable, element);\n",
              "          const docLink = document.createElement('div');\n",
              "          docLink.innerHTML = docLinkHtml;\n",
              "          element.appendChild(docLink);\n",
              "        }\n",
              "      </script>\n",
              "    </div>\n",
              "  </div>\n",
              "  "
            ]
          },
          "metadata": {},
          "execution_count": 6
        }
      ]
    },
    {
      "cell_type": "markdown",
      "source": [
        "### How much memory does this dataset would take?"
      ],
      "metadata": {
        "id": "gjLLLEH9KKDD"
      }
    },
    {
      "cell_type": "code",
      "source": [
        "# inspect how much memory does it take ?\n",
        "df.info()"
      ],
      "metadata": {
        "colab": {
          "base_uri": "https://localhost:8080/"
        },
        "id": "IlZL-sm3484A",
        "outputId": "219b4804-276a-4016-97a4-6faa4b48c0ec"
      },
      "execution_count": 7,
      "outputs": [
        {
          "output_type": "stream",
          "name": "stdout",
          "text": [
            "<class 'pandas.core.frame.DataFrame'>\n",
            "RangeIndex: 3598607 entries, 0 to 3598606\n",
            "Data columns (total 12 columns):\n",
            " #   Column            Dtype         \n",
            "---  ------            -----         \n",
            " 0   date_             datetime64[ns]\n",
            " 1   user_id_maped     int64         \n",
            " 2   program_name      object        \n",
            " 3   duration_seconds  int64         \n",
            " 4   program_class     object        \n",
            " 5   season            int64         \n",
            " 6   episode           int64         \n",
            " 7   program_desc      object        \n",
            " 8   program_genre     object        \n",
            " 9   series_title      int64         \n",
            " 10  hd                int64         \n",
            " 11  original_name     object        \n",
            "dtypes: datetime64[ns](1), int64(6), object(5)\n",
            "memory usage: 329.5+ MB\n"
          ]
        }
      ]
    },
    {
      "cell_type": "markdown",
      "source": [
        "We can see here couple of things :\n",
        "- Memory usage are HUGE.\n",
        "- No. Of Rows : 3598607\n",
        "- Columns Data Types:\n",
        "    - 1 of datetime obj\n",
        "    - 6 int numbers\n",
        "    - 5 objects (strings)"
      ],
      "metadata": {
        "id": "-AHZ7lZHRBBR"
      }
    },
    {
      "cell_type": "markdown",
      "source": [
        "We need to optimze this as much as possible!\n",
        "\n",
        "One way to drop columns that have no significant meaning or convert the dtype to something more efficient.\n",
        "- like objects ==> category"
      ],
      "metadata": {
        "id": "luWStUuKP1c8"
      }
    },
    {
      "cell_type": "markdown",
      "source": [
        "### Inspect for NaNs"
      ],
      "metadata": {
        "id": "OYYamOpvKSs-"
      }
    },
    {
      "cell_type": "code",
      "source": [
        "# Check NaNs for the entire DataFrame\n",
        "df.isna().sum()"
      ],
      "metadata": {
        "colab": {
          "base_uri": "https://localhost:8080/"
        },
        "id": "Df8hONdyq6zF",
        "outputId": "98c505f6-a94d-4266-d335-6c0567018aec"
      },
      "execution_count": 8,
      "outputs": [
        {
          "output_type": "execute_result",
          "data": {
            "text/plain": [
              "date_                   0\n",
              "user_id_maped           0\n",
              "program_name            0\n",
              "duration_seconds        0\n",
              "program_class           0\n",
              "season                  0\n",
              "episode                 0\n",
              "program_desc        43965\n",
              "program_genre           0\n",
              "series_title            0\n",
              "hd                      0\n",
              "original_name           0\n",
              "dtype: int64"
            ]
          },
          "metadata": {},
          "execution_count": 8
        }
      ]
    },
    {
      "cell_type": "code",
      "source": [
        "# Check if there's NaNs value \n",
        "print(df[\"program_class\"].unique(), \"\\n\")\n",
        "\n",
        "# inspect the Genres we have\n",
        "print(df[\"program_genre\"].unique(), \"\\n\")\n",
        "\n",
        "# Check No. Of Unique original names \n",
        "df[\"original_name\"].nunique()"
      ],
      "metadata": {
        "colab": {
          "base_uri": "https://localhost:8080/"
        },
        "id": "GW_xv0vD6Kij",
        "outputId": "4873bcdf-5ab8-4f88-8954-320afdf3e16a"
      },
      "execution_count": 9,
      "outputs": [
        {
          "output_type": "stream",
          "name": "stdout",
          "text": [
            "['MOVIE' 'SERIES/EPISODES'] \n",
            "\n",
            "['Drama' 'Animation' 'Biography' 'Action' 'Comedy' 'Horror'\n",
            " 'NOT_DEFINED_IN_UMS' 'Thriller' 'Documentary' 'Crime' 'Family' 'Romance'\n",
            " 'Sci-Fi' 'Adventure' 'SERIES_NOT_ADDED_UNDER_ANY_GENRE' 'Wrestling'] \n",
            "\n"
          ]
        },
        {
          "output_type": "execute_result",
          "data": {
            "text/plain": [
              "1828"
            ]
          },
          "metadata": {},
          "execution_count": 9
        }
      ]
    },
    {
      "cell_type": "markdown",
      "source": [
        "We need to check for NaNs because the .astype() will error out if one value in this column have Nulls.\n",
        "\n",
        "And .unique() is the perfect for inspecting this case because if there's a null it'll show in the array above. Unlike .nunique() Method which doesn't count up the NaNs"
      ],
      "metadata": {
        "id": "qwwZrWGKQGk0"
      }
    },
    {
      "cell_type": "markdown",
      "source": [
        "### Time to optimize the DataFrame a little bit"
      ],
      "metadata": {
        "id": "V-9k_vS3KY5-"
      }
    },
    {
      "cell_type": "code",
      "source": [
        "# Converting to category to optimize the DataFrame memory allocation \n",
        "df[\"program_class\"] = df[\"program_class\"].astype(\"category\")\n",
        "df[\"program_genre\"] = df[\"program_genre\"].astype(\"category\")\n",
        "df[\"original_name\"] = df[\"original_name\"].astype(\"category\")"
      ],
      "metadata": {
        "id": "XjIIq-dw9232"
      },
      "execution_count": 10,
      "outputs": []
    },
    {
      "cell_type": "code",
      "source": [
        "# Check for DF memory allocation after small optimization\n",
        "df.info()"
      ],
      "metadata": {
        "colab": {
          "base_uri": "https://localhost:8080/"
        },
        "id": "8pXXeZtjxi8g",
        "outputId": "442249b6-1c0e-451e-df65-0eb21950c61a"
      },
      "execution_count": 11,
      "outputs": [
        {
          "output_type": "stream",
          "name": "stdout",
          "text": [
            "<class 'pandas.core.frame.DataFrame'>\n",
            "RangeIndex: 3598607 entries, 0 to 3598606\n",
            "Data columns (total 12 columns):\n",
            " #   Column            Dtype         \n",
            "---  ------            -----         \n",
            " 0   date_             datetime64[ns]\n",
            " 1   user_id_maped     int64         \n",
            " 2   program_name      object        \n",
            " 3   duration_seconds  int64         \n",
            " 4   program_class     category      \n",
            " 5   season            int64         \n",
            " 6   episode           int64         \n",
            " 7   program_desc      object        \n",
            " 8   program_genre     category      \n",
            " 9   series_title      int64         \n",
            " 10  hd                int64         \n",
            " 11  original_name     category      \n",
            "dtypes: category(3), datetime64[ns](1), int64(6), object(2)\n",
            "memory usage: 260.9+ MB\n"
          ]
        }
      ]
    },
    {
      "cell_type": "markdown",
      "source": [
        "Nice! we can see here we optimized the Dataframe By = ~20%\n",
        "\n",
        "That's a good amount for a DataFrame of 3M rows!"
      ],
      "metadata": {
        "id": "6lcT3YOzxubc"
      }
    },
    {
      "cell_type": "markdown",
      "source": [
        "Lets see what're the genres in this one \"SERIES_NOT_ADDED_UNDER_ANY_GENRE\" AND \"NOT_DEFINED_IN_UMS\" and see maybe we can interpret something ?"
      ],
      "metadata": {
        "id": "8BeebGj6AfD9"
      }
    },
    {
      "cell_type": "markdown",
      "source": [
        "### Inspect an unknown genre"
      ],
      "metadata": {
        "id": "kUZ1kX8CK29_"
      }
    },
    {
      "cell_type": "code",
      "source": [
        "# inspect the \"SERIES_NOT_ADDED_UNDER_ANY_GENRE\" Genre\n",
        "mask = df[\"program_genre\"] == \"SERIES_NOT_ADDED_UNDER_ANY_GENRE\"\n",
        "df[mask].head(3)"
      ],
      "metadata": {
        "colab": {
          "base_uri": "https://localhost:8080/",
          "height": 309
        },
        "id": "7yNcD-yq__Et",
        "outputId": "8f9fdbaf-2ca0-49d3-8aa4-5871ba516220"
      },
      "execution_count": 12,
      "outputs": [
        {
          "output_type": "execute_result",
          "data": {
            "text/plain": [
              "           date_  user_id_maped                           program_name  \\\n",
              "5787  2017-11-12           7235                          Harry    Ep1    \n",
              "16061 2017-11-24          26687  Friends     The One Where Emma Cries    \n",
              "19335 2018-01-27          19450  Friends     The One Where Emma Cries    \n",
              "\n",
              "       duration_seconds    program_class  season  episode  \\\n",
              "5787                  9  SERIES/EPISODES       1        1   \n",
              "16061              1335  SERIES/EPISODES       9        2   \n",
              "19335              1332  SERIES/EPISODES       9        2   \n",
              "\n",
              "                                    program_desc  \\\n",
              "5787                                         NaN   \n",
              "16061  Comedy MovieThe One Where Emma Cries (HD)   \n",
              "19335  Comedy MovieThe One Where Emma Cries (HD)   \n",
              "\n",
              "                          program_genre  series_title  hd original_name  \n",
              "5787   SERIES_NOT_ADDED_UNDER_ANY_GENRE             0   0       Harry    \n",
              "16061  SERIES_NOT_ADDED_UNDER_ANY_GENRE             0   0     Friends    \n",
              "19335  SERIES_NOT_ADDED_UNDER_ANY_GENRE             0   0     Friends    "
            ],
            "text/html": [
              "\n",
              "  <div id=\"df-991b17ac-a347-4c74-92bb-61c45602cd80\">\n",
              "    <div class=\"colab-df-container\">\n",
              "      <div>\n",
              "<style scoped>\n",
              "    .dataframe tbody tr th:only-of-type {\n",
              "        vertical-align: middle;\n",
              "    }\n",
              "\n",
              "    .dataframe tbody tr th {\n",
              "        vertical-align: top;\n",
              "    }\n",
              "\n",
              "    .dataframe thead th {\n",
              "        text-align: right;\n",
              "    }\n",
              "</style>\n",
              "<table border=\"1\" class=\"dataframe\">\n",
              "  <thead>\n",
              "    <tr style=\"text-align: right;\">\n",
              "      <th></th>\n",
              "      <th>date_</th>\n",
              "      <th>user_id_maped</th>\n",
              "      <th>program_name</th>\n",
              "      <th>duration_seconds</th>\n",
              "      <th>program_class</th>\n",
              "      <th>season</th>\n",
              "      <th>episode</th>\n",
              "      <th>program_desc</th>\n",
              "      <th>program_genre</th>\n",
              "      <th>series_title</th>\n",
              "      <th>hd</th>\n",
              "      <th>original_name</th>\n",
              "    </tr>\n",
              "  </thead>\n",
              "  <tbody>\n",
              "    <tr>\n",
              "      <th>5787</th>\n",
              "      <td>2017-11-12</td>\n",
              "      <td>7235</td>\n",
              "      <td>Harry    Ep1</td>\n",
              "      <td>9</td>\n",
              "      <td>SERIES/EPISODES</td>\n",
              "      <td>1</td>\n",
              "      <td>1</td>\n",
              "      <td>NaN</td>\n",
              "      <td>SERIES_NOT_ADDED_UNDER_ANY_GENRE</td>\n",
              "      <td>0</td>\n",
              "      <td>0</td>\n",
              "      <td>Harry</td>\n",
              "    </tr>\n",
              "    <tr>\n",
              "      <th>16061</th>\n",
              "      <td>2017-11-24</td>\n",
              "      <td>26687</td>\n",
              "      <td>Friends     The One Where Emma Cries</td>\n",
              "      <td>1335</td>\n",
              "      <td>SERIES/EPISODES</td>\n",
              "      <td>9</td>\n",
              "      <td>2</td>\n",
              "      <td>Comedy MovieThe One Where Emma Cries (HD)</td>\n",
              "      <td>SERIES_NOT_ADDED_UNDER_ANY_GENRE</td>\n",
              "      <td>0</td>\n",
              "      <td>0</td>\n",
              "      <td>Friends</td>\n",
              "    </tr>\n",
              "    <tr>\n",
              "      <th>19335</th>\n",
              "      <td>2018-01-27</td>\n",
              "      <td>19450</td>\n",
              "      <td>Friends     The One Where Emma Cries</td>\n",
              "      <td>1332</td>\n",
              "      <td>SERIES/EPISODES</td>\n",
              "      <td>9</td>\n",
              "      <td>2</td>\n",
              "      <td>Comedy MovieThe One Where Emma Cries (HD)</td>\n",
              "      <td>SERIES_NOT_ADDED_UNDER_ANY_GENRE</td>\n",
              "      <td>0</td>\n",
              "      <td>0</td>\n",
              "      <td>Friends</td>\n",
              "    </tr>\n",
              "  </tbody>\n",
              "</table>\n",
              "</div>\n",
              "      <button class=\"colab-df-convert\" onclick=\"convertToInteractive('df-991b17ac-a347-4c74-92bb-61c45602cd80')\"\n",
              "              title=\"Convert this dataframe to an interactive table.\"\n",
              "              style=\"display:none;\">\n",
              "        \n",
              "  <svg xmlns=\"http://www.w3.org/2000/svg\" height=\"24px\"viewBox=\"0 0 24 24\"\n",
              "       width=\"24px\">\n",
              "    <path d=\"M0 0h24v24H0V0z\" fill=\"none\"/>\n",
              "    <path d=\"M18.56 5.44l.94 2.06.94-2.06 2.06-.94-2.06-.94-.94-2.06-.94 2.06-2.06.94zm-11 1L8.5 8.5l.94-2.06 2.06-.94-2.06-.94L8.5 2.5l-.94 2.06-2.06.94zm10 10l.94 2.06.94-2.06 2.06-.94-2.06-.94-.94-2.06-.94 2.06-2.06.94z\"/><path d=\"M17.41 7.96l-1.37-1.37c-.4-.4-.92-.59-1.43-.59-.52 0-1.04.2-1.43.59L10.3 9.45l-7.72 7.72c-.78.78-.78 2.05 0 2.83L4 21.41c.39.39.9.59 1.41.59.51 0 1.02-.2 1.41-.59l7.78-7.78 2.81-2.81c.8-.78.8-2.07 0-2.86zM5.41 20L4 18.59l7.72-7.72 1.47 1.35L5.41 20z\"/>\n",
              "  </svg>\n",
              "      </button>\n",
              "      \n",
              "  <style>\n",
              "    .colab-df-container {\n",
              "      display:flex;\n",
              "      flex-wrap:wrap;\n",
              "      gap: 12px;\n",
              "    }\n",
              "\n",
              "    .colab-df-convert {\n",
              "      background-color: #E8F0FE;\n",
              "      border: none;\n",
              "      border-radius: 50%;\n",
              "      cursor: pointer;\n",
              "      display: none;\n",
              "      fill: #1967D2;\n",
              "      height: 32px;\n",
              "      padding: 0 0 0 0;\n",
              "      width: 32px;\n",
              "    }\n",
              "\n",
              "    .colab-df-convert:hover {\n",
              "      background-color: #E2EBFA;\n",
              "      box-shadow: 0px 1px 2px rgba(60, 64, 67, 0.3), 0px 1px 3px 1px rgba(60, 64, 67, 0.15);\n",
              "      fill: #174EA6;\n",
              "    }\n",
              "\n",
              "    [theme=dark] .colab-df-convert {\n",
              "      background-color: #3B4455;\n",
              "      fill: #D2E3FC;\n",
              "    }\n",
              "\n",
              "    [theme=dark] .colab-df-convert:hover {\n",
              "      background-color: #434B5C;\n",
              "      box-shadow: 0px 1px 3px 1px rgba(0, 0, 0, 0.15);\n",
              "      filter: drop-shadow(0px 1px 2px rgba(0, 0, 0, 0.3));\n",
              "      fill: #FFFFFF;\n",
              "    }\n",
              "  </style>\n",
              "\n",
              "      <script>\n",
              "        const buttonEl =\n",
              "          document.querySelector('#df-991b17ac-a347-4c74-92bb-61c45602cd80 button.colab-df-convert');\n",
              "        buttonEl.style.display =\n",
              "          google.colab.kernel.accessAllowed ? 'block' : 'none';\n",
              "\n",
              "        async function convertToInteractive(key) {\n",
              "          const element = document.querySelector('#df-991b17ac-a347-4c74-92bb-61c45602cd80');\n",
              "          const dataTable =\n",
              "            await google.colab.kernel.invokeFunction('convertToInteractive',\n",
              "                                                     [key], {});\n",
              "          if (!dataTable) return;\n",
              "\n",
              "          const docLinkHtml = 'Like what you see? Visit the ' +\n",
              "            '<a target=\"_blank\" href=https://colab.research.google.com/notebooks/data_table.ipynb>data table notebook</a>'\n",
              "            + ' to learn more about interactive tables.';\n",
              "          element.innerHTML = '';\n",
              "          dataTable['output_type'] = 'display_data';\n",
              "          await google.colab.output.renderOutput(dataTable, element);\n",
              "          const docLink = document.createElement('div');\n",
              "          docLink.innerHTML = docLinkHtml;\n",
              "          element.appendChild(docLink);\n",
              "        }\n",
              "      </script>\n",
              "    </div>\n",
              "  </div>\n",
              "  "
            ]
          },
          "metadata": {},
          "execution_count": 12
        }
      ]
    },
    {
      "cell_type": "code",
      "source": [
        "# Number of Series/Episode that doesn't belong to \"SERIES_NOT_ADDED_UNDER_ANY_GENRE\"\n",
        "df[~mask][\"program_class\"].value_counts()"
      ],
      "metadata": {
        "colab": {
          "base_uri": "https://localhost:8080/"
        },
        "id": "z7pJvXv1c5hs",
        "outputId": "23ac7ca0-03dc-4c02-9edb-9ca2a3bec501"
      },
      "execution_count": 13,
      "outputs": [
        {
          "output_type": "execute_result",
          "data": {
            "text/plain": [
              "SERIES/EPISODES    2052817\n",
              "MOVIE              1544952\n",
              "Name: program_class, dtype: int64"
            ]
          },
          "metadata": {},
          "execution_count": 13
        }
      ]
    },
    {
      "cell_type": "code",
      "source": [
        "# Number of Series/Episode that belong to \"SERIES_NOT_ADDED_UNDER_ANY_GENRE\"\n",
        "df[mask][\"program_class\"].value_counts()"
      ],
      "metadata": {
        "colab": {
          "base_uri": "https://localhost:8080/"
        },
        "id": "2oPEJL2pbezf",
        "outputId": "041a3109-6110-4bbd-a5f3-67f9b5f4ff96"
      },
      "execution_count": 14,
      "outputs": [
        {
          "output_type": "execute_result",
          "data": {
            "text/plain": [
              "SERIES/EPISODES    838\n",
              "MOVIE                0\n",
              "Name: program_class, dtype: int64"
            ]
          },
          "metadata": {},
          "execution_count": 14
        }
      ]
    },
    {
      "cell_type": "code",
      "source": [
        "def get_percentage(numerator, denominator):\n",
        "    \"\"\"\n",
        "    Get the percentage of two numbers.\n",
        "\n",
        "    Args:\n",
        "    numerator: Accepts a number whether (int, float, etc..).\n",
        "    denominator: Accept a number which is not a zero.\n",
        "\n",
        "    Returns:\n",
        "    Percentage in string format\n",
        "    \"\"\"\n",
        "    if denominator <= 0:\n",
        "        raise Exception(\"Please the number is ZERO in denominator, We can't divide by zero!\")\n",
        "    return f\"{(numerator / denominator) * 100:.2f}%\""
      ],
      "metadata": {
        "id": "XBG0PFythPsb"
      },
      "execution_count": 15,
      "outputs": []
    },
    {
      "cell_type": "code",
      "source": [
        "get_percentage(df[mask][\"program_class\"].value_counts()[0], df[~mask][\"program_class\"].value_counts()[0])"
      ],
      "metadata": {
        "colab": {
          "base_uri": "https://localhost:8080/",
          "height": 36
        },
        "id": "xab3sbvCiD79",
        "outputId": "713b371e-07ae-40a3-cb44-058d6ed3ce58"
      },
      "execution_count": 16,
      "outputs": [
        {
          "output_type": "execute_result",
          "data": {
            "text/plain": [
              "'0.04%'"
            ],
            "application/vnd.google.colaboratory.intrinsic+json": {
              "type": "string"
            }
          },
          "metadata": {},
          "execution_count": 16
        }
      ]
    },
    {
      "cell_type": "code",
      "source": [
        "# Free up memory\n",
        "del mask"
      ],
      "metadata": {
        "id": "ebD3z-lbTxNj"
      },
      "execution_count": 17,
      "outputs": []
    },
    {
      "cell_type": "code",
      "source": [
        "# Check The \"NOT_DEFINED_IN_UMS\" Genre\n",
        "mask2 = df[\"program_genre\"] == \"NOT_DEFINED_IN_UMS\"\n",
        "df[mask2].head(3)"
      ],
      "metadata": {
        "colab": {
          "base_uri": "https://localhost:8080/",
          "height": 143
        },
        "id": "WE_pFsd4ZKJy",
        "outputId": "7f8e6547-c6d6-4ccd-dc6e-685f4a32fafc"
      },
      "execution_count": 18,
      "outputs": [
        {
          "output_type": "execute_result",
          "data": {
            "text/plain": [
              "         date_  user_id_maped program_name  duration_seconds program_class  \\\n",
              "60  2018-01-02          21795     Dunkirk               6433         MOVIE   \n",
              "242 2018-01-07           2711     Dunkirk                 75         MOVIE   \n",
              "244 2018-04-14          22430     Dunkirk                 15         MOVIE   \n",
              "\n",
              "     season  episode program_desc       program_genre  series_title  hd  \\\n",
              "60        0        0          NaN  NOT_DEFINED_IN_UMS             0   1   \n",
              "242       0        0          NaN  NOT_DEFINED_IN_UMS             0   1   \n",
              "244       0        0          NaN  NOT_DEFINED_IN_UMS             0   1   \n",
              "\n",
              "    original_name  \n",
              "60        Dunkirk  \n",
              "242       Dunkirk  \n",
              "244       Dunkirk  "
            ],
            "text/html": [
              "\n",
              "  <div id=\"df-0efedc1c-5dc1-4c85-be4f-b6105fed8d19\">\n",
              "    <div class=\"colab-df-container\">\n",
              "      <div>\n",
              "<style scoped>\n",
              "    .dataframe tbody tr th:only-of-type {\n",
              "        vertical-align: middle;\n",
              "    }\n",
              "\n",
              "    .dataframe tbody tr th {\n",
              "        vertical-align: top;\n",
              "    }\n",
              "\n",
              "    .dataframe thead th {\n",
              "        text-align: right;\n",
              "    }\n",
              "</style>\n",
              "<table border=\"1\" class=\"dataframe\">\n",
              "  <thead>\n",
              "    <tr style=\"text-align: right;\">\n",
              "      <th></th>\n",
              "      <th>date_</th>\n",
              "      <th>user_id_maped</th>\n",
              "      <th>program_name</th>\n",
              "      <th>duration_seconds</th>\n",
              "      <th>program_class</th>\n",
              "      <th>season</th>\n",
              "      <th>episode</th>\n",
              "      <th>program_desc</th>\n",
              "      <th>program_genre</th>\n",
              "      <th>series_title</th>\n",
              "      <th>hd</th>\n",
              "      <th>original_name</th>\n",
              "    </tr>\n",
              "  </thead>\n",
              "  <tbody>\n",
              "    <tr>\n",
              "      <th>60</th>\n",
              "      <td>2018-01-02</td>\n",
              "      <td>21795</td>\n",
              "      <td>Dunkirk</td>\n",
              "      <td>6433</td>\n",
              "      <td>MOVIE</td>\n",
              "      <td>0</td>\n",
              "      <td>0</td>\n",
              "      <td>NaN</td>\n",
              "      <td>NOT_DEFINED_IN_UMS</td>\n",
              "      <td>0</td>\n",
              "      <td>1</td>\n",
              "      <td>Dunkirk</td>\n",
              "    </tr>\n",
              "    <tr>\n",
              "      <th>242</th>\n",
              "      <td>2018-01-07</td>\n",
              "      <td>2711</td>\n",
              "      <td>Dunkirk</td>\n",
              "      <td>75</td>\n",
              "      <td>MOVIE</td>\n",
              "      <td>0</td>\n",
              "      <td>0</td>\n",
              "      <td>NaN</td>\n",
              "      <td>NOT_DEFINED_IN_UMS</td>\n",
              "      <td>0</td>\n",
              "      <td>1</td>\n",
              "      <td>Dunkirk</td>\n",
              "    </tr>\n",
              "    <tr>\n",
              "      <th>244</th>\n",
              "      <td>2018-04-14</td>\n",
              "      <td>22430</td>\n",
              "      <td>Dunkirk</td>\n",
              "      <td>15</td>\n",
              "      <td>MOVIE</td>\n",
              "      <td>0</td>\n",
              "      <td>0</td>\n",
              "      <td>NaN</td>\n",
              "      <td>NOT_DEFINED_IN_UMS</td>\n",
              "      <td>0</td>\n",
              "      <td>1</td>\n",
              "      <td>Dunkirk</td>\n",
              "    </tr>\n",
              "  </tbody>\n",
              "</table>\n",
              "</div>\n",
              "      <button class=\"colab-df-convert\" onclick=\"convertToInteractive('df-0efedc1c-5dc1-4c85-be4f-b6105fed8d19')\"\n",
              "              title=\"Convert this dataframe to an interactive table.\"\n",
              "              style=\"display:none;\">\n",
              "        \n",
              "  <svg xmlns=\"http://www.w3.org/2000/svg\" height=\"24px\"viewBox=\"0 0 24 24\"\n",
              "       width=\"24px\">\n",
              "    <path d=\"M0 0h24v24H0V0z\" fill=\"none\"/>\n",
              "    <path d=\"M18.56 5.44l.94 2.06.94-2.06 2.06-.94-2.06-.94-.94-2.06-.94 2.06-2.06.94zm-11 1L8.5 8.5l.94-2.06 2.06-.94-2.06-.94L8.5 2.5l-.94 2.06-2.06.94zm10 10l.94 2.06.94-2.06 2.06-.94-2.06-.94-.94-2.06-.94 2.06-2.06.94z\"/><path d=\"M17.41 7.96l-1.37-1.37c-.4-.4-.92-.59-1.43-.59-.52 0-1.04.2-1.43.59L10.3 9.45l-7.72 7.72c-.78.78-.78 2.05 0 2.83L4 21.41c.39.39.9.59 1.41.59.51 0 1.02-.2 1.41-.59l7.78-7.78 2.81-2.81c.8-.78.8-2.07 0-2.86zM5.41 20L4 18.59l7.72-7.72 1.47 1.35L5.41 20z\"/>\n",
              "  </svg>\n",
              "      </button>\n",
              "      \n",
              "  <style>\n",
              "    .colab-df-container {\n",
              "      display:flex;\n",
              "      flex-wrap:wrap;\n",
              "      gap: 12px;\n",
              "    }\n",
              "\n",
              "    .colab-df-convert {\n",
              "      background-color: #E8F0FE;\n",
              "      border: none;\n",
              "      border-radius: 50%;\n",
              "      cursor: pointer;\n",
              "      display: none;\n",
              "      fill: #1967D2;\n",
              "      height: 32px;\n",
              "      padding: 0 0 0 0;\n",
              "      width: 32px;\n",
              "    }\n",
              "\n",
              "    .colab-df-convert:hover {\n",
              "      background-color: #E2EBFA;\n",
              "      box-shadow: 0px 1px 2px rgba(60, 64, 67, 0.3), 0px 1px 3px 1px rgba(60, 64, 67, 0.15);\n",
              "      fill: #174EA6;\n",
              "    }\n",
              "\n",
              "    [theme=dark] .colab-df-convert {\n",
              "      background-color: #3B4455;\n",
              "      fill: #D2E3FC;\n",
              "    }\n",
              "\n",
              "    [theme=dark] .colab-df-convert:hover {\n",
              "      background-color: #434B5C;\n",
              "      box-shadow: 0px 1px 3px 1px rgba(0, 0, 0, 0.15);\n",
              "      filter: drop-shadow(0px 1px 2px rgba(0, 0, 0, 0.3));\n",
              "      fill: #FFFFFF;\n",
              "    }\n",
              "  </style>\n",
              "\n",
              "      <script>\n",
              "        const buttonEl =\n",
              "          document.querySelector('#df-0efedc1c-5dc1-4c85-be4f-b6105fed8d19 button.colab-df-convert');\n",
              "        buttonEl.style.display =\n",
              "          google.colab.kernel.accessAllowed ? 'block' : 'none';\n",
              "\n",
              "        async function convertToInteractive(key) {\n",
              "          const element = document.querySelector('#df-0efedc1c-5dc1-4c85-be4f-b6105fed8d19');\n",
              "          const dataTable =\n",
              "            await google.colab.kernel.invokeFunction('convertToInteractive',\n",
              "                                                     [key], {});\n",
              "          if (!dataTable) return;\n",
              "\n",
              "          const docLinkHtml = 'Like what you see? Visit the ' +\n",
              "            '<a target=\"_blank\" href=https://colab.research.google.com/notebooks/data_table.ipynb>data table notebook</a>'\n",
              "            + ' to learn more about interactive tables.';\n",
              "          element.innerHTML = '';\n",
              "          dataTable['output_type'] = 'display_data';\n",
              "          await google.colab.output.renderOutput(dataTable, element);\n",
              "          const docLink = document.createElement('div');\n",
              "          docLink.innerHTML = docLinkHtml;\n",
              "          element.appendChild(docLink);\n",
              "        }\n",
              "      </script>\n",
              "    </div>\n",
              "  </div>\n",
              "  "
            ]
          },
          "metadata": {},
          "execution_count": 18
        }
      ]
    },
    {
      "cell_type": "code",
      "source": [
        "# Check how many in movie or series this genre have \"NOT_DEFINED_IN_UMS\"\n",
        "df[mask2][\"program_class\"].value_counts()"
      ],
      "metadata": {
        "colab": {
          "base_uri": "https://localhost:8080/"
        },
        "id": "PuOCTEo7bt0A",
        "outputId": "20817d87-54a2-4ee0-ec20-4de4a16181af"
      },
      "execution_count": 19,
      "outputs": [
        {
          "output_type": "execute_result",
          "data": {
            "text/plain": [
              "MOVIE              11775\n",
              "SERIES/EPISODES        0\n",
              "Name: program_class, dtype: int64"
            ]
          },
          "metadata": {},
          "execution_count": 19
        }
      ]
    },
    {
      "cell_type": "code",
      "source": [
        "# Number of Movie that doesn't belong to \"NOT_DEFINED_IN_UMS\"\n",
        "df[~mask2][\"program_class\"].value_counts()"
      ],
      "metadata": {
        "colab": {
          "base_uri": "https://localhost:8080/"
        },
        "id": "K6sW4ccIjlB-",
        "outputId": "aeae9cfb-c4ce-4827-8f0a-a117f48faf93"
      },
      "execution_count": 20,
      "outputs": [
        {
          "output_type": "execute_result",
          "data": {
            "text/plain": [
              "SERIES/EPISODES    2053655\n",
              "MOVIE              1533177\n",
              "Name: program_class, dtype: int64"
            ]
          },
          "metadata": {},
          "execution_count": 20
        }
      ]
    },
    {
      "cell_type": "code",
      "source": [
        "# Check how many movies or series/episodes belong to this Genre\n",
        "df[mask2][\"program_name\"].value_counts()"
      ],
      "metadata": {
        "colab": {
          "base_uri": "https://localhost:8080/"
        },
        "id": "kEIouWIiZ7OZ",
        "outputId": "957baa05-b82f-4bde-d0cd-553113555bd0"
      },
      "execution_count": 21,
      "outputs": [
        {
          "output_type": "execute_result",
          "data": {
            "text/plain": [
              "Dunkirk                                             11436\n",
              "Dunkirk                                               336\n",
              "Batman Unlimited: Animal Instincts (for Viewing)        3\n",
              "Name: program_name, dtype: int64"
            ]
          },
          "metadata": {},
          "execution_count": 21
        }
      ]
    },
    {
      "cell_type": "code",
      "source": [
        "# Get the percentage of movie that only belong to this Genre \"NOT_DEFINED_IN_UMS\"\n",
        "get_percentage(df[mask2][\"program_class\"].value_counts().loc[\"MOVIE\"], df[~mask2][\"program_class\"].value_counts().loc[\"MOVIE\"])"
      ],
      "metadata": {
        "colab": {
          "base_uri": "https://localhost:8080/",
          "height": 36
        },
        "id": "zgFPtvO3lZfp",
        "outputId": "4e7a31d3-551d-4a89-ce35-efc7b97db7ea"
      },
      "execution_count": 22,
      "outputs": [
        {
          "output_type": "execute_result",
          "data": {
            "text/plain": [
              "'0.77%'"
            ],
            "application/vnd.google.colaboratory.intrinsic+json": {
              "type": "string"
            }
          },
          "metadata": {},
          "execution_count": 22
        }
      ]
    },
    {
      "cell_type": "markdown",
      "source": [
        "Keypoints for \"SERIES_NOT_ADDED_UNDER_ANY_GENRE\" Genre:\n",
        "\n",
        "- It seems for the genre — \"SERIES_NOT_ADDED_UNDER_ANY_GENRE\" due to some reason Jawwy TV interpret some Series/Episodes as \"SERIES_NOT_ADDED_UNDER_ANY_GENRE\".\n",
        "- ONLY from the program_class of Series/Episodes.\n",
        "- Sums up to 838 Series/Episodes only.\n",
        "- Only 4% of the WHOLE Series/Episodes have the genre of \"SERIES_NOT_ADDED_UNDER_ANY_GENRE\"\n",
        "\n",
        "\n",
        "Keypoints for \"NOT_DEFINED_IN_UMS\" Genre:\n",
        "- Like the above Jawway TV interpreted the 2 movies which are[Dunkirk, Batman Unlimited: Animal Instincts] as this genre.\n",
        "- ONLY from the program_class of \"MOVIE\" belong to this genre.\n",
        "- Sums up to 11775 Movies.\n",
        "- The Percentage of those movies belong to this genre to the whole are 77%."
      ],
      "metadata": {
        "id": "n1WGKuXMZH2y"
      }
    },
    {
      "cell_type": "markdown",
      "source": [
        "### Data Manipulation for column values"
      ],
      "metadata": {
        "id": "T3QVwD2fK_xg"
      }
    },
    {
      "cell_type": "code",
      "source": [
        "# We need to map those Genres to just \"Others\"\n",
        "df[\"program_genre\"] = df[\"program_genre\"].str.replace(\"SERIES_NOT_ADDED_UNDER_ANY_GENRE\", \"Others\")\n",
        "df[\"program_genre\"] = df[\"program_genre\"].str.replace(\"NOT_DEFINED_IN_UMS\", \"Others\")\n",
        "\n",
        "# Capitalize the first Letter of the word in program_class & Change values for visualization later\n",
        "df[\"program_class\"] = df[\"program_class\"].str.replace(\"MOVIE\", \"Movie\")\n",
        "df[\"program_class\"] = df[\"program_class\"].str.replace(\"SERIES/EPISODES\", \"TV Show\")\n",
        "\n",
        "# Change the dtype to category since we have small number of unique values\n",
        "df[\"program_genre\"] = df[\"program_genre\"].astype(\"category\")\n",
        "df[\"program_genre\"].value_counts()"
      ],
      "metadata": {
        "colab": {
          "base_uri": "https://localhost:8080/"
        },
        "id": "bEDmBEHGAWkK",
        "outputId": "20d1660e-6b52-465e-9718-f3009923d619"
      },
      "execution_count": 23,
      "outputs": [
        {
          "output_type": "execute_result",
          "data": {
            "text/plain": [
              "Animation      1524643\n",
              "Action          542541\n",
              "Drama           492508\n",
              "Comedy          448535\n",
              "Horror          226644\n",
              "Thriller        133952\n",
              "Family          102143\n",
              "Documentary      50917\n",
              "Biography        47421\n",
              "Others           12613\n",
              "Crime             9846\n",
              "Sci-Fi            4610\n",
              "Romance           1433\n",
              "Adventure          744\n",
              "Wrestling           57\n",
              "Name: program_genre, dtype: int64"
            ]
          },
          "metadata": {},
          "execution_count": 23
        }
      ]
    },
    {
      "cell_type": "markdown",
      "source": [
        "Since those genres doesn't mean anything important since it's unknown at this moment so we converted them to \"others\"."
      ],
      "metadata": {
        "id": "Yk2WcmRavXgV"
      }
    },
    {
      "cell_type": "markdown",
      "source": [
        "Now for columns we need to change a little bit like date_, user_id_maped etc.."
      ],
      "metadata": {
        "id": "8vMgzn2GyqWP"
      }
    },
    {
      "cell_type": "code",
      "source": [
        "df.head(1)"
      ],
      "metadata": {
        "colab": {
          "base_uri": "https://localhost:8080/",
          "height": 81
        },
        "id": "xIPBrhWR1Koh",
        "outputId": "2394d008-9367-45d6-eef6-c18a589ec012"
      },
      "execution_count": 24,
      "outputs": [
        {
          "output_type": "execute_result",
          "data": {
            "text/plain": [
              "       date_  user_id_maped program_name  duration_seconds program_class  \\\n",
              "0 2017-05-27          26138   100 treets                40         Movie   \n",
              "\n",
              "   season  episode            program_desc program_genre  series_title  hd  \\\n",
              "0       0        0  Drama Movie100 Streets         Drama             0   0   \n",
              "\n",
              "  original_name  \n",
              "0    100 treets  "
            ],
            "text/html": [
              "\n",
              "  <div id=\"df-59a7897e-1490-48d6-9afe-26e5bc6ab94c\">\n",
              "    <div class=\"colab-df-container\">\n",
              "      <div>\n",
              "<style scoped>\n",
              "    .dataframe tbody tr th:only-of-type {\n",
              "        vertical-align: middle;\n",
              "    }\n",
              "\n",
              "    .dataframe tbody tr th {\n",
              "        vertical-align: top;\n",
              "    }\n",
              "\n",
              "    .dataframe thead th {\n",
              "        text-align: right;\n",
              "    }\n",
              "</style>\n",
              "<table border=\"1\" class=\"dataframe\">\n",
              "  <thead>\n",
              "    <tr style=\"text-align: right;\">\n",
              "      <th></th>\n",
              "      <th>date_</th>\n",
              "      <th>user_id_maped</th>\n",
              "      <th>program_name</th>\n",
              "      <th>duration_seconds</th>\n",
              "      <th>program_class</th>\n",
              "      <th>season</th>\n",
              "      <th>episode</th>\n",
              "      <th>program_desc</th>\n",
              "      <th>program_genre</th>\n",
              "      <th>series_title</th>\n",
              "      <th>hd</th>\n",
              "      <th>original_name</th>\n",
              "    </tr>\n",
              "  </thead>\n",
              "  <tbody>\n",
              "    <tr>\n",
              "      <th>0</th>\n",
              "      <td>2017-05-27</td>\n",
              "      <td>26138</td>\n",
              "      <td>100 treets</td>\n",
              "      <td>40</td>\n",
              "      <td>Movie</td>\n",
              "      <td>0</td>\n",
              "      <td>0</td>\n",
              "      <td>Drama Movie100 Streets</td>\n",
              "      <td>Drama</td>\n",
              "      <td>0</td>\n",
              "      <td>0</td>\n",
              "      <td>100 treets</td>\n",
              "    </tr>\n",
              "  </tbody>\n",
              "</table>\n",
              "</div>\n",
              "      <button class=\"colab-df-convert\" onclick=\"convertToInteractive('df-59a7897e-1490-48d6-9afe-26e5bc6ab94c')\"\n",
              "              title=\"Convert this dataframe to an interactive table.\"\n",
              "              style=\"display:none;\">\n",
              "        \n",
              "  <svg xmlns=\"http://www.w3.org/2000/svg\" height=\"24px\"viewBox=\"0 0 24 24\"\n",
              "       width=\"24px\">\n",
              "    <path d=\"M0 0h24v24H0V0z\" fill=\"none\"/>\n",
              "    <path d=\"M18.56 5.44l.94 2.06.94-2.06 2.06-.94-2.06-.94-.94-2.06-.94 2.06-2.06.94zm-11 1L8.5 8.5l.94-2.06 2.06-.94-2.06-.94L8.5 2.5l-.94 2.06-2.06.94zm10 10l.94 2.06.94-2.06 2.06-.94-2.06-.94-.94-2.06-.94 2.06-2.06.94z\"/><path d=\"M17.41 7.96l-1.37-1.37c-.4-.4-.92-.59-1.43-.59-.52 0-1.04.2-1.43.59L10.3 9.45l-7.72 7.72c-.78.78-.78 2.05 0 2.83L4 21.41c.39.39.9.59 1.41.59.51 0 1.02-.2 1.41-.59l7.78-7.78 2.81-2.81c.8-.78.8-2.07 0-2.86zM5.41 20L4 18.59l7.72-7.72 1.47 1.35L5.41 20z\"/>\n",
              "  </svg>\n",
              "      </button>\n",
              "      \n",
              "  <style>\n",
              "    .colab-df-container {\n",
              "      display:flex;\n",
              "      flex-wrap:wrap;\n",
              "      gap: 12px;\n",
              "    }\n",
              "\n",
              "    .colab-df-convert {\n",
              "      background-color: #E8F0FE;\n",
              "      border: none;\n",
              "      border-radius: 50%;\n",
              "      cursor: pointer;\n",
              "      display: none;\n",
              "      fill: #1967D2;\n",
              "      height: 32px;\n",
              "      padding: 0 0 0 0;\n",
              "      width: 32px;\n",
              "    }\n",
              "\n",
              "    .colab-df-convert:hover {\n",
              "      background-color: #E2EBFA;\n",
              "      box-shadow: 0px 1px 2px rgba(60, 64, 67, 0.3), 0px 1px 3px 1px rgba(60, 64, 67, 0.15);\n",
              "      fill: #174EA6;\n",
              "    }\n",
              "\n",
              "    [theme=dark] .colab-df-convert {\n",
              "      background-color: #3B4455;\n",
              "      fill: #D2E3FC;\n",
              "    }\n",
              "\n",
              "    [theme=dark] .colab-df-convert:hover {\n",
              "      background-color: #434B5C;\n",
              "      box-shadow: 0px 1px 3px 1px rgba(0, 0, 0, 0.15);\n",
              "      filter: drop-shadow(0px 1px 2px rgba(0, 0, 0, 0.3));\n",
              "      fill: #FFFFFF;\n",
              "    }\n",
              "  </style>\n",
              "\n",
              "      <script>\n",
              "        const buttonEl =\n",
              "          document.querySelector('#df-59a7897e-1490-48d6-9afe-26e5bc6ab94c button.colab-df-convert');\n",
              "        buttonEl.style.display =\n",
              "          google.colab.kernel.accessAllowed ? 'block' : 'none';\n",
              "\n",
              "        async function convertToInteractive(key) {\n",
              "          const element = document.querySelector('#df-59a7897e-1490-48d6-9afe-26e5bc6ab94c');\n",
              "          const dataTable =\n",
              "            await google.colab.kernel.invokeFunction('convertToInteractive',\n",
              "                                                     [key], {});\n",
              "          if (!dataTable) return;\n",
              "\n",
              "          const docLinkHtml = 'Like what you see? Visit the ' +\n",
              "            '<a target=\"_blank\" href=https://colab.research.google.com/notebooks/data_table.ipynb>data table notebook</a>'\n",
              "            + ' to learn more about interactive tables.';\n",
              "          element.innerHTML = '';\n",
              "          dataTable['output_type'] = 'display_data';\n",
              "          await google.colab.output.renderOutput(dataTable, element);\n",
              "          const docLink = document.createElement('div');\n",
              "          docLink.innerHTML = docLinkHtml;\n",
              "          element.appendChild(docLink);\n",
              "        }\n",
              "      </script>\n",
              "    </div>\n",
              "  </div>\n",
              "  "
            ]
          },
          "metadata": {},
          "execution_count": 24
        }
      ]
    },
    {
      "cell_type": "markdown",
      "source": [
        "#### Change some column names to better ones IMHO"
      ],
      "metadata": {
        "id": "Di6yxG2zLSKS"
      }
    },
    {
      "cell_type": "code",
      "source": [
        "# Rename the columns to new ones\n",
        "df.rename(columns={\"date_\": \"date\",\n",
        "                   \"user_id_maped\": \"user_id\",\n",
        "                   \"program_class\": \"program_type\"}, inplace=True)\n",
        "df.head(1)"
      ],
      "metadata": {
        "colab": {
          "base_uri": "https://localhost:8080/",
          "height": 81
        },
        "id": "GGdRkTtuyQWS",
        "outputId": "ea3f9a06-d2d4-4b6f-d16f-e98bbde39183"
      },
      "execution_count": 25,
      "outputs": [
        {
          "output_type": "execute_result",
          "data": {
            "text/plain": [
              "        date  user_id program_name  duration_seconds program_type  season  \\\n",
              "0 2017-05-27    26138   100 treets                40        Movie       0   \n",
              "\n",
              "   episode            program_desc program_genre  series_title  hd  \\\n",
              "0        0  Drama Movie100 Streets         Drama             0   0   \n",
              "\n",
              "  original_name  \n",
              "0    100 treets  "
            ],
            "text/html": [
              "\n",
              "  <div id=\"df-85d489d3-0cfb-4d29-82fe-7f0c37b33807\">\n",
              "    <div class=\"colab-df-container\">\n",
              "      <div>\n",
              "<style scoped>\n",
              "    .dataframe tbody tr th:only-of-type {\n",
              "        vertical-align: middle;\n",
              "    }\n",
              "\n",
              "    .dataframe tbody tr th {\n",
              "        vertical-align: top;\n",
              "    }\n",
              "\n",
              "    .dataframe thead th {\n",
              "        text-align: right;\n",
              "    }\n",
              "</style>\n",
              "<table border=\"1\" class=\"dataframe\">\n",
              "  <thead>\n",
              "    <tr style=\"text-align: right;\">\n",
              "      <th></th>\n",
              "      <th>date</th>\n",
              "      <th>user_id</th>\n",
              "      <th>program_name</th>\n",
              "      <th>duration_seconds</th>\n",
              "      <th>program_type</th>\n",
              "      <th>season</th>\n",
              "      <th>episode</th>\n",
              "      <th>program_desc</th>\n",
              "      <th>program_genre</th>\n",
              "      <th>series_title</th>\n",
              "      <th>hd</th>\n",
              "      <th>original_name</th>\n",
              "    </tr>\n",
              "  </thead>\n",
              "  <tbody>\n",
              "    <tr>\n",
              "      <th>0</th>\n",
              "      <td>2017-05-27</td>\n",
              "      <td>26138</td>\n",
              "      <td>100 treets</td>\n",
              "      <td>40</td>\n",
              "      <td>Movie</td>\n",
              "      <td>0</td>\n",
              "      <td>0</td>\n",
              "      <td>Drama Movie100 Streets</td>\n",
              "      <td>Drama</td>\n",
              "      <td>0</td>\n",
              "      <td>0</td>\n",
              "      <td>100 treets</td>\n",
              "    </tr>\n",
              "  </tbody>\n",
              "</table>\n",
              "</div>\n",
              "      <button class=\"colab-df-convert\" onclick=\"convertToInteractive('df-85d489d3-0cfb-4d29-82fe-7f0c37b33807')\"\n",
              "              title=\"Convert this dataframe to an interactive table.\"\n",
              "              style=\"display:none;\">\n",
              "        \n",
              "  <svg xmlns=\"http://www.w3.org/2000/svg\" height=\"24px\"viewBox=\"0 0 24 24\"\n",
              "       width=\"24px\">\n",
              "    <path d=\"M0 0h24v24H0V0z\" fill=\"none\"/>\n",
              "    <path d=\"M18.56 5.44l.94 2.06.94-2.06 2.06-.94-2.06-.94-.94-2.06-.94 2.06-2.06.94zm-11 1L8.5 8.5l.94-2.06 2.06-.94-2.06-.94L8.5 2.5l-.94 2.06-2.06.94zm10 10l.94 2.06.94-2.06 2.06-.94-2.06-.94-.94-2.06-.94 2.06-2.06.94z\"/><path d=\"M17.41 7.96l-1.37-1.37c-.4-.4-.92-.59-1.43-.59-.52 0-1.04.2-1.43.59L10.3 9.45l-7.72 7.72c-.78.78-.78 2.05 0 2.83L4 21.41c.39.39.9.59 1.41.59.51 0 1.02-.2 1.41-.59l7.78-7.78 2.81-2.81c.8-.78.8-2.07 0-2.86zM5.41 20L4 18.59l7.72-7.72 1.47 1.35L5.41 20z\"/>\n",
              "  </svg>\n",
              "      </button>\n",
              "      \n",
              "  <style>\n",
              "    .colab-df-container {\n",
              "      display:flex;\n",
              "      flex-wrap:wrap;\n",
              "      gap: 12px;\n",
              "    }\n",
              "\n",
              "    .colab-df-convert {\n",
              "      background-color: #E8F0FE;\n",
              "      border: none;\n",
              "      border-radius: 50%;\n",
              "      cursor: pointer;\n",
              "      display: none;\n",
              "      fill: #1967D2;\n",
              "      height: 32px;\n",
              "      padding: 0 0 0 0;\n",
              "      width: 32px;\n",
              "    }\n",
              "\n",
              "    .colab-df-convert:hover {\n",
              "      background-color: #E2EBFA;\n",
              "      box-shadow: 0px 1px 2px rgba(60, 64, 67, 0.3), 0px 1px 3px 1px rgba(60, 64, 67, 0.15);\n",
              "      fill: #174EA6;\n",
              "    }\n",
              "\n",
              "    [theme=dark] .colab-df-convert {\n",
              "      background-color: #3B4455;\n",
              "      fill: #D2E3FC;\n",
              "    }\n",
              "\n",
              "    [theme=dark] .colab-df-convert:hover {\n",
              "      background-color: #434B5C;\n",
              "      box-shadow: 0px 1px 3px 1px rgba(0, 0, 0, 0.15);\n",
              "      filter: drop-shadow(0px 1px 2px rgba(0, 0, 0, 0.3));\n",
              "      fill: #FFFFFF;\n",
              "    }\n",
              "  </style>\n",
              "\n",
              "      <script>\n",
              "        const buttonEl =\n",
              "          document.querySelector('#df-85d489d3-0cfb-4d29-82fe-7f0c37b33807 button.colab-df-convert');\n",
              "        buttonEl.style.display =\n",
              "          google.colab.kernel.accessAllowed ? 'block' : 'none';\n",
              "\n",
              "        async function convertToInteractive(key) {\n",
              "          const element = document.querySelector('#df-85d489d3-0cfb-4d29-82fe-7f0c37b33807');\n",
              "          const dataTable =\n",
              "            await google.colab.kernel.invokeFunction('convertToInteractive',\n",
              "                                                     [key], {});\n",
              "          if (!dataTable) return;\n",
              "\n",
              "          const docLinkHtml = 'Like what you see? Visit the ' +\n",
              "            '<a target=\"_blank\" href=https://colab.research.google.com/notebooks/data_table.ipynb>data table notebook</a>'\n",
              "            + ' to learn more about interactive tables.';\n",
              "          element.innerHTML = '';\n",
              "          dataTable['output_type'] = 'display_data';\n",
              "          await google.colab.output.renderOutput(dataTable, element);\n",
              "          const docLink = document.createElement('div');\n",
              "          docLink.innerHTML = docLinkHtml;\n",
              "          element.appendChild(docLink);\n",
              "        }\n",
              "      </script>\n",
              "    </div>\n",
              "  </div>\n",
              "  "
            ]
          },
          "metadata": {},
          "execution_count": 25
        }
      ]
    },
    {
      "cell_type": "markdown",
      "source": [
        "#### Get insight from unkown columns"
      ],
      "metadata": {
        "id": "YHeKMCwSLYfQ"
      }
    },
    {
      "cell_type": "markdown",
      "source": [
        "Lets inspect some the columns such as: hd, season, episode, series_title, duration_seconds. basically the quantitatives."
      ],
      "metadata": {
        "id": "SpW4USnZ63FS"
      }
    },
    {
      "cell_type": "code",
      "source": [
        "# Check for hd values \n",
        "df[\"hd\"].value_counts()"
      ],
      "metadata": {
        "colab": {
          "base_uri": "https://localhost:8080/"
        },
        "id": "fw9ClnyF1fh3",
        "outputId": "270de953-33dd-4e98-83d1-602514a30e17"
      },
      "execution_count": 26,
      "outputs": [
        {
          "output_type": "execute_result",
          "data": {
            "text/plain": [
              "0    2294255\n",
              "1    1304352\n",
              "Name: hd, dtype: int64"
            ]
          },
          "metadata": {},
          "execution_count": 26
        }
      ]
    },
    {
      "cell_type": "code",
      "source": [
        "# Percentage of hd movies + tv shows\n",
        "print(f'{df[\"hd\"].value_counts()[0] / df[\"hd\"].value_counts().sum() * 100:.2f}%')"
      ],
      "metadata": {
        "colab": {
          "base_uri": "https://localhost:8080/"
        },
        "id": "p0YCoe-rNkxO",
        "outputId": "ffdc4f3b-450e-46b9-ff50-82729a607a4a"
      },
      "execution_count": 27,
      "outputs": [
        {
          "output_type": "stream",
          "name": "stdout",
          "text": [
            "63.75%\n"
          ]
        }
      ]
    },
    {
      "cell_type": "code",
      "source": [
        "# Percentage of sd movies + tv shows\n",
        "print(f'{df[\"hd\"].value_counts()[1] / df[\"hd\"].value_counts().sum() * 100:.2f}%')"
      ],
      "metadata": {
        "colab": {
          "base_uri": "https://localhost:8080/"
        },
        "id": "_AGlVBPbOxvh",
        "outputId": "95a3f9d7-87dc-4eff-c346-e03f4d8e5658"
      },
      "execution_count": 28,
      "outputs": [
        {
          "output_type": "stream",
          "name": "stdout",
          "text": [
            "36.25%\n"
          ]
        }
      ]
    },
    {
      "cell_type": "code",
      "source": [
        "# Check the series title values\n",
        "df[\"series_title\"].value_counts()"
      ],
      "metadata": {
        "colab": {
          "base_uri": "https://localhost:8080/"
        },
        "id": "yOO34Cvq8whc",
        "outputId": "7492c18e-4681-4576-cf5a-0f41944f8161"
      },
      "execution_count": 29,
      "outputs": [
        {
          "output_type": "execute_result",
          "data": {
            "text/plain": [
              "0    3555946\n",
              "1      42661\n",
              "Name: series_title, dtype: int64"
            ]
          },
          "metadata": {},
          "execution_count": 29
        }
      ]
    },
    {
      "cell_type": "code",
      "source": [
        "# Inspect rows with series_title = 1\n",
        "df[(df[\"series_title\"] == 1)].iloc[:15]"
      ],
      "metadata": {
        "colab": {
          "base_uri": "https://localhost:8080/",
          "height": 824
        },
        "id": "nLyfA0GRSLFU",
        "outputId": "a3bf6e8c-8dde-4ccf-e755-361d28f4512b"
      },
      "execution_count": 30,
      "outputs": [
        {
          "output_type": "execute_result",
          "data": {
            "text/plain": [
              "           date  user_id                              program_name  \\\n",
              "96   2018-01-11    26302  Kung Fu Panda: Legends Of Awesomeness      \n",
              "98   2017-10-10     3218                         Melissa & Joey      \n",
              "268  2017-04-17     8808                             Vikings  (T)    \n",
              "345  2017-10-25    14600                                  Power      \n",
              "570  2018-01-11    26302  Kung Fu Panda: Legends Of Awesomeness      \n",
              "714  2017-08-06    18554                       The Walking Dead      \n",
              "961  2017-04-06    11660                       The Walking Dead      \n",
              "1044 2017-06-06     4808                             Caramel  (T)    \n",
              "1051 2018-01-11    26302             The Penguins of Madagascar      \n",
              "1253 2018-01-10    30750                                    Six      \n",
              "1475 2017-10-27     5174                              Supergirl      \n",
              "1506 2017-11-20     5542  Kung Fu Panda: Legends Of Awesomeness      \n",
              "1524 2018-02-17     8520                              The Flash      \n",
              "1544 2018-03-05    18613                             PAW Patrol      \n",
              "1585 2017-04-14    13170                                Friends      \n",
              "\n",
              "      duration_seconds program_type  season  episode  \\\n",
              "96                  48      TV Show       1        0   \n",
              "98                  10      TV Show       1        0   \n",
              "268                 51      TV Show       3        0   \n",
              "345                  3      TV Show       4        0   \n",
              "570                 10      TV Show       1        0   \n",
              "714                 15      TV Show       5        0   \n",
              "961                 99      TV Show       1        0   \n",
              "1044                29      TV Show       1        0   \n",
              "1051                11      TV Show       1        0   \n",
              "1253                95      TV Show       1        0   \n",
              "1475                72      TV Show       1        0   \n",
              "1506                 3      TV Show       1        0   \n",
              "1524                 9      TV Show       3        0   \n",
              "1544                16      TV Show       1        0   \n",
              "1585                 4      TV Show       5        0   \n",
              "\n",
              "                                           program_desc program_genre  \\\n",
              "96    Animation MovieKung Fu Panda: Legends Of Aweso...     Animation   \n",
              "98                      Comedy MovieMelissa & Joey, S01        Comedy   \n",
              "268                       Action MovieVikings, S03 (HD)        Action   \n",
              "345                               Drama MoviePower, S05         Drama   \n",
              "570   Animation MovieKung Fu Panda: Legends Of Aweso...     Animation   \n",
              "714              Horror MovieThe Walking Dead, S05 (HD)        Horror   \n",
              "961              Horror MovieThe Walking Dead, S01 (HD)        Horror   \n",
              "1044                       Drama MovieCaramel, S01 (HD)         Drama   \n",
              "1051     Animation MovieThe Penguins of Madagascar, S02     Animation   \n",
              "1253                               Action MovieSix, S02        Action   \n",
              "1475                         Action MovieSupergirl, S02        Action   \n",
              "1506  Animation MovieKung Fu Panda: Legends Of Aweso...     Animation   \n",
              "1524                         Action MovieThe Flash, S04        Action   \n",
              "1544                     Animation MoviePAW Patrol, S02     Animation   \n",
              "1585                      Comedy MovieFriends, S05 (HD)        Comedy   \n",
              "\n",
              "      series_title  hd                            original_name  \n",
              "96               1   1  Kung Fu Panda: Legends Of Awesomeness    \n",
              "98               1   1                         Melissa & Joey    \n",
              "268              1   1                             Vikings  (T)  \n",
              "345              1   1                                  Power    \n",
              "570              1   1  Kung Fu Panda: Legends Of Awesomeness    \n",
              "714              1   1                       The Walking Dead    \n",
              "961              1   1                       The Walking Dead    \n",
              "1044             1   1                             Caramel  (T)  \n",
              "1051             1   1             The Penguins of Madagascar    \n",
              "1253             1   1                                    Six    \n",
              "1475             1   1                              Supergirl    \n",
              "1506             1   1  Kung Fu Panda: Legends Of Awesomeness    \n",
              "1524             1   1                              The Flash    \n",
              "1544             1   1                             PAW Patrol    \n",
              "1585             1   1                                Friends    "
            ],
            "text/html": [
              "\n",
              "  <div id=\"df-8caef6f9-cca2-4344-8726-2285308ca693\">\n",
              "    <div class=\"colab-df-container\">\n",
              "      <div>\n",
              "<style scoped>\n",
              "    .dataframe tbody tr th:only-of-type {\n",
              "        vertical-align: middle;\n",
              "    }\n",
              "\n",
              "    .dataframe tbody tr th {\n",
              "        vertical-align: top;\n",
              "    }\n",
              "\n",
              "    .dataframe thead th {\n",
              "        text-align: right;\n",
              "    }\n",
              "</style>\n",
              "<table border=\"1\" class=\"dataframe\">\n",
              "  <thead>\n",
              "    <tr style=\"text-align: right;\">\n",
              "      <th></th>\n",
              "      <th>date</th>\n",
              "      <th>user_id</th>\n",
              "      <th>program_name</th>\n",
              "      <th>duration_seconds</th>\n",
              "      <th>program_type</th>\n",
              "      <th>season</th>\n",
              "      <th>episode</th>\n",
              "      <th>program_desc</th>\n",
              "      <th>program_genre</th>\n",
              "      <th>series_title</th>\n",
              "      <th>hd</th>\n",
              "      <th>original_name</th>\n",
              "    </tr>\n",
              "  </thead>\n",
              "  <tbody>\n",
              "    <tr>\n",
              "      <th>96</th>\n",
              "      <td>2018-01-11</td>\n",
              "      <td>26302</td>\n",
              "      <td>Kung Fu Panda: Legends Of Awesomeness</td>\n",
              "      <td>48</td>\n",
              "      <td>TV Show</td>\n",
              "      <td>1</td>\n",
              "      <td>0</td>\n",
              "      <td>Animation MovieKung Fu Panda: Legends Of Aweso...</td>\n",
              "      <td>Animation</td>\n",
              "      <td>1</td>\n",
              "      <td>1</td>\n",
              "      <td>Kung Fu Panda: Legends Of Awesomeness</td>\n",
              "    </tr>\n",
              "    <tr>\n",
              "      <th>98</th>\n",
              "      <td>2017-10-10</td>\n",
              "      <td>3218</td>\n",
              "      <td>Melissa &amp; Joey</td>\n",
              "      <td>10</td>\n",
              "      <td>TV Show</td>\n",
              "      <td>1</td>\n",
              "      <td>0</td>\n",
              "      <td>Comedy MovieMelissa &amp; Joey, S01</td>\n",
              "      <td>Comedy</td>\n",
              "      <td>1</td>\n",
              "      <td>1</td>\n",
              "      <td>Melissa &amp; Joey</td>\n",
              "    </tr>\n",
              "    <tr>\n",
              "      <th>268</th>\n",
              "      <td>2017-04-17</td>\n",
              "      <td>8808</td>\n",
              "      <td>Vikings  (T)</td>\n",
              "      <td>51</td>\n",
              "      <td>TV Show</td>\n",
              "      <td>3</td>\n",
              "      <td>0</td>\n",
              "      <td>Action MovieVikings, S03 (HD)</td>\n",
              "      <td>Action</td>\n",
              "      <td>1</td>\n",
              "      <td>1</td>\n",
              "      <td>Vikings  (T)</td>\n",
              "    </tr>\n",
              "    <tr>\n",
              "      <th>345</th>\n",
              "      <td>2017-10-25</td>\n",
              "      <td>14600</td>\n",
              "      <td>Power</td>\n",
              "      <td>3</td>\n",
              "      <td>TV Show</td>\n",
              "      <td>4</td>\n",
              "      <td>0</td>\n",
              "      <td>Drama MoviePower, S05</td>\n",
              "      <td>Drama</td>\n",
              "      <td>1</td>\n",
              "      <td>1</td>\n",
              "      <td>Power</td>\n",
              "    </tr>\n",
              "    <tr>\n",
              "      <th>570</th>\n",
              "      <td>2018-01-11</td>\n",
              "      <td>26302</td>\n",
              "      <td>Kung Fu Panda: Legends Of Awesomeness</td>\n",
              "      <td>10</td>\n",
              "      <td>TV Show</td>\n",
              "      <td>1</td>\n",
              "      <td>0</td>\n",
              "      <td>Animation MovieKung Fu Panda: Legends Of Aweso...</td>\n",
              "      <td>Animation</td>\n",
              "      <td>1</td>\n",
              "      <td>1</td>\n",
              "      <td>Kung Fu Panda: Legends Of Awesomeness</td>\n",
              "    </tr>\n",
              "    <tr>\n",
              "      <th>714</th>\n",
              "      <td>2017-08-06</td>\n",
              "      <td>18554</td>\n",
              "      <td>The Walking Dead</td>\n",
              "      <td>15</td>\n",
              "      <td>TV Show</td>\n",
              "      <td>5</td>\n",
              "      <td>0</td>\n",
              "      <td>Horror MovieThe Walking Dead, S05 (HD)</td>\n",
              "      <td>Horror</td>\n",
              "      <td>1</td>\n",
              "      <td>1</td>\n",
              "      <td>The Walking Dead</td>\n",
              "    </tr>\n",
              "    <tr>\n",
              "      <th>961</th>\n",
              "      <td>2017-04-06</td>\n",
              "      <td>11660</td>\n",
              "      <td>The Walking Dead</td>\n",
              "      <td>99</td>\n",
              "      <td>TV Show</td>\n",
              "      <td>1</td>\n",
              "      <td>0</td>\n",
              "      <td>Horror MovieThe Walking Dead, S01 (HD)</td>\n",
              "      <td>Horror</td>\n",
              "      <td>1</td>\n",
              "      <td>1</td>\n",
              "      <td>The Walking Dead</td>\n",
              "    </tr>\n",
              "    <tr>\n",
              "      <th>1044</th>\n",
              "      <td>2017-06-06</td>\n",
              "      <td>4808</td>\n",
              "      <td>Caramel  (T)</td>\n",
              "      <td>29</td>\n",
              "      <td>TV Show</td>\n",
              "      <td>1</td>\n",
              "      <td>0</td>\n",
              "      <td>Drama MovieCaramel, S01 (HD)</td>\n",
              "      <td>Drama</td>\n",
              "      <td>1</td>\n",
              "      <td>1</td>\n",
              "      <td>Caramel  (T)</td>\n",
              "    </tr>\n",
              "    <tr>\n",
              "      <th>1051</th>\n",
              "      <td>2018-01-11</td>\n",
              "      <td>26302</td>\n",
              "      <td>The Penguins of Madagascar</td>\n",
              "      <td>11</td>\n",
              "      <td>TV Show</td>\n",
              "      <td>1</td>\n",
              "      <td>0</td>\n",
              "      <td>Animation MovieThe Penguins of Madagascar, S02</td>\n",
              "      <td>Animation</td>\n",
              "      <td>1</td>\n",
              "      <td>1</td>\n",
              "      <td>The Penguins of Madagascar</td>\n",
              "    </tr>\n",
              "    <tr>\n",
              "      <th>1253</th>\n",
              "      <td>2018-01-10</td>\n",
              "      <td>30750</td>\n",
              "      <td>Six</td>\n",
              "      <td>95</td>\n",
              "      <td>TV Show</td>\n",
              "      <td>1</td>\n",
              "      <td>0</td>\n",
              "      <td>Action MovieSix, S02</td>\n",
              "      <td>Action</td>\n",
              "      <td>1</td>\n",
              "      <td>1</td>\n",
              "      <td>Six</td>\n",
              "    </tr>\n",
              "    <tr>\n",
              "      <th>1475</th>\n",
              "      <td>2017-10-27</td>\n",
              "      <td>5174</td>\n",
              "      <td>Supergirl</td>\n",
              "      <td>72</td>\n",
              "      <td>TV Show</td>\n",
              "      <td>1</td>\n",
              "      <td>0</td>\n",
              "      <td>Action MovieSupergirl, S02</td>\n",
              "      <td>Action</td>\n",
              "      <td>1</td>\n",
              "      <td>1</td>\n",
              "      <td>Supergirl</td>\n",
              "    </tr>\n",
              "    <tr>\n",
              "      <th>1506</th>\n",
              "      <td>2017-11-20</td>\n",
              "      <td>5542</td>\n",
              "      <td>Kung Fu Panda: Legends Of Awesomeness</td>\n",
              "      <td>3</td>\n",
              "      <td>TV Show</td>\n",
              "      <td>1</td>\n",
              "      <td>0</td>\n",
              "      <td>Animation MovieKung Fu Panda: Legends Of Aweso...</td>\n",
              "      <td>Animation</td>\n",
              "      <td>1</td>\n",
              "      <td>1</td>\n",
              "      <td>Kung Fu Panda: Legends Of Awesomeness</td>\n",
              "    </tr>\n",
              "    <tr>\n",
              "      <th>1524</th>\n",
              "      <td>2018-02-17</td>\n",
              "      <td>8520</td>\n",
              "      <td>The Flash</td>\n",
              "      <td>9</td>\n",
              "      <td>TV Show</td>\n",
              "      <td>3</td>\n",
              "      <td>0</td>\n",
              "      <td>Action MovieThe Flash, S04</td>\n",
              "      <td>Action</td>\n",
              "      <td>1</td>\n",
              "      <td>1</td>\n",
              "      <td>The Flash</td>\n",
              "    </tr>\n",
              "    <tr>\n",
              "      <th>1544</th>\n",
              "      <td>2018-03-05</td>\n",
              "      <td>18613</td>\n",
              "      <td>PAW Patrol</td>\n",
              "      <td>16</td>\n",
              "      <td>TV Show</td>\n",
              "      <td>1</td>\n",
              "      <td>0</td>\n",
              "      <td>Animation MoviePAW Patrol, S02</td>\n",
              "      <td>Animation</td>\n",
              "      <td>1</td>\n",
              "      <td>1</td>\n",
              "      <td>PAW Patrol</td>\n",
              "    </tr>\n",
              "    <tr>\n",
              "      <th>1585</th>\n",
              "      <td>2017-04-14</td>\n",
              "      <td>13170</td>\n",
              "      <td>Friends</td>\n",
              "      <td>4</td>\n",
              "      <td>TV Show</td>\n",
              "      <td>5</td>\n",
              "      <td>0</td>\n",
              "      <td>Comedy MovieFriends, S05 (HD)</td>\n",
              "      <td>Comedy</td>\n",
              "      <td>1</td>\n",
              "      <td>1</td>\n",
              "      <td>Friends</td>\n",
              "    </tr>\n",
              "  </tbody>\n",
              "</table>\n",
              "</div>\n",
              "      <button class=\"colab-df-convert\" onclick=\"convertToInteractive('df-8caef6f9-cca2-4344-8726-2285308ca693')\"\n",
              "              title=\"Convert this dataframe to an interactive table.\"\n",
              "              style=\"display:none;\">\n",
              "        \n",
              "  <svg xmlns=\"http://www.w3.org/2000/svg\" height=\"24px\"viewBox=\"0 0 24 24\"\n",
              "       width=\"24px\">\n",
              "    <path d=\"M0 0h24v24H0V0z\" fill=\"none\"/>\n",
              "    <path d=\"M18.56 5.44l.94 2.06.94-2.06 2.06-.94-2.06-.94-.94-2.06-.94 2.06-2.06.94zm-11 1L8.5 8.5l.94-2.06 2.06-.94-2.06-.94L8.5 2.5l-.94 2.06-2.06.94zm10 10l.94 2.06.94-2.06 2.06-.94-2.06-.94-.94-2.06-.94 2.06-2.06.94z\"/><path d=\"M17.41 7.96l-1.37-1.37c-.4-.4-.92-.59-1.43-.59-.52 0-1.04.2-1.43.59L10.3 9.45l-7.72 7.72c-.78.78-.78 2.05 0 2.83L4 21.41c.39.39.9.59 1.41.59.51 0 1.02-.2 1.41-.59l7.78-7.78 2.81-2.81c.8-.78.8-2.07 0-2.86zM5.41 20L4 18.59l7.72-7.72 1.47 1.35L5.41 20z\"/>\n",
              "  </svg>\n",
              "      </button>\n",
              "      \n",
              "  <style>\n",
              "    .colab-df-container {\n",
              "      display:flex;\n",
              "      flex-wrap:wrap;\n",
              "      gap: 12px;\n",
              "    }\n",
              "\n",
              "    .colab-df-convert {\n",
              "      background-color: #E8F0FE;\n",
              "      border: none;\n",
              "      border-radius: 50%;\n",
              "      cursor: pointer;\n",
              "      display: none;\n",
              "      fill: #1967D2;\n",
              "      height: 32px;\n",
              "      padding: 0 0 0 0;\n",
              "      width: 32px;\n",
              "    }\n",
              "\n",
              "    .colab-df-convert:hover {\n",
              "      background-color: #E2EBFA;\n",
              "      box-shadow: 0px 1px 2px rgba(60, 64, 67, 0.3), 0px 1px 3px 1px rgba(60, 64, 67, 0.15);\n",
              "      fill: #174EA6;\n",
              "    }\n",
              "\n",
              "    [theme=dark] .colab-df-convert {\n",
              "      background-color: #3B4455;\n",
              "      fill: #D2E3FC;\n",
              "    }\n",
              "\n",
              "    [theme=dark] .colab-df-convert:hover {\n",
              "      background-color: #434B5C;\n",
              "      box-shadow: 0px 1px 3px 1px rgba(0, 0, 0, 0.15);\n",
              "      filter: drop-shadow(0px 1px 2px rgba(0, 0, 0, 0.3));\n",
              "      fill: #FFFFFF;\n",
              "    }\n",
              "  </style>\n",
              "\n",
              "      <script>\n",
              "        const buttonEl =\n",
              "          document.querySelector('#df-8caef6f9-cca2-4344-8726-2285308ca693 button.colab-df-convert');\n",
              "        buttonEl.style.display =\n",
              "          google.colab.kernel.accessAllowed ? 'block' : 'none';\n",
              "\n",
              "        async function convertToInteractive(key) {\n",
              "          const element = document.querySelector('#df-8caef6f9-cca2-4344-8726-2285308ca693');\n",
              "          const dataTable =\n",
              "            await google.colab.kernel.invokeFunction('convertToInteractive',\n",
              "                                                     [key], {});\n",
              "          if (!dataTable) return;\n",
              "\n",
              "          const docLinkHtml = 'Like what you see? Visit the ' +\n",
              "            '<a target=\"_blank\" href=https://colab.research.google.com/notebooks/data_table.ipynb>data table notebook</a>'\n",
              "            + ' to learn more about interactive tables.';\n",
              "          element.innerHTML = '';\n",
              "          dataTable['output_type'] = 'display_data';\n",
              "          await google.colab.output.renderOutput(dataTable, element);\n",
              "          const docLink = document.createElement('div');\n",
              "          docLink.innerHTML = docLinkHtml;\n",
              "          element.appendChild(docLink);\n",
              "        }\n",
              "      </script>\n",
              "    </div>\n",
              "  </div>\n",
              "  "
            ]
          },
          "metadata": {},
          "execution_count": 30
        }
      ]
    },
    {
      "cell_type": "code",
      "source": [
        "# Check series_title = 1 is it distributed in program_type\n",
        "df[df[\"series_title\"] == 1][\"program_type\"].value_counts()"
      ],
      "metadata": {
        "colab": {
          "base_uri": "https://localhost:8080/"
        },
        "id": "vEdECRQ9aVD7",
        "outputId": "2a75e363-e476-4e85-dde0-031298dba56d"
      },
      "execution_count": 31,
      "outputs": [
        {
          "output_type": "execute_result",
          "data": {
            "text/plain": [
              "TV Show    42661\n",
              "Name: program_type, dtype: int64"
            ]
          },
          "metadata": {},
          "execution_count": 31
        }
      ]
    },
    {
      "cell_type": "markdown",
      "source": [
        "Only Tv show for series_title = 1\n",
        "\n",
        "Lets hypothetically say this indicates one title in \"program_name\"."
      ],
      "metadata": {
        "id": "T7nhcDxWTa-q"
      }
    },
    {
      "cell_type": "code",
      "source": [
        "# Inspect rows with series_title = 0\n",
        "df[(df[\"series_title\"] == 0) & (df[\"program_type\"] == \"TV Show\")].iloc[:15]"
      ],
      "metadata": {
        "colab": {
          "base_uri": "https://localhost:8080/",
          "height": 824
        },
        "id": "AtV5oTjCSwHf",
        "outputId": "48ce4e4f-f9e4-45d2-f7e1-98b790a768d9"
      },
      "execution_count": 32,
      "outputs": [
        {
          "output_type": "execute_result",
          "data": {
            "text/plain": [
              "          date  user_id                                       program_name  \\\n",
              "22  2017-12-03    19694                   Hell On Wheels  The White pirit    \n",
              "52  2017-12-17      730             PAW Patrol  Pups And The Ghost Pirate    \n",
              "68  2017-10-31     5094                            Zoo     Ten Years Gone    \n",
              "71  2017-03-14     5542                Littlest Pet hop  (T)    Lotsa Luck   \n",
              "72  2017-12-04    18960  Dora the Explorer  Dora's Fantastic Gymnastics...   \n",
              "75  2017-03-14    20081                                 Hannibal     orbet   \n",
              "76  2017-05-24    19143         The Walking Dead     Tell It To The Frogs    \n",
              "78  2018-01-19    17431                   I urvived…  Amy/Trish & Darrell    \n",
              "82  2017-12-26    30849                                   Wannous    Ep20    \n",
              "84  2017-12-30    30319    Littlest Pet hop     The Tortoise And The Heir    \n",
              "107 2017-11-14    26750                       American Odyssey  Beat Feet    \n",
              "108 2018-02-08    20184   Blaze And The Monster Machines  The Jungle Horn    \n",
              "111 2017-06-02     3157                                          Pingu       \n",
              "112 2017-09-11     6440                                  Franny's Feet       \n",
              "114 2018-04-02    18613    Friends     The One With Joey's New Girlfriend    \n",
              "\n",
              "     duration_seconds program_type  season  episode  \\\n",
              "22               2650      TV Show       2        7   \n",
              "52               1388      TV Show       1       10   \n",
              "68               2403      TV Show       3        3   \n",
              "71                688      TV Show       1       22   \n",
              "72               1379      TV Show       7        5   \n",
              "75                 26      TV Show       1        7   \n",
              "76               4943      TV Show       1        3   \n",
              "78               1251      TV Show       6       10   \n",
              "82                398      TV Show       1       20   \n",
              "84                  6      TV Show       4        1   \n",
              "107              1922      TV Show       1        5   \n",
              "108              1319      TV Show       1        9   \n",
              "111               305      TV Show       6       10   \n",
              "112               707      TV Show       2        8   \n",
              "114                72      TV Show       4        5   \n",
              "\n",
              "                                          program_desc program_genre  \\\n",
              "22                    Drama MovieThe White Spirit (HD)         Drama   \n",
              "52       Animation MoviePups And The Ghost Pirate (HD)     Animation   \n",
              "68                     Action MovieTen Years Gone (HD)        Action   \n",
              "71                           Animation MovieLotsa Luck     Animation   \n",
              "72   Animation MovieDora's Fantastic Gymnastics Adv...     Animation   \n",
              "75                                Thriller MovieSorbet      Thriller   \n",
              "76               Horror MovieTell It To The Frogs (HD)        Horror   \n",
              "78           Documentary MovieAmy/Trish & Darrell (HD)   Documentary   \n",
              "82                  Drama MovieWannous, S01, Ep20 (HD)         Drama   \n",
              "84       Animation MovieThe Tortoise And The Heir (HD)     Animation   \n",
              "107                         Action MovieBeat Feet (HD)        Action   \n",
              "108                Animation MovieThe Jungle Horn (HD)     Animation   \n",
              "111         Animation MoviePingu, Season 6, Episode 11     Animation   \n",
              "112  Animation MovieFranny's Feet, Season 2, Episode 9     Animation   \n",
              "114  Comedy MovieThe One With Joey's New Girlfriend...        Comedy   \n",
              "\n",
              "     series_title  hd                     original_name  \n",
              "22              0   0                  Hell On Wheels    \n",
              "52              0   0                      PAW Patrol    \n",
              "68              0   0                             Zoo    \n",
              "71              0   1             Littlest Pet hop  (T)  \n",
              "72              0   0               Dora the Explorer    \n",
              "75              0   0                        Hannibal    \n",
              "76              0   0                The Walking Dead    \n",
              "78              0   0                      I urvived…    \n",
              "82              0   0                         Wannous    \n",
              "84              0   0                Littlest Pet hop    \n",
              "107             0   0                American Odyssey    \n",
              "108             0   0  Blaze And The Monster Machines    \n",
              "111             0   0                           Pingu    \n",
              "112             0   0                   Franny's Feet    \n",
              "114             0   0                         Friends    "
            ],
            "text/html": [
              "\n",
              "  <div id=\"df-61d2edca-b69d-4ebd-bbc7-52a17dd8c9d3\">\n",
              "    <div class=\"colab-df-container\">\n",
              "      <div>\n",
              "<style scoped>\n",
              "    .dataframe tbody tr th:only-of-type {\n",
              "        vertical-align: middle;\n",
              "    }\n",
              "\n",
              "    .dataframe tbody tr th {\n",
              "        vertical-align: top;\n",
              "    }\n",
              "\n",
              "    .dataframe thead th {\n",
              "        text-align: right;\n",
              "    }\n",
              "</style>\n",
              "<table border=\"1\" class=\"dataframe\">\n",
              "  <thead>\n",
              "    <tr style=\"text-align: right;\">\n",
              "      <th></th>\n",
              "      <th>date</th>\n",
              "      <th>user_id</th>\n",
              "      <th>program_name</th>\n",
              "      <th>duration_seconds</th>\n",
              "      <th>program_type</th>\n",
              "      <th>season</th>\n",
              "      <th>episode</th>\n",
              "      <th>program_desc</th>\n",
              "      <th>program_genre</th>\n",
              "      <th>series_title</th>\n",
              "      <th>hd</th>\n",
              "      <th>original_name</th>\n",
              "    </tr>\n",
              "  </thead>\n",
              "  <tbody>\n",
              "    <tr>\n",
              "      <th>22</th>\n",
              "      <td>2017-12-03</td>\n",
              "      <td>19694</td>\n",
              "      <td>Hell On Wheels  The White pirit</td>\n",
              "      <td>2650</td>\n",
              "      <td>TV Show</td>\n",
              "      <td>2</td>\n",
              "      <td>7</td>\n",
              "      <td>Drama MovieThe White Spirit (HD)</td>\n",
              "      <td>Drama</td>\n",
              "      <td>0</td>\n",
              "      <td>0</td>\n",
              "      <td>Hell On Wheels</td>\n",
              "    </tr>\n",
              "    <tr>\n",
              "      <th>52</th>\n",
              "      <td>2017-12-17</td>\n",
              "      <td>730</td>\n",
              "      <td>PAW Patrol  Pups And The Ghost Pirate</td>\n",
              "      <td>1388</td>\n",
              "      <td>TV Show</td>\n",
              "      <td>1</td>\n",
              "      <td>10</td>\n",
              "      <td>Animation MoviePups And The Ghost Pirate (HD)</td>\n",
              "      <td>Animation</td>\n",
              "      <td>0</td>\n",
              "      <td>0</td>\n",
              "      <td>PAW Patrol</td>\n",
              "    </tr>\n",
              "    <tr>\n",
              "      <th>68</th>\n",
              "      <td>2017-10-31</td>\n",
              "      <td>5094</td>\n",
              "      <td>Zoo     Ten Years Gone</td>\n",
              "      <td>2403</td>\n",
              "      <td>TV Show</td>\n",
              "      <td>3</td>\n",
              "      <td>3</td>\n",
              "      <td>Action MovieTen Years Gone (HD)</td>\n",
              "      <td>Action</td>\n",
              "      <td>0</td>\n",
              "      <td>0</td>\n",
              "      <td>Zoo</td>\n",
              "    </tr>\n",
              "    <tr>\n",
              "      <th>71</th>\n",
              "      <td>2017-03-14</td>\n",
              "      <td>5542</td>\n",
              "      <td>Littlest Pet hop  (T)    Lotsa Luck</td>\n",
              "      <td>688</td>\n",
              "      <td>TV Show</td>\n",
              "      <td>1</td>\n",
              "      <td>22</td>\n",
              "      <td>Animation MovieLotsa Luck</td>\n",
              "      <td>Animation</td>\n",
              "      <td>0</td>\n",
              "      <td>1</td>\n",
              "      <td>Littlest Pet hop  (T)</td>\n",
              "    </tr>\n",
              "    <tr>\n",
              "      <th>72</th>\n",
              "      <td>2017-12-04</td>\n",
              "      <td>18960</td>\n",
              "      <td>Dora the Explorer  Dora's Fantastic Gymnastics...</td>\n",
              "      <td>1379</td>\n",
              "      <td>TV Show</td>\n",
              "      <td>7</td>\n",
              "      <td>5</td>\n",
              "      <td>Animation MovieDora's Fantastic Gymnastics Adv...</td>\n",
              "      <td>Animation</td>\n",
              "      <td>0</td>\n",
              "      <td>0</td>\n",
              "      <td>Dora the Explorer</td>\n",
              "    </tr>\n",
              "    <tr>\n",
              "      <th>75</th>\n",
              "      <td>2017-03-14</td>\n",
              "      <td>20081</td>\n",
              "      <td>Hannibal     orbet</td>\n",
              "      <td>26</td>\n",
              "      <td>TV Show</td>\n",
              "      <td>1</td>\n",
              "      <td>7</td>\n",
              "      <td>Thriller MovieSorbet</td>\n",
              "      <td>Thriller</td>\n",
              "      <td>0</td>\n",
              "      <td>0</td>\n",
              "      <td>Hannibal</td>\n",
              "    </tr>\n",
              "    <tr>\n",
              "      <th>76</th>\n",
              "      <td>2017-05-24</td>\n",
              "      <td>19143</td>\n",
              "      <td>The Walking Dead     Tell It To The Frogs</td>\n",
              "      <td>4943</td>\n",
              "      <td>TV Show</td>\n",
              "      <td>1</td>\n",
              "      <td>3</td>\n",
              "      <td>Horror MovieTell It To The Frogs (HD)</td>\n",
              "      <td>Horror</td>\n",
              "      <td>0</td>\n",
              "      <td>0</td>\n",
              "      <td>The Walking Dead</td>\n",
              "    </tr>\n",
              "    <tr>\n",
              "      <th>78</th>\n",
              "      <td>2018-01-19</td>\n",
              "      <td>17431</td>\n",
              "      <td>I urvived…  Amy/Trish &amp; Darrell</td>\n",
              "      <td>1251</td>\n",
              "      <td>TV Show</td>\n",
              "      <td>6</td>\n",
              "      <td>10</td>\n",
              "      <td>Documentary MovieAmy/Trish &amp; Darrell (HD)</td>\n",
              "      <td>Documentary</td>\n",
              "      <td>0</td>\n",
              "      <td>0</td>\n",
              "      <td>I urvived…</td>\n",
              "    </tr>\n",
              "    <tr>\n",
              "      <th>82</th>\n",
              "      <td>2017-12-26</td>\n",
              "      <td>30849</td>\n",
              "      <td>Wannous    Ep20</td>\n",
              "      <td>398</td>\n",
              "      <td>TV Show</td>\n",
              "      <td>1</td>\n",
              "      <td>20</td>\n",
              "      <td>Drama MovieWannous, S01, Ep20 (HD)</td>\n",
              "      <td>Drama</td>\n",
              "      <td>0</td>\n",
              "      <td>0</td>\n",
              "      <td>Wannous</td>\n",
              "    </tr>\n",
              "    <tr>\n",
              "      <th>84</th>\n",
              "      <td>2017-12-30</td>\n",
              "      <td>30319</td>\n",
              "      <td>Littlest Pet hop     The Tortoise And The Heir</td>\n",
              "      <td>6</td>\n",
              "      <td>TV Show</td>\n",
              "      <td>4</td>\n",
              "      <td>1</td>\n",
              "      <td>Animation MovieThe Tortoise And The Heir (HD)</td>\n",
              "      <td>Animation</td>\n",
              "      <td>0</td>\n",
              "      <td>0</td>\n",
              "      <td>Littlest Pet hop</td>\n",
              "    </tr>\n",
              "    <tr>\n",
              "      <th>107</th>\n",
              "      <td>2017-11-14</td>\n",
              "      <td>26750</td>\n",
              "      <td>American Odyssey  Beat Feet</td>\n",
              "      <td>1922</td>\n",
              "      <td>TV Show</td>\n",
              "      <td>1</td>\n",
              "      <td>5</td>\n",
              "      <td>Action MovieBeat Feet (HD)</td>\n",
              "      <td>Action</td>\n",
              "      <td>0</td>\n",
              "      <td>0</td>\n",
              "      <td>American Odyssey</td>\n",
              "    </tr>\n",
              "    <tr>\n",
              "      <th>108</th>\n",
              "      <td>2018-02-08</td>\n",
              "      <td>20184</td>\n",
              "      <td>Blaze And The Monster Machines  The Jungle Horn</td>\n",
              "      <td>1319</td>\n",
              "      <td>TV Show</td>\n",
              "      <td>1</td>\n",
              "      <td>9</td>\n",
              "      <td>Animation MovieThe Jungle Horn (HD)</td>\n",
              "      <td>Animation</td>\n",
              "      <td>0</td>\n",
              "      <td>0</td>\n",
              "      <td>Blaze And The Monster Machines</td>\n",
              "    </tr>\n",
              "    <tr>\n",
              "      <th>111</th>\n",
              "      <td>2017-06-02</td>\n",
              "      <td>3157</td>\n",
              "      <td>Pingu</td>\n",
              "      <td>305</td>\n",
              "      <td>TV Show</td>\n",
              "      <td>6</td>\n",
              "      <td>10</td>\n",
              "      <td>Animation MoviePingu, Season 6, Episode 11</td>\n",
              "      <td>Animation</td>\n",
              "      <td>0</td>\n",
              "      <td>0</td>\n",
              "      <td>Pingu</td>\n",
              "    </tr>\n",
              "    <tr>\n",
              "      <th>112</th>\n",
              "      <td>2017-09-11</td>\n",
              "      <td>6440</td>\n",
              "      <td>Franny's Feet</td>\n",
              "      <td>707</td>\n",
              "      <td>TV Show</td>\n",
              "      <td>2</td>\n",
              "      <td>8</td>\n",
              "      <td>Animation MovieFranny's Feet, Season 2, Episode 9</td>\n",
              "      <td>Animation</td>\n",
              "      <td>0</td>\n",
              "      <td>0</td>\n",
              "      <td>Franny's Feet</td>\n",
              "    </tr>\n",
              "    <tr>\n",
              "      <th>114</th>\n",
              "      <td>2018-04-02</td>\n",
              "      <td>18613</td>\n",
              "      <td>Friends     The One With Joey's New Girlfriend</td>\n",
              "      <td>72</td>\n",
              "      <td>TV Show</td>\n",
              "      <td>4</td>\n",
              "      <td>5</td>\n",
              "      <td>Comedy MovieThe One With Joey's New Girlfriend...</td>\n",
              "      <td>Comedy</td>\n",
              "      <td>0</td>\n",
              "      <td>0</td>\n",
              "      <td>Friends</td>\n",
              "    </tr>\n",
              "  </tbody>\n",
              "</table>\n",
              "</div>\n",
              "      <button class=\"colab-df-convert\" onclick=\"convertToInteractive('df-61d2edca-b69d-4ebd-bbc7-52a17dd8c9d3')\"\n",
              "              title=\"Convert this dataframe to an interactive table.\"\n",
              "              style=\"display:none;\">\n",
              "        \n",
              "  <svg xmlns=\"http://www.w3.org/2000/svg\" height=\"24px\"viewBox=\"0 0 24 24\"\n",
              "       width=\"24px\">\n",
              "    <path d=\"M0 0h24v24H0V0z\" fill=\"none\"/>\n",
              "    <path d=\"M18.56 5.44l.94 2.06.94-2.06 2.06-.94-2.06-.94-.94-2.06-.94 2.06-2.06.94zm-11 1L8.5 8.5l.94-2.06 2.06-.94-2.06-.94L8.5 2.5l-.94 2.06-2.06.94zm10 10l.94 2.06.94-2.06 2.06-.94-2.06-.94-.94-2.06-.94 2.06-2.06.94z\"/><path d=\"M17.41 7.96l-1.37-1.37c-.4-.4-.92-.59-1.43-.59-.52 0-1.04.2-1.43.59L10.3 9.45l-7.72 7.72c-.78.78-.78 2.05 0 2.83L4 21.41c.39.39.9.59 1.41.59.51 0 1.02-.2 1.41-.59l7.78-7.78 2.81-2.81c.8-.78.8-2.07 0-2.86zM5.41 20L4 18.59l7.72-7.72 1.47 1.35L5.41 20z\"/>\n",
              "  </svg>\n",
              "      </button>\n",
              "      \n",
              "  <style>\n",
              "    .colab-df-container {\n",
              "      display:flex;\n",
              "      flex-wrap:wrap;\n",
              "      gap: 12px;\n",
              "    }\n",
              "\n",
              "    .colab-df-convert {\n",
              "      background-color: #E8F0FE;\n",
              "      border: none;\n",
              "      border-radius: 50%;\n",
              "      cursor: pointer;\n",
              "      display: none;\n",
              "      fill: #1967D2;\n",
              "      height: 32px;\n",
              "      padding: 0 0 0 0;\n",
              "      width: 32px;\n",
              "    }\n",
              "\n",
              "    .colab-df-convert:hover {\n",
              "      background-color: #E2EBFA;\n",
              "      box-shadow: 0px 1px 2px rgba(60, 64, 67, 0.3), 0px 1px 3px 1px rgba(60, 64, 67, 0.15);\n",
              "      fill: #174EA6;\n",
              "    }\n",
              "\n",
              "    [theme=dark] .colab-df-convert {\n",
              "      background-color: #3B4455;\n",
              "      fill: #D2E3FC;\n",
              "    }\n",
              "\n",
              "    [theme=dark] .colab-df-convert:hover {\n",
              "      background-color: #434B5C;\n",
              "      box-shadow: 0px 1px 3px 1px rgba(0, 0, 0, 0.15);\n",
              "      filter: drop-shadow(0px 1px 2px rgba(0, 0, 0, 0.3));\n",
              "      fill: #FFFFFF;\n",
              "    }\n",
              "  </style>\n",
              "\n",
              "      <script>\n",
              "        const buttonEl =\n",
              "          document.querySelector('#df-61d2edca-b69d-4ebd-bbc7-52a17dd8c9d3 button.colab-df-convert');\n",
              "        buttonEl.style.display =\n",
              "          google.colab.kernel.accessAllowed ? 'block' : 'none';\n",
              "\n",
              "        async function convertToInteractive(key) {\n",
              "          const element = document.querySelector('#df-61d2edca-b69d-4ebd-bbc7-52a17dd8c9d3');\n",
              "          const dataTable =\n",
              "            await google.colab.kernel.invokeFunction('convertToInteractive',\n",
              "                                                     [key], {});\n",
              "          if (!dataTable) return;\n",
              "\n",
              "          const docLinkHtml = 'Like what you see? Visit the ' +\n",
              "            '<a target=\"_blank\" href=https://colab.research.google.com/notebooks/data_table.ipynb>data table notebook</a>'\n",
              "            + ' to learn more about interactive tables.';\n",
              "          element.innerHTML = '';\n",
              "          dataTable['output_type'] = 'display_data';\n",
              "          await google.colab.output.renderOutput(dataTable, element);\n",
              "          const docLink = document.createElement('div');\n",
              "          docLink.innerHTML = docLinkHtml;\n",
              "          element.appendChild(docLink);\n",
              "        }\n",
              "      </script>\n",
              "    </div>\n",
              "  </div>\n",
              "  "
            ]
          },
          "metadata": {},
          "execution_count": 32
        }
      ]
    },
    {
      "cell_type": "code",
      "source": [
        "# Inspect rows with series_title = 0\n",
        "df[df[\"series_title\"] == 0][\"program_type\"].value_counts()"
      ],
      "metadata": {
        "colab": {
          "base_uri": "https://localhost:8080/"
        },
        "id": "0hjtX-SQa4lH",
        "outputId": "4e103927-90b6-4d1f-e202-67c443c171e2"
      },
      "execution_count": 33,
      "outputs": [
        {
          "output_type": "execute_result",
          "data": {
            "text/plain": [
              "TV Show    2010994\n",
              "Movie      1544952\n",
              "Name: program_type, dtype: int64"
            ]
          },
          "metadata": {},
          "execution_count": 33
        }
      ]
    },
    {
      "cell_type": "markdown",
      "source": [
        "Have both movie / tv show for series_title = 0\n",
        "\n",
        "Lets hypothetically say this indicates two titles for \"program_name\"."
      ],
      "metadata": {
        "id": "D_2cpHzxTfS4"
      }
    },
    {
      "cell_type": "code",
      "source": [
        "# Extract data from certain index position for series_title = 1\n",
        "df.iloc[1544]"
      ],
      "metadata": {
        "colab": {
          "base_uri": "https://localhost:8080/"
        },
        "id": "_Crt9HZtVOBv",
        "outputId": "630fb955-169a-4734-bb4b-cd753fd54c2d"
      },
      "execution_count": 34,
      "outputs": [
        {
          "output_type": "execute_result",
          "data": {
            "text/plain": [
              "date                           2018-03-05 00:00:00\n",
              "user_id                                      18613\n",
              "program_name                         PAW Patrol   \n",
              "duration_seconds                                16\n",
              "program_type                               TV Show\n",
              "season                                           1\n",
              "episode                                          0\n",
              "program_desc        Animation MoviePAW Patrol, S02\n",
              "program_genre                            Animation\n",
              "series_title                                     1\n",
              "hd                                               1\n",
              "original_name                         PAW Patrol  \n",
              "Name: 1544, dtype: object"
            ]
          },
          "metadata": {},
          "execution_count": 34
        }
      ]
    },
    {
      "cell_type": "code",
      "source": [
        "# Extract data from certain index position for series_title = 0\n",
        "df.iloc[8]"
      ],
      "metadata": {
        "colab": {
          "base_uri": "https://localhost:8080/"
        },
        "id": "_3n2q5PDVEy8",
        "outputId": "7075b990-bcf6-4fae-d2a3-ed065e5b5c26"
      },
      "execution_count": 35,
      "outputs": [
        {
          "output_type": "execute_result",
          "data": {
            "text/plain": [
              "date                    2018-01-27 00:00:00\n",
              "user_id                               11660\n",
              "program_name                        Kidnap \n",
              "duration_seconds                         85\n",
              "program_type                          Movie\n",
              "season                                    0\n",
              "episode                                   0\n",
              "program_desc        Action MovieKidnap (HD)\n",
              "program_genre                        Action\n",
              "series_title                              0\n",
              "hd                                        1\n",
              "original_name                        Kidnap\n",
              "Name: 8, dtype: object"
            ]
          },
          "metadata": {},
          "execution_count": 35
        }
      ]
    },
    {
      "cell_type": "markdown",
      "source": [
        "In conclusion, at first I thought because it has two titles in \"program_name\" but it's not. especially for movie type."
      ],
      "metadata": {
        "id": "_-HuX16mdOwi"
      }
    },
    {
      "cell_type": "code",
      "source": [
        "# Check the season values\n",
        "df[\"season\"].value_counts()"
      ],
      "metadata": {
        "colab": {
          "base_uri": "https://localhost:8080/"
        },
        "id": "Kfa85VYx7M1i",
        "outputId": "4870d0c2-e1f3-4fde-e1f9-971e60a77453"
      },
      "execution_count": 36,
      "outputs": [
        {
          "output_type": "execute_result",
          "data": {
            "text/plain": [
              "0     1545134\n",
              "1     1181752\n",
              "2      202347\n",
              "3      167121\n",
              "7      136912\n",
              "4      117600\n",
              "5       91525\n",
              "6       86777\n",
              "8       39223\n",
              "9       14176\n",
              "10       9120\n",
              "12       2758\n",
              "11        935\n",
              "21        607\n",
              "22        591\n",
              "18        439\n",
              "23        423\n",
              "19        385\n",
              "20        372\n",
              "13        324\n",
              "15         59\n",
              "14         27\n",
              "Name: season, dtype: int64"
            ]
          },
          "metadata": {},
          "execution_count": 36
        }
      ]
    },
    {
      "cell_type": "code",
      "source": [
        "# Check season is it applicaple for Movie ?\n",
        "df[(df[\"season\"] > 0) & (df[\"program_type\"] == \"Movie\")]"
      ],
      "metadata": {
        "colab": {
          "base_uri": "https://localhost:8080/",
          "height": 49
        },
        "id": "bEF9ui6LeBNc",
        "outputId": "e78cc4d3-2729-46b2-c02f-5519581afae1"
      },
      "execution_count": 37,
      "outputs": [
        {
          "output_type": "execute_result",
          "data": {
            "text/plain": [
              "Empty DataFrame\n",
              "Columns: [date, user_id, program_name, duration_seconds, program_type, season, episode, program_desc, program_genre, series_title, hd, original_name]\n",
              "Index: []"
            ],
            "text/html": [
              "\n",
              "  <div id=\"df-204f6d78-fb7a-4ab8-9edc-bb73899406bf\">\n",
              "    <div class=\"colab-df-container\">\n",
              "      <div>\n",
              "<style scoped>\n",
              "    .dataframe tbody tr th:only-of-type {\n",
              "        vertical-align: middle;\n",
              "    }\n",
              "\n",
              "    .dataframe tbody tr th {\n",
              "        vertical-align: top;\n",
              "    }\n",
              "\n",
              "    .dataframe thead th {\n",
              "        text-align: right;\n",
              "    }\n",
              "</style>\n",
              "<table border=\"1\" class=\"dataframe\">\n",
              "  <thead>\n",
              "    <tr style=\"text-align: right;\">\n",
              "      <th></th>\n",
              "      <th>date</th>\n",
              "      <th>user_id</th>\n",
              "      <th>program_name</th>\n",
              "      <th>duration_seconds</th>\n",
              "      <th>program_type</th>\n",
              "      <th>season</th>\n",
              "      <th>episode</th>\n",
              "      <th>program_desc</th>\n",
              "      <th>program_genre</th>\n",
              "      <th>series_title</th>\n",
              "      <th>hd</th>\n",
              "      <th>original_name</th>\n",
              "    </tr>\n",
              "  </thead>\n",
              "  <tbody>\n",
              "  </tbody>\n",
              "</table>\n",
              "</div>\n",
              "      <button class=\"colab-df-convert\" onclick=\"convertToInteractive('df-204f6d78-fb7a-4ab8-9edc-bb73899406bf')\"\n",
              "              title=\"Convert this dataframe to an interactive table.\"\n",
              "              style=\"display:none;\">\n",
              "        \n",
              "  <svg xmlns=\"http://www.w3.org/2000/svg\" height=\"24px\"viewBox=\"0 0 24 24\"\n",
              "       width=\"24px\">\n",
              "    <path d=\"M0 0h24v24H0V0z\" fill=\"none\"/>\n",
              "    <path d=\"M18.56 5.44l.94 2.06.94-2.06 2.06-.94-2.06-.94-.94-2.06-.94 2.06-2.06.94zm-11 1L8.5 8.5l.94-2.06 2.06-.94-2.06-.94L8.5 2.5l-.94 2.06-2.06.94zm10 10l.94 2.06.94-2.06 2.06-.94-2.06-.94-.94-2.06-.94 2.06-2.06.94z\"/><path d=\"M17.41 7.96l-1.37-1.37c-.4-.4-.92-.59-1.43-.59-.52 0-1.04.2-1.43.59L10.3 9.45l-7.72 7.72c-.78.78-.78 2.05 0 2.83L4 21.41c.39.39.9.59 1.41.59.51 0 1.02-.2 1.41-.59l7.78-7.78 2.81-2.81c.8-.78.8-2.07 0-2.86zM5.41 20L4 18.59l7.72-7.72 1.47 1.35L5.41 20z\"/>\n",
              "  </svg>\n",
              "      </button>\n",
              "      \n",
              "  <style>\n",
              "    .colab-df-container {\n",
              "      display:flex;\n",
              "      flex-wrap:wrap;\n",
              "      gap: 12px;\n",
              "    }\n",
              "\n",
              "    .colab-df-convert {\n",
              "      background-color: #E8F0FE;\n",
              "      border: none;\n",
              "      border-radius: 50%;\n",
              "      cursor: pointer;\n",
              "      display: none;\n",
              "      fill: #1967D2;\n",
              "      height: 32px;\n",
              "      padding: 0 0 0 0;\n",
              "      width: 32px;\n",
              "    }\n",
              "\n",
              "    .colab-df-convert:hover {\n",
              "      background-color: #E2EBFA;\n",
              "      box-shadow: 0px 1px 2px rgba(60, 64, 67, 0.3), 0px 1px 3px 1px rgba(60, 64, 67, 0.15);\n",
              "      fill: #174EA6;\n",
              "    }\n",
              "\n",
              "    [theme=dark] .colab-df-convert {\n",
              "      background-color: #3B4455;\n",
              "      fill: #D2E3FC;\n",
              "    }\n",
              "\n",
              "    [theme=dark] .colab-df-convert:hover {\n",
              "      background-color: #434B5C;\n",
              "      box-shadow: 0px 1px 3px 1px rgba(0, 0, 0, 0.15);\n",
              "      filter: drop-shadow(0px 1px 2px rgba(0, 0, 0, 0.3));\n",
              "      fill: #FFFFFF;\n",
              "    }\n",
              "  </style>\n",
              "\n",
              "      <script>\n",
              "        const buttonEl =\n",
              "          document.querySelector('#df-204f6d78-fb7a-4ab8-9edc-bb73899406bf button.colab-df-convert');\n",
              "        buttonEl.style.display =\n",
              "          google.colab.kernel.accessAllowed ? 'block' : 'none';\n",
              "\n",
              "        async function convertToInteractive(key) {\n",
              "          const element = document.querySelector('#df-204f6d78-fb7a-4ab8-9edc-bb73899406bf');\n",
              "          const dataTable =\n",
              "            await google.colab.kernel.invokeFunction('convertToInteractive',\n",
              "                                                     [key], {});\n",
              "          if (!dataTable) return;\n",
              "\n",
              "          const docLinkHtml = 'Like what you see? Visit the ' +\n",
              "            '<a target=\"_blank\" href=https://colab.research.google.com/notebooks/data_table.ipynb>data table notebook</a>'\n",
              "            + ' to learn more about interactive tables.';\n",
              "          element.innerHTML = '';\n",
              "          dataTable['output_type'] = 'display_data';\n",
              "          await google.colab.output.renderOutput(dataTable, element);\n",
              "          const docLink = document.createElement('div');\n",
              "          docLink.innerHTML = docLinkHtml;\n",
              "          element.appendChild(docLink);\n",
              "        }\n",
              "      </script>\n",
              "    </div>\n",
              "  </div>\n",
              "  "
            ]
          },
          "metadata": {},
          "execution_count": 37
        }
      ]
    },
    {
      "cell_type": "code",
      "source": [
        "# Check season is it applicaple for TV Show ?\n",
        "len(df[(df[\"season\"] > 0) & (df[\"program_type\"] == \"TV Show\")])"
      ],
      "metadata": {
        "colab": {
          "base_uri": "https://localhost:8080/"
        },
        "id": "nzE3KwfSfOwp",
        "outputId": "f01b76e4-ae28-4fc8-9ff2-e8ba283ade47"
      },
      "execution_count": 38,
      "outputs": [
        {
          "output_type": "execute_result",
          "data": {
            "text/plain": [
              "2053473"
            ]
          },
          "metadata": {},
          "execution_count": 38
        }
      ]
    },
    {
      "cell_type": "code",
      "source": [
        "# Inspect the episode values and total\n",
        "df[\"episode\"].value_counts(), len(df[\"episode\"])"
      ],
      "metadata": {
        "colab": {
          "base_uri": "https://localhost:8080/"
        },
        "id": "Tw7fERh0882w",
        "outputId": "76b4af17-4ea1-4fd2-b3ed-008d5749efcd"
      },
      "execution_count": 39,
      "outputs": [
        {
          "output_type": "execute_result",
          "data": {
            "text/plain": [
              "(0      1587681\n",
              " 1       226398\n",
              " 2       128271\n",
              " 3       112682\n",
              " 4       105430\n",
              "         ...   \n",
              " 269         31\n",
              " 272         30\n",
              " 266         29\n",
              " 273         29\n",
              " 116          4\n",
              " Name: episode, Length: 281, dtype: int64, 3598607)"
            ]
          },
          "metadata": {},
          "execution_count": 39
        }
      ]
    },
    {
      "cell_type": "code",
      "source": [
        "# Get the maximum number of episode & minimum\n",
        "df[\"episode\"].max(), df[\"episode\"].min()"
      ],
      "metadata": {
        "colab": {
          "base_uri": "https://localhost:8080/"
        },
        "id": "vpBnh3gxQ6-c",
        "outputId": "93520be0-3437-4ac6-f538-2c309ebb5ad5"
      },
      "execution_count": 40,
      "outputs": [
        {
          "output_type": "execute_result",
          "data": {
            "text/plain": [
              "(282, 0)"
            ]
          },
          "metadata": {},
          "execution_count": 40
        }
      ]
    },
    {
      "cell_type": "code",
      "source": [
        "# Mean of the episode column\n",
        "print(f\"Average episode is: {df['episode'].mean()}\")"
      ],
      "metadata": {
        "colab": {
          "base_uri": "https://localhost:8080/"
        },
        "id": "6ZqD4okc9xgh",
        "outputId": "09eaddbe-67f8-4508-e5ac-e1fa0356b4c0"
      },
      "execution_count": 41,
      "outputs": [
        {
          "output_type": "stream",
          "name": "stdout",
          "text": [
            "Average episode is: 7.0286021785652055\n"
          ]
        }
      ]
    },
    {
      "cell_type": "code",
      "source": [
        "# Get the median to see if there's a HUGE outlier\n",
        "print(f\"The median of episodes: {df['episode'].median()}\")"
      ],
      "metadata": {
        "colab": {
          "base_uri": "https://localhost:8080/"
        },
        "id": "mgg-e6TkRQLs",
        "outputId": "60239666-0822-4ac6-ecdd-b9f60f556f01"
      },
      "execution_count": 42,
      "outputs": [
        {
          "output_type": "stream",
          "name": "stdout",
          "text": [
            "The median of episodes: 1.0\n"
          ]
        }
      ]
    },
    {
      "cell_type": "code",
      "source": [
        "# Inspect the duration_seconds column & total\n",
        "df[\"duration_seconds\"].value_counts(), len(df[\"duration_seconds\"])"
      ],
      "metadata": {
        "colab": {
          "base_uri": "https://localhost:8080/"
        },
        "id": "Spik_ImU9Mu2",
        "outputId": "ede01618-fa07-476d-ca57-651fd8c75673"
      },
      "execution_count": 43,
      "outputs": [
        {
          "output_type": "execute_result",
          "data": {
            "text/plain": [
              "(90       48069\n",
              " 6        45613\n",
              " 2        41899\n",
              " 4        41615\n",
              " 5        40773\n",
              "          ...  \n",
              " 26291        1\n",
              " 22362        1\n",
              " 53428        1\n",
              " 36408        1\n",
              " 31116        1\n",
              " Name: duration_seconds, Length: 33668, dtype: int64, 3598607)"
            ]
          },
          "metadata": {},
          "execution_count": 43
        }
      ]
    },
    {
      "cell_type": "code",
      "source": [
        "# Mean of duration_seconds column \n",
        "print(f\"Average duration_seconds: {df['duration_seconds'].mean()}\")"
      ],
      "metadata": {
        "colab": {
          "base_uri": "https://localhost:8080/"
        },
        "id": "POp3yio0947t",
        "outputId": "c8de65a5-1bd8-426f-c44f-b3b11e94ebc9"
      },
      "execution_count": 44,
      "outputs": [
        {
          "output_type": "stream",
          "name": "stdout",
          "text": [
            "Average duration_seconds: 1177.635590382612\n"
          ]
        }
      ]
    },
    {
      "cell_type": "code",
      "source": [
        "# Max of duration_seconds column \n",
        "print(f\"The maximum duration_seconds: {df['duration_seconds'].max()}\")"
      ],
      "metadata": {
        "colab": {
          "base_uri": "https://localhost:8080/"
        },
        "id": "6dJ9OL8DZSXI",
        "outputId": "f353ffc5-bb71-42f3-b91c-8da491ef7118"
      },
      "execution_count": 45,
      "outputs": [
        {
          "output_type": "stream",
          "name": "stdout",
          "text": [
            "The maximum duration_seconds: 2053603\n"
          ]
        }
      ]
    },
    {
      "cell_type": "code",
      "source": [
        "# Filter out the maximum of duration_seconds for a user\n",
        "df[df[\"duration_seconds\"] == 2053603]"
      ],
      "metadata": {
        "colab": {
          "base_uri": "https://localhost:8080/",
          "height": 142
        },
        "id": "tHIF7GJPZdIS",
        "outputId": "8d7e310d-f475-49aa-dc49-f9176028942e"
      },
      "execution_count": 46,
      "outputs": [
        {
          "output_type": "execute_result",
          "data": {
            "text/plain": [
              "              date  user_id                     program_name  \\\n",
              "1800670 2017-12-25    30881  War for the Planet of the Apes    \n",
              "\n",
              "         duration_seconds program_type  season  episode  \\\n",
              "1800670           2053603        Movie       0        0   \n",
              "\n",
              "                                            program_desc program_genre  \\\n",
              "1800670  Action MovieWar for the Planet of the Apes (HD)        Action   \n",
              "\n",
              "         series_title  hd                   original_name  \n",
              "1800670             0   1  War for the Planet of the Apes  "
            ],
            "text/html": [
              "\n",
              "  <div id=\"df-bc93452c-0b60-467e-bd70-175a050b2ea8\">\n",
              "    <div class=\"colab-df-container\">\n",
              "      <div>\n",
              "<style scoped>\n",
              "    .dataframe tbody tr th:only-of-type {\n",
              "        vertical-align: middle;\n",
              "    }\n",
              "\n",
              "    .dataframe tbody tr th {\n",
              "        vertical-align: top;\n",
              "    }\n",
              "\n",
              "    .dataframe thead th {\n",
              "        text-align: right;\n",
              "    }\n",
              "</style>\n",
              "<table border=\"1\" class=\"dataframe\">\n",
              "  <thead>\n",
              "    <tr style=\"text-align: right;\">\n",
              "      <th></th>\n",
              "      <th>date</th>\n",
              "      <th>user_id</th>\n",
              "      <th>program_name</th>\n",
              "      <th>duration_seconds</th>\n",
              "      <th>program_type</th>\n",
              "      <th>season</th>\n",
              "      <th>episode</th>\n",
              "      <th>program_desc</th>\n",
              "      <th>program_genre</th>\n",
              "      <th>series_title</th>\n",
              "      <th>hd</th>\n",
              "      <th>original_name</th>\n",
              "    </tr>\n",
              "  </thead>\n",
              "  <tbody>\n",
              "    <tr>\n",
              "      <th>1800670</th>\n",
              "      <td>2017-12-25</td>\n",
              "      <td>30881</td>\n",
              "      <td>War for the Planet of the Apes</td>\n",
              "      <td>2053603</td>\n",
              "      <td>Movie</td>\n",
              "      <td>0</td>\n",
              "      <td>0</td>\n",
              "      <td>Action MovieWar for the Planet of the Apes (HD)</td>\n",
              "      <td>Action</td>\n",
              "      <td>0</td>\n",
              "      <td>1</td>\n",
              "      <td>War for the Planet of the Apes</td>\n",
              "    </tr>\n",
              "  </tbody>\n",
              "</table>\n",
              "</div>\n",
              "      <button class=\"colab-df-convert\" onclick=\"convertToInteractive('df-bc93452c-0b60-467e-bd70-175a050b2ea8')\"\n",
              "              title=\"Convert this dataframe to an interactive table.\"\n",
              "              style=\"display:none;\">\n",
              "        \n",
              "  <svg xmlns=\"http://www.w3.org/2000/svg\" height=\"24px\"viewBox=\"0 0 24 24\"\n",
              "       width=\"24px\">\n",
              "    <path d=\"M0 0h24v24H0V0z\" fill=\"none\"/>\n",
              "    <path d=\"M18.56 5.44l.94 2.06.94-2.06 2.06-.94-2.06-.94-.94-2.06-.94 2.06-2.06.94zm-11 1L8.5 8.5l.94-2.06 2.06-.94-2.06-.94L8.5 2.5l-.94 2.06-2.06.94zm10 10l.94 2.06.94-2.06 2.06-.94-2.06-.94-.94-2.06-.94 2.06-2.06.94z\"/><path d=\"M17.41 7.96l-1.37-1.37c-.4-.4-.92-.59-1.43-.59-.52 0-1.04.2-1.43.59L10.3 9.45l-7.72 7.72c-.78.78-.78 2.05 0 2.83L4 21.41c.39.39.9.59 1.41.59.51 0 1.02-.2 1.41-.59l7.78-7.78 2.81-2.81c.8-.78.8-2.07 0-2.86zM5.41 20L4 18.59l7.72-7.72 1.47 1.35L5.41 20z\"/>\n",
              "  </svg>\n",
              "      </button>\n",
              "      \n",
              "  <style>\n",
              "    .colab-df-container {\n",
              "      display:flex;\n",
              "      flex-wrap:wrap;\n",
              "      gap: 12px;\n",
              "    }\n",
              "\n",
              "    .colab-df-convert {\n",
              "      background-color: #E8F0FE;\n",
              "      border: none;\n",
              "      border-radius: 50%;\n",
              "      cursor: pointer;\n",
              "      display: none;\n",
              "      fill: #1967D2;\n",
              "      height: 32px;\n",
              "      padding: 0 0 0 0;\n",
              "      width: 32px;\n",
              "    }\n",
              "\n",
              "    .colab-df-convert:hover {\n",
              "      background-color: #E2EBFA;\n",
              "      box-shadow: 0px 1px 2px rgba(60, 64, 67, 0.3), 0px 1px 3px 1px rgba(60, 64, 67, 0.15);\n",
              "      fill: #174EA6;\n",
              "    }\n",
              "\n",
              "    [theme=dark] .colab-df-convert {\n",
              "      background-color: #3B4455;\n",
              "      fill: #D2E3FC;\n",
              "    }\n",
              "\n",
              "    [theme=dark] .colab-df-convert:hover {\n",
              "      background-color: #434B5C;\n",
              "      box-shadow: 0px 1px 3px 1px rgba(0, 0, 0, 0.15);\n",
              "      filter: drop-shadow(0px 1px 2px rgba(0, 0, 0, 0.3));\n",
              "      fill: #FFFFFF;\n",
              "    }\n",
              "  </style>\n",
              "\n",
              "      <script>\n",
              "        const buttonEl =\n",
              "          document.querySelector('#df-bc93452c-0b60-467e-bd70-175a050b2ea8 button.colab-df-convert');\n",
              "        buttonEl.style.display =\n",
              "          google.colab.kernel.accessAllowed ? 'block' : 'none';\n",
              "\n",
              "        async function convertToInteractive(key) {\n",
              "          const element = document.querySelector('#df-bc93452c-0b60-467e-bd70-175a050b2ea8');\n",
              "          const dataTable =\n",
              "            await google.colab.kernel.invokeFunction('convertToInteractive',\n",
              "                                                     [key], {});\n",
              "          if (!dataTable) return;\n",
              "\n",
              "          const docLinkHtml = 'Like what you see? Visit the ' +\n",
              "            '<a target=\"_blank\" href=https://colab.research.google.com/notebooks/data_table.ipynb>data table notebook</a>'\n",
              "            + ' to learn more about interactive tables.';\n",
              "          element.innerHTML = '';\n",
              "          dataTable['output_type'] = 'display_data';\n",
              "          await google.colab.output.renderOutput(dataTable, element);\n",
              "          const docLink = document.createElement('div');\n",
              "          docLink.innerHTML = docLinkHtml;\n",
              "          element.appendChild(docLink);\n",
              "        }\n",
              "      </script>\n",
              "    </div>\n",
              "  </div>\n",
              "  "
            ]
          },
          "metadata": {},
          "execution_count": 46
        }
      ]
    },
    {
      "cell_type": "code",
      "source": [
        "# Inspect some of the movies this user who holds the record of the most watching duration in movies type.\n",
        "df[(df[\"user_id\"] == 30881) & (df[\"program_name\"] == \"Emoji Movie\")]"
      ],
      "metadata": {
        "colab": {
          "base_uri": "https://localhost:8080/",
          "height": 112
        },
        "id": "UyJxMv4HaasQ",
        "outputId": "8dab5e2f-05be-4e14-94ae-e91aecdec2eb"
      },
      "execution_count": 47,
      "outputs": [
        {
          "output_type": "execute_result",
          "data": {
            "text/plain": [
              "              date  user_id program_name  duration_seconds program_type  \\\n",
              "1806277 2017-11-17    30881  Emoji Movie                88        Movie   \n",
              "1806707 2017-11-17    30881  Emoji Movie              4738        Movie   \n",
              "\n",
              "         season  episode                program_desc program_genre  \\\n",
              "1806277       0        0  Animation MovieEmoji Movie     Animation   \n",
              "1806707       0        0  Animation MovieEmoji Movie     Animation   \n",
              "\n",
              "         series_title  hd original_name  \n",
              "1806277             0   0   Emoji Movie  \n",
              "1806707             0   0   Emoji Movie  "
            ],
            "text/html": [
              "\n",
              "  <div id=\"df-96e43e81-952a-4a24-b86b-96fe41670e25\">\n",
              "    <div class=\"colab-df-container\">\n",
              "      <div>\n",
              "<style scoped>\n",
              "    .dataframe tbody tr th:only-of-type {\n",
              "        vertical-align: middle;\n",
              "    }\n",
              "\n",
              "    .dataframe tbody tr th {\n",
              "        vertical-align: top;\n",
              "    }\n",
              "\n",
              "    .dataframe thead th {\n",
              "        text-align: right;\n",
              "    }\n",
              "</style>\n",
              "<table border=\"1\" class=\"dataframe\">\n",
              "  <thead>\n",
              "    <tr style=\"text-align: right;\">\n",
              "      <th></th>\n",
              "      <th>date</th>\n",
              "      <th>user_id</th>\n",
              "      <th>program_name</th>\n",
              "      <th>duration_seconds</th>\n",
              "      <th>program_type</th>\n",
              "      <th>season</th>\n",
              "      <th>episode</th>\n",
              "      <th>program_desc</th>\n",
              "      <th>program_genre</th>\n",
              "      <th>series_title</th>\n",
              "      <th>hd</th>\n",
              "      <th>original_name</th>\n",
              "    </tr>\n",
              "  </thead>\n",
              "  <tbody>\n",
              "    <tr>\n",
              "      <th>1806277</th>\n",
              "      <td>2017-11-17</td>\n",
              "      <td>30881</td>\n",
              "      <td>Emoji Movie</td>\n",
              "      <td>88</td>\n",
              "      <td>Movie</td>\n",
              "      <td>0</td>\n",
              "      <td>0</td>\n",
              "      <td>Animation MovieEmoji Movie</td>\n",
              "      <td>Animation</td>\n",
              "      <td>0</td>\n",
              "      <td>0</td>\n",
              "      <td>Emoji Movie</td>\n",
              "    </tr>\n",
              "    <tr>\n",
              "      <th>1806707</th>\n",
              "      <td>2017-11-17</td>\n",
              "      <td>30881</td>\n",
              "      <td>Emoji Movie</td>\n",
              "      <td>4738</td>\n",
              "      <td>Movie</td>\n",
              "      <td>0</td>\n",
              "      <td>0</td>\n",
              "      <td>Animation MovieEmoji Movie</td>\n",
              "      <td>Animation</td>\n",
              "      <td>0</td>\n",
              "      <td>0</td>\n",
              "      <td>Emoji Movie</td>\n",
              "    </tr>\n",
              "  </tbody>\n",
              "</table>\n",
              "</div>\n",
              "      <button class=\"colab-df-convert\" onclick=\"convertToInteractive('df-96e43e81-952a-4a24-b86b-96fe41670e25')\"\n",
              "              title=\"Convert this dataframe to an interactive table.\"\n",
              "              style=\"display:none;\">\n",
              "        \n",
              "  <svg xmlns=\"http://www.w3.org/2000/svg\" height=\"24px\"viewBox=\"0 0 24 24\"\n",
              "       width=\"24px\">\n",
              "    <path d=\"M0 0h24v24H0V0z\" fill=\"none\"/>\n",
              "    <path d=\"M18.56 5.44l.94 2.06.94-2.06 2.06-.94-2.06-.94-.94-2.06-.94 2.06-2.06.94zm-11 1L8.5 8.5l.94-2.06 2.06-.94-2.06-.94L8.5 2.5l-.94 2.06-2.06.94zm10 10l.94 2.06.94-2.06 2.06-.94-2.06-.94-.94-2.06-.94 2.06-2.06.94z\"/><path d=\"M17.41 7.96l-1.37-1.37c-.4-.4-.92-.59-1.43-.59-.52 0-1.04.2-1.43.59L10.3 9.45l-7.72 7.72c-.78.78-.78 2.05 0 2.83L4 21.41c.39.39.9.59 1.41.59.51 0 1.02-.2 1.41-.59l7.78-7.78 2.81-2.81c.8-.78.8-2.07 0-2.86zM5.41 20L4 18.59l7.72-7.72 1.47 1.35L5.41 20z\"/>\n",
              "  </svg>\n",
              "      </button>\n",
              "      \n",
              "  <style>\n",
              "    .colab-df-container {\n",
              "      display:flex;\n",
              "      flex-wrap:wrap;\n",
              "      gap: 12px;\n",
              "    }\n",
              "\n",
              "    .colab-df-convert {\n",
              "      background-color: #E8F0FE;\n",
              "      border: none;\n",
              "      border-radius: 50%;\n",
              "      cursor: pointer;\n",
              "      display: none;\n",
              "      fill: #1967D2;\n",
              "      height: 32px;\n",
              "      padding: 0 0 0 0;\n",
              "      width: 32px;\n",
              "    }\n",
              "\n",
              "    .colab-df-convert:hover {\n",
              "      background-color: #E2EBFA;\n",
              "      box-shadow: 0px 1px 2px rgba(60, 64, 67, 0.3), 0px 1px 3px 1px rgba(60, 64, 67, 0.15);\n",
              "      fill: #174EA6;\n",
              "    }\n",
              "\n",
              "    [theme=dark] .colab-df-convert {\n",
              "      background-color: #3B4455;\n",
              "      fill: #D2E3FC;\n",
              "    }\n",
              "\n",
              "    [theme=dark] .colab-df-convert:hover {\n",
              "      background-color: #434B5C;\n",
              "      box-shadow: 0px 1px 3px 1px rgba(0, 0, 0, 0.15);\n",
              "      filter: drop-shadow(0px 1px 2px rgba(0, 0, 0, 0.3));\n",
              "      fill: #FFFFFF;\n",
              "    }\n",
              "  </style>\n",
              "\n",
              "      <script>\n",
              "        const buttonEl =\n",
              "          document.querySelector('#df-96e43e81-952a-4a24-b86b-96fe41670e25 button.colab-df-convert');\n",
              "        buttonEl.style.display =\n",
              "          google.colab.kernel.accessAllowed ? 'block' : 'none';\n",
              "\n",
              "        async function convertToInteractive(key) {\n",
              "          const element = document.querySelector('#df-96e43e81-952a-4a24-b86b-96fe41670e25');\n",
              "          const dataTable =\n",
              "            await google.colab.kernel.invokeFunction('convertToInteractive',\n",
              "                                                     [key], {});\n",
              "          if (!dataTable) return;\n",
              "\n",
              "          const docLinkHtml = 'Like what you see? Visit the ' +\n",
              "            '<a target=\"_blank\" href=https://colab.research.google.com/notebooks/data_table.ipynb>data table notebook</a>'\n",
              "            + ' to learn more about interactive tables.';\n",
              "          element.innerHTML = '';\n",
              "          dataTable['output_type'] = 'display_data';\n",
              "          await google.colab.output.renderOutput(dataTable, element);\n",
              "          const docLink = document.createElement('div');\n",
              "          docLink.innerHTML = docLinkHtml;\n",
              "          element.appendChild(docLink);\n",
              "        }\n",
              "      </script>\n",
              "    </div>\n",
              "  </div>\n",
              "  "
            ]
          },
          "metadata": {},
          "execution_count": 47
        }
      ]
    },
    {
      "cell_type": "code",
      "source": [
        "# Inspect with two records of the same user_id & movie\n",
        "df.iloc[1806707], df.iloc[1806277]"
      ],
      "metadata": {
        "colab": {
          "base_uri": "https://localhost:8080/"
        },
        "id": "-lwRSynOaz_v",
        "outputId": "8679c9d5-381d-4d43-91c8-b5697724b935"
      },
      "execution_count": 48,
      "outputs": [
        {
          "output_type": "execute_result",
          "data": {
            "text/plain": [
              "(date                       2017-11-17 00:00:00\n",
              " user_id                                  30881\n",
              " program_name                       Emoji Movie\n",
              " duration_seconds                          4738\n",
              " program_type                             Movie\n",
              " season                                       0\n",
              " episode                                      0\n",
              " program_desc        Animation MovieEmoji Movie\n",
              " program_genre                        Animation\n",
              " series_title                                 0\n",
              " hd                                           0\n",
              " original_name                      Emoji Movie\n",
              " Name: 1806707, dtype: object, date                       2017-11-17 00:00:00\n",
              " user_id                                  30881\n",
              " program_name                       Emoji Movie\n",
              " duration_seconds                            88\n",
              " program_type                             Movie\n",
              " season                                       0\n",
              " episode                                      0\n",
              " program_desc        Animation MovieEmoji Movie\n",
              " program_genre                        Animation\n",
              " series_title                                 0\n",
              " hd                                           0\n",
              " original_name                      Emoji Movie\n",
              " Name: 1806277, dtype: object)"
            ]
          },
          "metadata": {},
          "execution_count": 48
        }
      ]
    },
    {
      "cell_type": "markdown",
      "source": [
        "It's the same maybe if we have the timestamp we will get to know more insights on this.. since the 00:00:00 at midnight is a pandas default."
      ],
      "metadata": {
        "id": "d2ToFqJdkL0S"
      }
    },
    {
      "cell_type": "markdown",
      "source": [
        "Keypoints for quantitaive [hd, season, episode, series_title, duration_seconds]:\n",
        "- For hd:\n",
        "    - hd feature only have 1 which indicates the movie / tv show have hd resolution otherwise 0 it doesn't have one.\n",
        "    - hd for higher / lower resolution the percentages goes like: 36% / 63% respectively.\n",
        "    - There's no indicators for 4k, FHD and so on ... maybe it's the old version of Jawwy tv. or that's how they're referenced in the dataset for 4k it gives it 1 other than 4k it goes by 0.\n",
        "\n",
        "\n",
        "- For season:\n",
        "    - Only applicaple for Movies, For TV Shows there's no season obviously but just wanna make sure. Because some sites call it \"sequel\" instead of season.\n",
        "    - Nearly ~2 Million Movie that have more than one season.\n",
        "\n",
        "- For episode:\n",
        "    - The range of episodes between 0 — 282. whether it's a movie or one episode of a TV Show.\n",
        "    - The Average episodes that the users had been watched is ~7 episodes. But that's not the case if there's an outlier.\n",
        "    - The median for this feature is 1. that means there's an outlier it seems normal because not everyone watches only a single movie. Some people maybe binge watching some TV Shows out there. Another possibility is people who falls asleep during watch along parties and such a thing could be a disastrous for database records. Why is that ? because the feature of \"auto play\" to next episode or recommendation to another and the user is sleeping that will keep the system to auto record every single activity as long as the user are sleeping....ZzZ.\n",
        "    - Most popular number for episode the user watches are 0. Which means he either watches a movie or one episode of a TV Show.\n",
        "\n",
        "- For series_title:\n",
        "     - for series_title = 1, Only TV Show have this value And for series_title = 0 have both TV Show & Movie. So i put a hypothesis maybe it's an indicator for \"ONE\" title and \"TWO\" title respectivly. But after inspecting more I was proved wrong because there's some rows in series_title of 0 have only ONE title. So the format that i imagined inside my head are like this (Original Movie/epsiode title + the episode name).\n",
        "\n",
        "- For duration_seconds:\n",
        "    - It seems like the number of seconds someone watching the episode of a movie or TV show.\n",
        "    - What's interesting is the duration of seconds some users have like = 2053603 Seconds which equals to ~570 Hours🔴which are a lot of time for watching a movie. But it seems to have some feature for cumulative recording mechanism because there's no movie with 570 hours long.\n",
        "    - For cumulative part I inspected some other movies of this user(30881) and i found that movie named \"Emoji Movie\" which have 2 reconds at the same day even though the time is unknown because Jawwy doesn't record in their. But that's interesting how they separate those records ? is it by some specific duration ? or by logging out / log in again ?.\n",
        "    - Another possibility of those huge durations of time the same as \"Auto play\" for next episode but this like a loop for the same episode.\n",
        "\n"
      ],
      "metadata": {
        "id": "TMkrHxlNNUYY"
      }
    },
    {
      "cell_type": "markdown",
      "source": [
        "#### Drop duplicates"
      ],
      "metadata": {
        "id": "Id09Fq5lLlSb"
      }
    },
    {
      "cell_type": "code",
      "source": [
        "# Check for duplicates in the entire DataFrame\n",
        "mask_duplicates = df.duplicated()\n",
        "df[mask_duplicates]"
      ],
      "metadata": {
        "id": "qSxr87EK_C5X",
        "colab": {
          "base_uri": "https://localhost:8080/",
          "height": 641
        },
        "outputId": "bbe86192-0c5c-40f3-bde1-b23bc893d6d5"
      },
      "execution_count": 49,
      "outputs": [
        {
          "output_type": "execute_result",
          "data": {
            "text/plain": [
              "              date  user_id  \\\n",
              "515     2017-08-01     1933   \n",
              "617     2017-09-16    25017   \n",
              "671     2018-01-27    29953   \n",
              "724     2018-03-03     3180   \n",
              "1002    2018-04-24     3094   \n",
              "...            ...      ...   \n",
              "3598426 2018-03-13     8715   \n",
              "3598453 2018-01-29     8715   \n",
              "3598485 2018-01-24     8715   \n",
              "3598598 2017-09-14    10486   \n",
              "3598600 2017-09-14    10486   \n",
              "\n",
              "                                              program_name  duration_seconds  \\\n",
              "515                    Lego cooby-Doo! Blowout Beach Bash                 81   \n",
              "617                                         The Boss Baby                 90   \n",
              "671                             Madagascar: Escape  Africa               135   \n",
              "724                   The Adventures of Petey and Friends                 64   \n",
              "1002                                            Ferdinand                 92   \n",
              "...                                                    ...               ...   \n",
              "3598426             Dora The Explorer  Kittens In Mittens               1380   \n",
              "3598453  Blaze And The Monster Machines  The Driving Fo...              1305   \n",
              "3598485     Blaze And The Monster Machines  Truck Rangers               1318   \n",
              "3598598                                     The Boss Baby                 90   \n",
              "3598600                                     The Boss Baby                 90   \n",
              "\n",
              "        program_type  season  episode  \\\n",
              "515            Movie       0        0   \n",
              "617            Movie       0        0   \n",
              "671            Movie       0        0   \n",
              "724            Movie       0        0   \n",
              "1002           Movie       0        0   \n",
              "...              ...     ...      ...   \n",
              "3598426      TV Show       8        7   \n",
              "3598453      TV Show       1        3   \n",
              "3598485      TV Show       1       15   \n",
              "3598598        Movie       0        0   \n",
              "3598600        Movie       0        0   \n",
              "\n",
              "                                              program_desc program_genre  \\\n",
              "515      Animation MovieLego Scooby-Doo! Blowout Beach ...     Animation   \n",
              "617                      Animation MovieThe Boss Baby (HD)     Animation   \n",
              "671             Animation MovieMadagascar: Escape 2 Africa     Animation   \n",
              "724      Animation MovieThe Adventures of Petey and Fri...     Animation   \n",
              "1002                         Animation MovieFerdinand (HD)     Animation   \n",
              "...                                                    ...           ...   \n",
              "3598426             Animation MovieKittens In Mittens (HD)     Animation   \n",
              "3598453              Animation MovieThe Driving Force (HD)     Animation   \n",
              "3598485                  Animation MovieTruck Rangers (HD)     Animation   \n",
              "3598598                  Animation MovieThe Boss Baby (HD)     Animation   \n",
              "3598600                  Animation MovieThe Boss Baby (HD)     Animation   \n",
              "\n",
              "         series_title  hd                        original_name  \n",
              "515                 0   1   Lego cooby-Doo! Blowout Beach Bash  \n",
              "617                 0   1                        The Boss Baby  \n",
              "671                 0   0           Madagascar: Escape  Africa  \n",
              "724                 0   1  The Adventures of Petey and Friends  \n",
              "1002                0   1                            Ferdinand  \n",
              "...               ...  ..                                  ...  \n",
              "3598426             0   0                  Dora The Explorer    \n",
              "3598453             0   0     Blaze And The Monster Machines    \n",
              "3598485             0   0     Blaze And The Monster Machines    \n",
              "3598598             0   1                        The Boss Baby  \n",
              "3598600             0   1                        The Boss Baby  \n",
              "\n",
              "[397883 rows x 12 columns]"
            ],
            "text/html": [
              "\n",
              "  <div id=\"df-37f6a946-870a-43be-aea8-8b991c952adc\">\n",
              "    <div class=\"colab-df-container\">\n",
              "      <div>\n",
              "<style scoped>\n",
              "    .dataframe tbody tr th:only-of-type {\n",
              "        vertical-align: middle;\n",
              "    }\n",
              "\n",
              "    .dataframe tbody tr th {\n",
              "        vertical-align: top;\n",
              "    }\n",
              "\n",
              "    .dataframe thead th {\n",
              "        text-align: right;\n",
              "    }\n",
              "</style>\n",
              "<table border=\"1\" class=\"dataframe\">\n",
              "  <thead>\n",
              "    <tr style=\"text-align: right;\">\n",
              "      <th></th>\n",
              "      <th>date</th>\n",
              "      <th>user_id</th>\n",
              "      <th>program_name</th>\n",
              "      <th>duration_seconds</th>\n",
              "      <th>program_type</th>\n",
              "      <th>season</th>\n",
              "      <th>episode</th>\n",
              "      <th>program_desc</th>\n",
              "      <th>program_genre</th>\n",
              "      <th>series_title</th>\n",
              "      <th>hd</th>\n",
              "      <th>original_name</th>\n",
              "    </tr>\n",
              "  </thead>\n",
              "  <tbody>\n",
              "    <tr>\n",
              "      <th>515</th>\n",
              "      <td>2017-08-01</td>\n",
              "      <td>1933</td>\n",
              "      <td>Lego cooby-Doo! Blowout Beach Bash</td>\n",
              "      <td>81</td>\n",
              "      <td>Movie</td>\n",
              "      <td>0</td>\n",
              "      <td>0</td>\n",
              "      <td>Animation MovieLego Scooby-Doo! Blowout Beach ...</td>\n",
              "      <td>Animation</td>\n",
              "      <td>0</td>\n",
              "      <td>1</td>\n",
              "      <td>Lego cooby-Doo! Blowout Beach Bash</td>\n",
              "    </tr>\n",
              "    <tr>\n",
              "      <th>617</th>\n",
              "      <td>2017-09-16</td>\n",
              "      <td>25017</td>\n",
              "      <td>The Boss Baby</td>\n",
              "      <td>90</td>\n",
              "      <td>Movie</td>\n",
              "      <td>0</td>\n",
              "      <td>0</td>\n",
              "      <td>Animation MovieThe Boss Baby (HD)</td>\n",
              "      <td>Animation</td>\n",
              "      <td>0</td>\n",
              "      <td>1</td>\n",
              "      <td>The Boss Baby</td>\n",
              "    </tr>\n",
              "    <tr>\n",
              "      <th>671</th>\n",
              "      <td>2018-01-27</td>\n",
              "      <td>29953</td>\n",
              "      <td>Madagascar: Escape  Africa</td>\n",
              "      <td>135</td>\n",
              "      <td>Movie</td>\n",
              "      <td>0</td>\n",
              "      <td>0</td>\n",
              "      <td>Animation MovieMadagascar: Escape 2 Africa</td>\n",
              "      <td>Animation</td>\n",
              "      <td>0</td>\n",
              "      <td>0</td>\n",
              "      <td>Madagascar: Escape  Africa</td>\n",
              "    </tr>\n",
              "    <tr>\n",
              "      <th>724</th>\n",
              "      <td>2018-03-03</td>\n",
              "      <td>3180</td>\n",
              "      <td>The Adventures of Petey and Friends</td>\n",
              "      <td>64</td>\n",
              "      <td>Movie</td>\n",
              "      <td>0</td>\n",
              "      <td>0</td>\n",
              "      <td>Animation MovieThe Adventures of Petey and Fri...</td>\n",
              "      <td>Animation</td>\n",
              "      <td>0</td>\n",
              "      <td>1</td>\n",
              "      <td>The Adventures of Petey and Friends</td>\n",
              "    </tr>\n",
              "    <tr>\n",
              "      <th>1002</th>\n",
              "      <td>2018-04-24</td>\n",
              "      <td>3094</td>\n",
              "      <td>Ferdinand</td>\n",
              "      <td>92</td>\n",
              "      <td>Movie</td>\n",
              "      <td>0</td>\n",
              "      <td>0</td>\n",
              "      <td>Animation MovieFerdinand (HD)</td>\n",
              "      <td>Animation</td>\n",
              "      <td>0</td>\n",
              "      <td>1</td>\n",
              "      <td>Ferdinand</td>\n",
              "    </tr>\n",
              "    <tr>\n",
              "      <th>...</th>\n",
              "      <td>...</td>\n",
              "      <td>...</td>\n",
              "      <td>...</td>\n",
              "      <td>...</td>\n",
              "      <td>...</td>\n",
              "      <td>...</td>\n",
              "      <td>...</td>\n",
              "      <td>...</td>\n",
              "      <td>...</td>\n",
              "      <td>...</td>\n",
              "      <td>...</td>\n",
              "      <td>...</td>\n",
              "    </tr>\n",
              "    <tr>\n",
              "      <th>3598426</th>\n",
              "      <td>2018-03-13</td>\n",
              "      <td>8715</td>\n",
              "      <td>Dora The Explorer  Kittens In Mittens</td>\n",
              "      <td>1380</td>\n",
              "      <td>TV Show</td>\n",
              "      <td>8</td>\n",
              "      <td>7</td>\n",
              "      <td>Animation MovieKittens In Mittens (HD)</td>\n",
              "      <td>Animation</td>\n",
              "      <td>0</td>\n",
              "      <td>0</td>\n",
              "      <td>Dora The Explorer</td>\n",
              "    </tr>\n",
              "    <tr>\n",
              "      <th>3598453</th>\n",
              "      <td>2018-01-29</td>\n",
              "      <td>8715</td>\n",
              "      <td>Blaze And The Monster Machines  The Driving Fo...</td>\n",
              "      <td>1305</td>\n",
              "      <td>TV Show</td>\n",
              "      <td>1</td>\n",
              "      <td>3</td>\n",
              "      <td>Animation MovieThe Driving Force (HD)</td>\n",
              "      <td>Animation</td>\n",
              "      <td>0</td>\n",
              "      <td>0</td>\n",
              "      <td>Blaze And The Monster Machines</td>\n",
              "    </tr>\n",
              "    <tr>\n",
              "      <th>3598485</th>\n",
              "      <td>2018-01-24</td>\n",
              "      <td>8715</td>\n",
              "      <td>Blaze And The Monster Machines  Truck Rangers</td>\n",
              "      <td>1318</td>\n",
              "      <td>TV Show</td>\n",
              "      <td>1</td>\n",
              "      <td>15</td>\n",
              "      <td>Animation MovieTruck Rangers (HD)</td>\n",
              "      <td>Animation</td>\n",
              "      <td>0</td>\n",
              "      <td>0</td>\n",
              "      <td>Blaze And The Monster Machines</td>\n",
              "    </tr>\n",
              "    <tr>\n",
              "      <th>3598598</th>\n",
              "      <td>2017-09-14</td>\n",
              "      <td>10486</td>\n",
              "      <td>The Boss Baby</td>\n",
              "      <td>90</td>\n",
              "      <td>Movie</td>\n",
              "      <td>0</td>\n",
              "      <td>0</td>\n",
              "      <td>Animation MovieThe Boss Baby (HD)</td>\n",
              "      <td>Animation</td>\n",
              "      <td>0</td>\n",
              "      <td>1</td>\n",
              "      <td>The Boss Baby</td>\n",
              "    </tr>\n",
              "    <tr>\n",
              "      <th>3598600</th>\n",
              "      <td>2017-09-14</td>\n",
              "      <td>10486</td>\n",
              "      <td>The Boss Baby</td>\n",
              "      <td>90</td>\n",
              "      <td>Movie</td>\n",
              "      <td>0</td>\n",
              "      <td>0</td>\n",
              "      <td>Animation MovieThe Boss Baby (HD)</td>\n",
              "      <td>Animation</td>\n",
              "      <td>0</td>\n",
              "      <td>1</td>\n",
              "      <td>The Boss Baby</td>\n",
              "    </tr>\n",
              "  </tbody>\n",
              "</table>\n",
              "<p>397883 rows × 12 columns</p>\n",
              "</div>\n",
              "      <button class=\"colab-df-convert\" onclick=\"convertToInteractive('df-37f6a946-870a-43be-aea8-8b991c952adc')\"\n",
              "              title=\"Convert this dataframe to an interactive table.\"\n",
              "              style=\"display:none;\">\n",
              "        \n",
              "  <svg xmlns=\"http://www.w3.org/2000/svg\" height=\"24px\"viewBox=\"0 0 24 24\"\n",
              "       width=\"24px\">\n",
              "    <path d=\"M0 0h24v24H0V0z\" fill=\"none\"/>\n",
              "    <path d=\"M18.56 5.44l.94 2.06.94-2.06 2.06-.94-2.06-.94-.94-2.06-.94 2.06-2.06.94zm-11 1L8.5 8.5l.94-2.06 2.06-.94-2.06-.94L8.5 2.5l-.94 2.06-2.06.94zm10 10l.94 2.06.94-2.06 2.06-.94-2.06-.94-.94-2.06-.94 2.06-2.06.94z\"/><path d=\"M17.41 7.96l-1.37-1.37c-.4-.4-.92-.59-1.43-.59-.52 0-1.04.2-1.43.59L10.3 9.45l-7.72 7.72c-.78.78-.78 2.05 0 2.83L4 21.41c.39.39.9.59 1.41.59.51 0 1.02-.2 1.41-.59l7.78-7.78 2.81-2.81c.8-.78.8-2.07 0-2.86zM5.41 20L4 18.59l7.72-7.72 1.47 1.35L5.41 20z\"/>\n",
              "  </svg>\n",
              "      </button>\n",
              "      \n",
              "  <style>\n",
              "    .colab-df-container {\n",
              "      display:flex;\n",
              "      flex-wrap:wrap;\n",
              "      gap: 12px;\n",
              "    }\n",
              "\n",
              "    .colab-df-convert {\n",
              "      background-color: #E8F0FE;\n",
              "      border: none;\n",
              "      border-radius: 50%;\n",
              "      cursor: pointer;\n",
              "      display: none;\n",
              "      fill: #1967D2;\n",
              "      height: 32px;\n",
              "      padding: 0 0 0 0;\n",
              "      width: 32px;\n",
              "    }\n",
              "\n",
              "    .colab-df-convert:hover {\n",
              "      background-color: #E2EBFA;\n",
              "      box-shadow: 0px 1px 2px rgba(60, 64, 67, 0.3), 0px 1px 3px 1px rgba(60, 64, 67, 0.15);\n",
              "      fill: #174EA6;\n",
              "    }\n",
              "\n",
              "    [theme=dark] .colab-df-convert {\n",
              "      background-color: #3B4455;\n",
              "      fill: #D2E3FC;\n",
              "    }\n",
              "\n",
              "    [theme=dark] .colab-df-convert:hover {\n",
              "      background-color: #434B5C;\n",
              "      box-shadow: 0px 1px 3px 1px rgba(0, 0, 0, 0.15);\n",
              "      filter: drop-shadow(0px 1px 2px rgba(0, 0, 0, 0.3));\n",
              "      fill: #FFFFFF;\n",
              "    }\n",
              "  </style>\n",
              "\n",
              "      <script>\n",
              "        const buttonEl =\n",
              "          document.querySelector('#df-37f6a946-870a-43be-aea8-8b991c952adc button.colab-df-convert');\n",
              "        buttonEl.style.display =\n",
              "          google.colab.kernel.accessAllowed ? 'block' : 'none';\n",
              "\n",
              "        async function convertToInteractive(key) {\n",
              "          const element = document.querySelector('#df-37f6a946-870a-43be-aea8-8b991c952adc');\n",
              "          const dataTable =\n",
              "            await google.colab.kernel.invokeFunction('convertToInteractive',\n",
              "                                                     [key], {});\n",
              "          if (!dataTable) return;\n",
              "\n",
              "          const docLinkHtml = 'Like what you see? Visit the ' +\n",
              "            '<a target=\"_blank\" href=https://colab.research.google.com/notebooks/data_table.ipynb>data table notebook</a>'\n",
              "            + ' to learn more about interactive tables.';\n",
              "          element.innerHTML = '';\n",
              "          dataTable['output_type'] = 'display_data';\n",
              "          await google.colab.output.renderOutput(dataTable, element);\n",
              "          const docLink = document.createElement('div');\n",
              "          docLink.innerHTML = docLinkHtml;\n",
              "          element.appendChild(docLink);\n",
              "        }\n",
              "      </script>\n",
              "    </div>\n",
              "  </div>\n",
              "  "
            ]
          },
          "metadata": {},
          "execution_count": 49
        }
      ]
    },
    {
      "cell_type": "markdown",
      "source": [
        "We can see the bottom 2 rows that's a duplicate right there. Also seems like there's a lot of duplicates 300K is not a small number even though the entire rows sums up to ~3M.\n",
        "\n",
        "Lets see the percentage of the duplicates to the WHOLE dataset."
      ],
      "metadata": {
        "id": "xWiZhw0UgLUu"
      }
    },
    {
      "cell_type": "code",
      "source": [
        "# Get the Number of duplicates & Percentage to the whole DataFrame\n",
        "print(f\"Number of Duplicates: {mask_duplicates.sum():_}\")\n",
        "print(f\"Percentage of duplicates to the whole DF: {get_percentage(mask_duplicates.sum(), len(df))}\")"
      ],
      "metadata": {
        "colab": {
          "base_uri": "https://localhost:8080/"
        },
        "id": "ZiebrH_Hflmt",
        "outputId": "b8207259-7f4d-41ef-dfd9-5c563d1acb4c"
      },
      "execution_count": 50,
      "outputs": [
        {
          "output_type": "stream",
          "name": "stdout",
          "text": [
            "Number of Duplicates: 397_883\n",
            "Percentage of duplicates to the whole DF: 11.06%\n"
          ]
        }
      ]
    },
    {
      "cell_type": "code",
      "source": [
        "# Free up memory since we don't need the mask anymore\n",
        "del mask_duplicates"
      ],
      "metadata": {
        "id": "bi1-MJ0FI_h4"
      },
      "execution_count": 51,
      "outputs": []
    },
    {
      "cell_type": "markdown",
      "source": [
        "Data Attributes Information:\n",
        "\n",
        "Name — Data Type(Pandas) — Data Type(Statistic term) — Description\n",
        "- date — datetime object — Quantitative — Values 2017-03-14 / 2018-04-30 indicates users activity in Jawwy TV database.\n",
        "- user_id — integer object — Quantitative — contains of user_id not unique the user may get duplicated (E.g. user 1 may get 20 movie watching).\n",
        "- program_name — pandas object — Qualitative — The movie or TV Show name episode.\n",
        "- duration_seconds — integer object — Quantitative — Duration of a single user watching Movies/TV shows.\n",
        "- program_type — pandas object — Quantitative — Whether a user watched a Movie or TV Show.\n",
        "- season — integer object — Quantitative — indicates a user watched one season(0) indexed in DataFrame. Or 1 and more.\n",
        "- episode — integer object — Quantitative — Indicates a user how many episodes he/she watched.\n",
        "- program_desc — pandas object — Qualitative — A small description for a Movie/TV Show.\n",
        "- program_genre — pandas category object — Qualitative — Types of genre of the Movie / TV Show. whether it's Drama, Sci-Fi, etc..\n",
        "- series_title — integer object — Quantitative — A binary indicator of 0, 1. it's UNKNOWN for me untill now what those mean.\n",
        "- hd — integer object — Quantitative — A binary indicator for resolution whether 1 HD or 0 SD resolution.\n",
        "- original_name — pandas category —  Qualitative — Name of the Movie / TV Show. Unlike \"program_name\" which may contain the episode name and NOT the *original* series name."
      ],
      "metadata": {
        "id": "6AYDW8hfk_02"
      }
    },
    {
      "cell_type": "markdown",
      "source": [
        "Ok that's enough of data analysis and manipulation for now!"
      ],
      "metadata": {
        "id": "cRmpkE_A1tog"
      }
    },
    {
      "cell_type": "code",
      "source": [],
      "metadata": {
        "id": "82ybG6lGjV1h"
      },
      "execution_count": 51,
      "outputs": []
    },
    {
      "cell_type": "markdown",
      "source": [
        "## Exploratory Data Analysis & Statistical Hypothesis Testing\n"
      ],
      "metadata": {
        "id": "By2WjRe5x7g8"
      }
    },
    {
      "cell_type": "markdown",
      "source": [
        "### Statistical analysis"
      ],
      "metadata": {
        "id": "WWZWH2eQ3ZN7"
      }
    },
    {
      "cell_type": "markdown",
      "source": [
        "#### Standard Deviation\n",
        "Measures the variation or dispersion of a set of values.\n",
        "\n",
        "In simple words, High values mean higher variability.\n",
        "- Bigger than the mean(average) ==> Higher variation.\n"
      ],
      "metadata": {
        "id": "a4xlDcmN5Qyl"
      }
    },
    {
      "cell_type": "code",
      "source": [
        "# Check the Standard deviation\n",
        "print(df[\"duration_seconds\"].mean())\n",
        "df[\"duration_seconds\"].std()"
      ],
      "metadata": {
        "colab": {
          "base_uri": "https://localhost:8080/"
        },
        "id": "pHhhx7w6x6_-",
        "outputId": "ed74be4e-8f03-4583-a721-1c74ae2ec6df"
      },
      "execution_count": 53,
      "outputs": [
        {
          "output_type": "stream",
          "name": "stdout",
          "text": [
            "1177.635590382612\n"
          ]
        },
        {
          "output_type": "execute_result",
          "data": {
            "text/plain": [
              "6231.966899676256"
            ]
          },
          "metadata": {},
          "execution_count": 53
        }
      ]
    },
    {
      "cell_type": "markdown",
      "source": [
        "We can see here that the values dispersed, Which means there are users who watches a lot of movies / TV Shows. (Probably Binge watching)"
      ],
      "metadata": {
        "id": "1PbF2opB51aX"
      }
    },
    {
      "cell_type": "markdown",
      "source": [
        "#### Confidence interval\n",
        "A range that gives a sense of how precisely a statistic estimates a parameter.\n",
        "\n",
        "In simple words, It'll give you a notion of how much the parameter or coefficient vary. \n",
        "\n",
        "---\n",
        "Lets test couple of things:\n",
        "- season.\n",
        "- episodes."
      ],
      "metadata": {
        "id": "mbRexaxIAeRl"
      }
    },
    {
      "cell_type": "code",
      "source": [
        "# Confidence interval of the season mean\n",
        "print(df[[\"season\"]].mean())\n",
        "st.norm.interval(alpha=0.95,\n",
        "                 loc=df[\"season\"].mean(),\n",
        "                 scale=st.sem(df[\"season\"]))"
      ],
      "metadata": {
        "colab": {
          "base_uri": "https://localhost:8080/"
        },
        "id": "2mDM4eXFAd8v",
        "outputId": "78b095e2-99b3-4d17-9d73-67001629c66e"
      },
      "execution_count": 54,
      "outputs": [
        {
          "output_type": "stream",
          "name": "stdout",
          "text": [
            "season    1.426785\n",
            "dtype: float64\n"
          ]
        },
        {
          "output_type": "execute_result",
          "data": {
            "text/plain": [
              "(1.4245705358900655, 1.4289997483893793)"
            ]
          },
          "metadata": {},
          "execution_count": 54
        }
      ]
    },
    {
      "cell_type": "markdown",
      "source": [
        "We can see that the lower bound + upper bound of season mean with a Confidence interval of 95%."
      ],
      "metadata": {
        "id": "WzKOmPKbDysP"
      }
    },
    {
      "cell_type": "code",
      "source": [
        "# Histogram of the season mean\n",
        "df[[\"season\"]].hist();"
      ],
      "metadata": {
        "colab": {
          "base_uri": "https://localhost:8080/",
          "height": 281
        },
        "id": "N8QiTPKl5HWm",
        "outputId": "bdb2c2e0-8c9c-4c77-9730-57ca3c20a79f"
      },
      "execution_count": 55,
      "outputs": [
        {
          "output_type": "display_data",
          "data": {
            "text/plain": [
              "<Figure size 432x288 with 1 Axes>"
            ],
            "image/png": "[encoded data removed]"
          },
          "metadata": {
            "needs_background": "light"
          }
        }
      ]
    },
    {
      "cell_type": "code",
      "source": [
        "# Confidence interval of the episode mean\n",
        "print(df[[\"episode\"]].mean())\n",
        "st.norm.interval(alpha=0.95,\n",
        "                 loc=df[\"episode\"].mean(),\n",
        "                 scale=st.sem(df[\"episode\"]))"
      ],
      "metadata": {
        "colab": {
          "base_uri": "https://localhost:8080/"
        },
        "id": "F0pEp8wfCYIJ",
        "outputId": "f5906a10-62cf-4d42-d075-acf99c1cc423"
      },
      "execution_count": 56,
      "outputs": [
        {
          "output_type": "stream",
          "name": "stdout",
          "text": [
            "episode    7.028602\n",
            "dtype: float64\n"
          ]
        },
        {
          "output_type": "execute_result",
          "data": {
            "text/plain": [
              "(7.01470446475272, 7.042499892377691)"
            ]
          },
          "metadata": {},
          "execution_count": 56
        }
      ]
    },
    {
      "cell_type": "code",
      "source": [
        "# Histogram of the episode mean\n",
        "df[[\"episode\"]].hist();"
      ],
      "metadata": {
        "colab": {
          "base_uri": "https://localhost:8080/",
          "height": 281
        },
        "id": "ODtuxXEfCkvc",
        "outputId": "dd263363-bc0a-4fa6-b716-001a57659cb5"
      },
      "execution_count": 57,
      "outputs": [
        {
          "output_type": "display_data",
          "data": {
            "text/plain": [
              "<Figure size 432x288 with 1 Axes>"
            ],
            "image/png": "[encoded data removed]"
          },
          "metadata": {
            "needs_background": "light"
          }
        }
      ]
    },
    {
      "cell_type": "markdown",
      "source": [
        "#### T-test\n",
        "It helps us understand whether one group is \"Statistically\" different from the other.\n",
        "\n",
        "\n",
        "Note: Common value for significance level is 5% or α=0.05.\n",
        "And I'll be using it through out this entire section.\n"
      ],
      "metadata": {
        "id": "vwA1Bfm0GYWv"
      }
    },
    {
      "cell_type": "markdown",
      "source": [
        "###### Hypothesis\n",
        "There are two types of hypothesis:\n",
        "- Null Hypothesis: Is a hypothesis which the researchers tries nullify or reject. OR in another definition, the two variables we use are \"independent\"\n",
        "- Alternative Hypothesis: Is a hypothesis the researchers tries to prove. OR in another definition, the two variables we use are \"dependent\"\n",
        "\n",
        "\n",
        "So we're gonna test:\n",
        "- H0: Both Movie / TV Show watchers have same time duration of watching.\n",
        "- H1: movie watcher and TV show watchers are NOT the same in time watching.\n"
      ],
      "metadata": {
        "id": "InOwSVGBIBdi"
      }
    },
    {
      "cell_type": "code",
      "source": [
        "# Set the ALPHA value (p-value threshold)\n",
        "ALPHA = 0.05"
      ],
      "metadata": {
        "id": "xrJRHoHROOwd"
      },
      "execution_count": 58,
      "outputs": []
    },
    {
      "cell_type": "code",
      "source": [
        "# Subset: People who watch Movies, TV Show and get the duration for each user.\n",
        "movie_only_users = df.loc[df[\"program_type\"] == \"Movie\"].duration_seconds\n",
        "tvshow_only_users = df.loc[df[\"program_type\"] == \"TV Show\"].duration_seconds"
      ],
      "metadata": {
        "id": "Ry9VHvwVJdit"
      },
      "execution_count": 59,
      "outputs": []
    },
    {
      "cell_type": "code",
      "source": [
        "# Compute the T-test\n",
        "stats, p_t = st.ttest_ind(a=movie_only_users.sample(frac=0.05), b=tvshow_only_users.sample(frac=0.05))\n",
        "print(f\"The p-value for T-test: {p_t}\")\n",
        "\n",
        "if p_t >= ALPHA:\n",
        "    print(\"Both Movie / TV Show watchers have same time duration of watching (Failed to reject H0)\")\n",
        "else:\n",
        "    print(\"Movie watcher and TV show watcher are NOT the same in time watching (Reject H0)\")"
      ],
      "metadata": {
        "colab": {
          "base_uri": "https://localhost:8080/"
        },
        "id": "wjlL4OcCKMGX",
        "outputId": "4d704c81-4c2d-46e6-f19b-9a5ceb49a47b"
      },
      "execution_count": 60,
      "outputs": [
        {
          "output_type": "stream",
          "name": "stdout",
          "text": [
            "The p-value for T-test: 1.0544447755583053e-169\n",
            "Movie watcher and TV show watcher are NOT the same in time watching (Reject H0)\n"
          ]
        }
      ]
    },
    {
      "cell_type": "markdown",
      "source": [
        "#### Chi-square test\n",
        "Determine whether there's a statistically significant difference between the expected frequencies and the observed frequencies.\n",
        "\n",
        "Lets make a hypothesis about Movie / TV Show preference in resolution:\n",
        "- H0: there is no relationship between Movie/TV Show watchers and HD preference.\n",
        "- H1: There is a Strong relationship between Movie/TV Show watchers and HD preference."
      ],
      "metadata": {
        "id": "bZDdmOULQ6gT"
      }
    },
    {
      "cell_type": "code",
      "source": [
        "# Create the cross tab object\n",
        "tab_movtv = pd.crosstab(index=df[\"program_type\"].sample(frac=0.02),\n",
        "                        columns=df[\"hd\"].sample(frac=0.02))\n",
        "tab_movtv"
      ],
      "metadata": {
        "colab": {
          "base_uri": "https://localhost:8080/",
          "height": 143
        },
        "id": "LUQOBNXSOpvZ",
        "outputId": "c6de31c4-078e-46a4-af92-51dcc5a2af4f"
      },
      "execution_count": 61,
      "outputs": [
        {
          "output_type": "execute_result",
          "data": {
            "text/plain": [
              "hd              0    1\n",
              "program_type          \n",
              "Movie         209  427\n",
              "TV Show       750  117"
            ],
            "text/html": [
              "\n",
              "  <div id=\"df-5eb514f0-68d9-43a3-8c04-2dbbab74216f\">\n",
              "    <div class=\"colab-df-container\">\n",
              "      <div>\n",
              "<style scoped>\n",
              "    .dataframe tbody tr th:only-of-type {\n",
              "        vertical-align: middle;\n",
              "    }\n",
              "\n",
              "    .dataframe tbody tr th {\n",
              "        vertical-align: top;\n",
              "    }\n",
              "\n",
              "    .dataframe thead th {\n",
              "        text-align: right;\n",
              "    }\n",
              "</style>\n",
              "<table border=\"1\" class=\"dataframe\">\n",
              "  <thead>\n",
              "    <tr style=\"text-align: right;\">\n",
              "      <th>hd</th>\n",
              "      <th>0</th>\n",
              "      <th>1</th>\n",
              "    </tr>\n",
              "    <tr>\n",
              "      <th>program_type</th>\n",
              "      <th></th>\n",
              "      <th></th>\n",
              "    </tr>\n",
              "  </thead>\n",
              "  <tbody>\n",
              "    <tr>\n",
              "      <th>Movie</th>\n",
              "      <td>209</td>\n",
              "      <td>427</td>\n",
              "    </tr>\n",
              "    <tr>\n",
              "      <th>TV Show</th>\n",
              "      <td>750</td>\n",
              "      <td>117</td>\n",
              "    </tr>\n",
              "  </tbody>\n",
              "</table>\n",
              "</div>\n",
              "      <button class=\"colab-df-convert\" onclick=\"convertToInteractive('df-5eb514f0-68d9-43a3-8c04-2dbbab74216f')\"\n",
              "              title=\"Convert this dataframe to an interactive table.\"\n",
              "              style=\"display:none;\">\n",
              "        \n",
              "  <svg xmlns=\"http://www.w3.org/2000/svg\" height=\"24px\"viewBox=\"0 0 24 24\"\n",
              "       width=\"24px\">\n",
              "    <path d=\"M0 0h24v24H0V0z\" fill=\"none\"/>\n",
              "    <path d=\"M18.56 5.44l.94 2.06.94-2.06 2.06-.94-2.06-.94-.94-2.06-.94 2.06-2.06.94zm-11 1L8.5 8.5l.94-2.06 2.06-.94-2.06-.94L8.5 2.5l-.94 2.06-2.06.94zm10 10l.94 2.06.94-2.06 2.06-.94-2.06-.94-.94-2.06-.94 2.06-2.06.94z\"/><path d=\"M17.41 7.96l-1.37-1.37c-.4-.4-.92-.59-1.43-.59-.52 0-1.04.2-1.43.59L10.3 9.45l-7.72 7.72c-.78.78-.78 2.05 0 2.83L4 21.41c.39.39.9.59 1.41.59.51 0 1.02-.2 1.41-.59l7.78-7.78 2.81-2.81c.8-.78.8-2.07 0-2.86zM5.41 20L4 18.59l7.72-7.72 1.47 1.35L5.41 20z\"/>\n",
              "  </svg>\n",
              "      </button>\n",
              "      \n",
              "  <style>\n",
              "    .colab-df-container {\n",
              "      display:flex;\n",
              "      flex-wrap:wrap;\n",
              "      gap: 12px;\n",
              "    }\n",
              "\n",
              "    .colab-df-convert {\n",
              "      background-color: #E8F0FE;\n",
              "      border: none;\n",
              "      border-radius: 50%;\n",
              "      cursor: pointer;\n",
              "      display: none;\n",
              "      fill: #1967D2;\n",
              "      height: 32px;\n",
              "      padding: 0 0 0 0;\n",
              "      width: 32px;\n",
              "    }\n",
              "\n",
              "    .colab-df-convert:hover {\n",
              "      background-color: #E2EBFA;\n",
              "      box-shadow: 0px 1px 2px rgba(60, 64, 67, 0.3), 0px 1px 3px 1px rgba(60, 64, 67, 0.15);\n",
              "      fill: #174EA6;\n",
              "    }\n",
              "\n",
              "    [theme=dark] .colab-df-convert {\n",
              "      background-color: #3B4455;\n",
              "      fill: #D2E3FC;\n",
              "    }\n",
              "\n",
              "    [theme=dark] .colab-df-convert:hover {\n",
              "      background-color: #434B5C;\n",
              "      box-shadow: 0px 1px 3px 1px rgba(0, 0, 0, 0.15);\n",
              "      filter: drop-shadow(0px 1px 2px rgba(0, 0, 0, 0.3));\n",
              "      fill: #FFFFFF;\n",
              "    }\n",
              "  </style>\n",
              "\n",
              "      <script>\n",
              "        const buttonEl =\n",
              "          document.querySelector('#df-5eb514f0-68d9-43a3-8c04-2dbbab74216f button.colab-df-convert');\n",
              "        buttonEl.style.display =\n",
              "          google.colab.kernel.accessAllowed ? 'block' : 'none';\n",
              "\n",
              "        async function convertToInteractive(key) {\n",
              "          const element = document.querySelector('#df-5eb514f0-68d9-43a3-8c04-2dbbab74216f');\n",
              "          const dataTable =\n",
              "            await google.colab.kernel.invokeFunction('convertToInteractive',\n",
              "                                                     [key], {});\n",
              "          if (!dataTable) return;\n",
              "\n",
              "          const docLinkHtml = 'Like what you see? Visit the ' +\n",
              "            '<a target=\"_blank\" href=https://colab.research.google.com/notebooks/data_table.ipynb>data table notebook</a>'\n",
              "            + ' to learn more about interactive tables.';\n",
              "          element.innerHTML = '';\n",
              "          dataTable['output_type'] = 'display_data';\n",
              "          await google.colab.output.renderOutput(dataTable, element);\n",
              "          const docLink = document.createElement('div');\n",
              "          docLink.innerHTML = docLinkHtml;\n",
              "          element.appendChild(docLink);\n",
              "        }\n",
              "      </script>\n",
              "    </div>\n",
              "  </div>\n",
              "  "
            ]
          },
          "metadata": {},
          "execution_count": 61
        }
      ]
    },
    {
      "cell_type": "code",
      "source": [
        "# Compute the Chi-square test\n",
        "chi2, p_c, _, _ = st.chi2_contingency(tab_movtv)\n",
        "print(f\"The p-value for Chi-square test: {p_c}\")\n",
        "\n",
        "if p_c >= ALPHA:\n",
        "    print(\"There is no relationship between Movie/TV Show watchers and HD preference (Failed to reject H0)\")\n",
        "else:\n",
        "    print(\"There is a Strong relationship between Movie/TV Show watchers and HD preference (Reject H0)\")"
      ],
      "metadata": {
        "colab": {
          "base_uri": "https://localhost:8080/"
        },
        "id": "zZH9YXeARh7F",
        "outputId": "4cae5b65-f1ee-4cb0-e89a-b2e179b3b6c2"
      },
      "execution_count": 62,
      "outputs": [
        {
          "output_type": "stream",
          "name": "stdout",
          "text": [
            "The p-value for Chi-square test: 6.431612333668485e-101\n",
            "There is a Strong relationship between Movie/TV Show watchers and HD preference (Reject H0)\n"
          ]
        }
      ]
    },
    {
      "cell_type": "markdown",
      "source": [
        "Awesome!, those tests we're good enough right now.\n",
        "\n",
        "We need to do Data Visualization so we can get a good look at the users and data we have!."
      ],
      "metadata": {
        "id": "CfRbxckfWt3f"
      }
    },
    {
      "cell_type": "markdown",
      "source": [
        "### Exploratory Data Analysis"
      ],
      "metadata": {
        "id": "MSLCaT2DXbz4"
      }
    },
    {
      "cell_type": "code",
      "source": [
        "# Set the color pallate\n",
        "plt.style.use(\"tableau-colorblind10\")"
      ],
      "metadata": {
        "id": "tT2iiA20H2iv"
      },
      "execution_count": 154,
      "outputs": []
    },
    {
      "cell_type": "markdown",
      "source": [
        "#### Percentage of HD Vs. SD"
      ],
      "metadata": {
        "id": "3PGkTNs9d6sI"
      }
    },
    {
      "cell_type": "code",
      "source": [
        "res_subset = df[[\"user_id\", \"hd\"]].drop_duplicates(keep=\"first\")\n",
        "res_subset.head(2)"
      ],
      "metadata": {
        "colab": {
          "base_uri": "https://localhost:8080/",
          "height": 112
        },
        "id": "KnEn4y9SVAPk",
        "outputId": "1a4de327-c014-4457-872e-39bd5faebc81"
      },
      "execution_count": 63,
      "outputs": [
        {
          "output_type": "execute_result",
          "data": {
            "text/plain": [
              "   user_id  hd\n",
              "0    26138   0\n",
              "1     7946   1"
            ],
            "text/html": [
              "\n",
              "  <div id=\"df-a0556153-b8a8-4ac1-8395-a9bfbdebcefb\">\n",
              "    <div class=\"colab-df-container\">\n",
              "      <div>\n",
              "<style scoped>\n",
              "    .dataframe tbody tr th:only-of-type {\n",
              "        vertical-align: middle;\n",
              "    }\n",
              "\n",
              "    .dataframe tbody tr th {\n",
              "        vertical-align: top;\n",
              "    }\n",
              "\n",
              "    .dataframe thead th {\n",
              "        text-align: right;\n",
              "    }\n",
              "</style>\n",
              "<table border=\"1\" class=\"dataframe\">\n",
              "  <thead>\n",
              "    <tr style=\"text-align: right;\">\n",
              "      <th></th>\n",
              "      <th>user_id</th>\n",
              "      <th>hd</th>\n",
              "    </tr>\n",
              "  </thead>\n",
              "  <tbody>\n",
              "    <tr>\n",
              "      <th>0</th>\n",
              "      <td>26138</td>\n",
              "      <td>0</td>\n",
              "    </tr>\n",
              "    <tr>\n",
              "      <th>1</th>\n",
              "      <td>7946</td>\n",
              "      <td>1</td>\n",
              "    </tr>\n",
              "  </tbody>\n",
              "</table>\n",
              "</div>\n",
              "      <button class=\"colab-df-convert\" onclick=\"convertToInteractive('df-a0556153-b8a8-4ac1-8395-a9bfbdebcefb')\"\n",
              "              title=\"Convert this dataframe to an interactive table.\"\n",
              "              style=\"display:none;\">\n",
              "        \n",
              "  <svg xmlns=\"http://www.w3.org/2000/svg\" height=\"24px\"viewBox=\"0 0 24 24\"\n",
              "       width=\"24px\">\n",
              "    <path d=\"M0 0h24v24H0V0z\" fill=\"none\"/>\n",
              "    <path d=\"M18.56 5.44l.94 2.06.94-2.06 2.06-.94-2.06-.94-.94-2.06-.94 2.06-2.06.94zm-11 1L8.5 8.5l.94-2.06 2.06-.94-2.06-.94L8.5 2.5l-.94 2.06-2.06.94zm10 10l.94 2.06.94-2.06 2.06-.94-2.06-.94-.94-2.06-.94 2.06-2.06.94z\"/><path d=\"M17.41 7.96l-1.37-1.37c-.4-.4-.92-.59-1.43-.59-.52 0-1.04.2-1.43.59L10.3 9.45l-7.72 7.72c-.78.78-.78 2.05 0 2.83L4 21.41c.39.39.9.59 1.41.59.51 0 1.02-.2 1.41-.59l7.78-7.78 2.81-2.81c.8-.78.8-2.07 0-2.86zM5.41 20L4 18.59l7.72-7.72 1.47 1.35L5.41 20z\"/>\n",
              "  </svg>\n",
              "      </button>\n",
              "      \n",
              "  <style>\n",
              "    .colab-df-container {\n",
              "      display:flex;\n",
              "      flex-wrap:wrap;\n",
              "      gap: 12px;\n",
              "    }\n",
              "\n",
              "    .colab-df-convert {\n",
              "      background-color: #E8F0FE;\n",
              "      border: none;\n",
              "      border-radius: 50%;\n",
              "      cursor: pointer;\n",
              "      display: none;\n",
              "      fill: #1967D2;\n",
              "      height: 32px;\n",
              "      padding: 0 0 0 0;\n",
              "      width: 32px;\n",
              "    }\n",
              "\n",
              "    .colab-df-convert:hover {\n",
              "      background-color: #E2EBFA;\n",
              "      box-shadow: 0px 1px 2px rgba(60, 64, 67, 0.3), 0px 1px 3px 1px rgba(60, 64, 67, 0.15);\n",
              "      fill: #174EA6;\n",
              "    }\n",
              "\n",
              "    [theme=dark] .colab-df-convert {\n",
              "      background-color: #3B4455;\n",
              "      fill: #D2E3FC;\n",
              "    }\n",
              "\n",
              "    [theme=dark] .colab-df-convert:hover {\n",
              "      background-color: #434B5C;\n",
              "      box-shadow: 0px 1px 3px 1px rgba(0, 0, 0, 0.15);\n",
              "      filter: drop-shadow(0px 1px 2px rgba(0, 0, 0, 0.3));\n",
              "      fill: #FFFFFF;\n",
              "    }\n",
              "  </style>\n",
              "\n",
              "      <script>\n",
              "        const buttonEl =\n",
              "          document.querySelector('#df-a0556153-b8a8-4ac1-8395-a9bfbdebcefb button.colab-df-convert');\n",
              "        buttonEl.style.display =\n",
              "          google.colab.kernel.accessAllowed ? 'block' : 'none';\n",
              "\n",
              "        async function convertToInteractive(key) {\n",
              "          const element = document.querySelector('#df-a0556153-b8a8-4ac1-8395-a9bfbdebcefb');\n",
              "          const dataTable =\n",
              "            await google.colab.kernel.invokeFunction('convertToInteractive',\n",
              "                                                     [key], {});\n",
              "          if (!dataTable) return;\n",
              "\n",
              "          const docLinkHtml = 'Like what you see? Visit the ' +\n",
              "            '<a target=\"_blank\" href=https://colab.research.google.com/notebooks/data_table.ipynb>data table notebook</a>'\n",
              "            + ' to learn more about interactive tables.';\n",
              "          element.innerHTML = '';\n",
              "          dataTable['output_type'] = 'display_data';\n",
              "          await google.colab.output.renderOutput(dataTable, element);\n",
              "          const docLink = document.createElement('div');\n",
              "          docLink.innerHTML = docLinkHtml;\n",
              "          element.appendChild(docLink);\n",
              "        }\n",
              "      </script>\n",
              "    </div>\n",
              "  </div>\n",
              "  "
            ]
          },
          "metadata": {},
          "execution_count": 63
        }
      ]
    },
    {
      "cell_type": "code",
      "source": [
        "res_subset[\"hd\"] = np.where(res_subset[\"hd\"] == 0, \"SD\", \"HD\")\n",
        "res_subset.head(2)"
      ],
      "metadata": {
        "colab": {
          "base_uri": "https://localhost:8080/",
          "height": 112
        },
        "id": "re0E1Uktoad1",
        "outputId": "72c7c78b-7a11-47bb-f227-1477faa79ad2"
      },
      "execution_count": 64,
      "outputs": [
        {
          "output_type": "execute_result",
          "data": {
            "text/plain": [
              "   user_id  hd\n",
              "0    26138  SD\n",
              "1     7946  HD"
            ],
            "text/html": [
              "\n",
              "  <div id=\"df-6c36b021-be22-4fb2-86d3-658b013631aa\">\n",
              "    <div class=\"colab-df-container\">\n",
              "      <div>\n",
              "<style scoped>\n",
              "    .dataframe tbody tr th:only-of-type {\n",
              "        vertical-align: middle;\n",
              "    }\n",
              "\n",
              "    .dataframe tbody tr th {\n",
              "        vertical-align: top;\n",
              "    }\n",
              "\n",
              "    .dataframe thead th {\n",
              "        text-align: right;\n",
              "    }\n",
              "</style>\n",
              "<table border=\"1\" class=\"dataframe\">\n",
              "  <thead>\n",
              "    <tr style=\"text-align: right;\">\n",
              "      <th></th>\n",
              "      <th>user_id</th>\n",
              "      <th>hd</th>\n",
              "    </tr>\n",
              "  </thead>\n",
              "  <tbody>\n",
              "    <tr>\n",
              "      <th>0</th>\n",
              "      <td>26138</td>\n",
              "      <td>SD</td>\n",
              "    </tr>\n",
              "    <tr>\n",
              "      <th>1</th>\n",
              "      <td>7946</td>\n",
              "      <td>HD</td>\n",
              "    </tr>\n",
              "  </tbody>\n",
              "</table>\n",
              "</div>\n",
              "      <button class=\"colab-df-convert\" onclick=\"convertToInteractive('df-6c36b021-be22-4fb2-86d3-658b013631aa')\"\n",
              "              title=\"Convert this dataframe to an interactive table.\"\n",
              "              style=\"display:none;\">\n",
              "        \n",
              "  <svg xmlns=\"http://www.w3.org/2000/svg\" height=\"24px\"viewBox=\"0 0 24 24\"\n",
              "       width=\"24px\">\n",
              "    <path d=\"M0 0h24v24H0V0z\" fill=\"none\"/>\n",
              "    <path d=\"M18.56 5.44l.94 2.06.94-2.06 2.06-.94-2.06-.94-.94-2.06-.94 2.06-2.06.94zm-11 1L8.5 8.5l.94-2.06 2.06-.94-2.06-.94L8.5 2.5l-.94 2.06-2.06.94zm10 10l.94 2.06.94-2.06 2.06-.94-2.06-.94-.94-2.06-.94 2.06-2.06.94z\"/><path d=\"M17.41 7.96l-1.37-1.37c-.4-.4-.92-.59-1.43-.59-.52 0-1.04.2-1.43.59L10.3 9.45l-7.72 7.72c-.78.78-.78 2.05 0 2.83L4 21.41c.39.39.9.59 1.41.59.51 0 1.02-.2 1.41-.59l7.78-7.78 2.81-2.81c.8-.78.8-2.07 0-2.86zM5.41 20L4 18.59l7.72-7.72 1.47 1.35L5.41 20z\"/>\n",
              "  </svg>\n",
              "      </button>\n",
              "      \n",
              "  <style>\n",
              "    .colab-df-container {\n",
              "      display:flex;\n",
              "      flex-wrap:wrap;\n",
              "      gap: 12px;\n",
              "    }\n",
              "\n",
              "    .colab-df-convert {\n",
              "      background-color: #E8F0FE;\n",
              "      border: none;\n",
              "      border-radius: 50%;\n",
              "      cursor: pointer;\n",
              "      display: none;\n",
              "      fill: #1967D2;\n",
              "      height: 32px;\n",
              "      padding: 0 0 0 0;\n",
              "      width: 32px;\n",
              "    }\n",
              "\n",
              "    .colab-df-convert:hover {\n",
              "      background-color: #E2EBFA;\n",
              "      box-shadow: 0px 1px 2px rgba(60, 64, 67, 0.3), 0px 1px 3px 1px rgba(60, 64, 67, 0.15);\n",
              "      fill: #174EA6;\n",
              "    }\n",
              "\n",
              "    [theme=dark] .colab-df-convert {\n",
              "      background-color: #3B4455;\n",
              "      fill: #D2E3FC;\n",
              "    }\n",
              "\n",
              "    [theme=dark] .colab-df-convert:hover {\n",
              "      background-color: #434B5C;\n",
              "      box-shadow: 0px 1px 3px 1px rgba(0, 0, 0, 0.15);\n",
              "      filter: drop-shadow(0px 1px 2px rgba(0, 0, 0, 0.3));\n",
              "      fill: #FFFFFF;\n",
              "    }\n",
              "  </style>\n",
              "\n",
              "      <script>\n",
              "        const buttonEl =\n",
              "          document.querySelector('#df-6c36b021-be22-4fb2-86d3-658b013631aa button.colab-df-convert');\n",
              "        buttonEl.style.display =\n",
              "          google.colab.kernel.accessAllowed ? 'block' : 'none';\n",
              "\n",
              "        async function convertToInteractive(key) {\n",
              "          const element = document.querySelector('#df-6c36b021-be22-4fb2-86d3-658b013631aa');\n",
              "          const dataTable =\n",
              "            await google.colab.kernel.invokeFunction('convertToInteractive',\n",
              "                                                     [key], {});\n",
              "          if (!dataTable) return;\n",
              "\n",
              "          const docLinkHtml = 'Like what you see? Visit the ' +\n",
              "            '<a target=\"_blank\" href=https://colab.research.google.com/notebooks/data_table.ipynb>data table notebook</a>'\n",
              "            + ' to learn more about interactive tables.';\n",
              "          element.innerHTML = '';\n",
              "          dataTable['output_type'] = 'display_data';\n",
              "          await google.colab.output.renderOutput(dataTable, element);\n",
              "          const docLink = document.createElement('div');\n",
              "          docLink.innerHTML = docLinkHtml;\n",
              "          element.appendChild(docLink);\n",
              "        }\n",
              "      </script>\n",
              "    </div>\n",
              "  </div>\n",
              "  "
            ]
          },
          "metadata": {},
          "execution_count": 64
        }
      ]
    },
    {
      "cell_type": "markdown",
      "source": [
        "It looks like np.where() is better than .apply() for this use case scenraio as:\n",
        "https://stackoverflow.com/questions/44991438/lambda-including-if-elif-else\n"
      ],
      "metadata": {
        "id": "mVNtaA6btaeF"
      }
    },
    {
      "cell_type": "code",
      "source": [
        "# plt.style.use(\"seaborn-colorblind\")\n",
        "fig, ax = plt.subplots(figsize=(12, 7))\n",
        "ax.pie(res_subset[\"hd\"].value_counts(),\n",
        "                    autopct='%1.1f%%',\n",
        "                    explode=(0, 0.2),\n",
        "                    textprops={'size': 25, 'color': 'black'},\n",
        "                    startangle=80,\n",
        "                    labels=[\"SD\", \"HD\"],\n",
        "                    shadow=True)\n",
        "ax.set_title(\"HD Vs. SD Preference\",\n",
        "             fontsize = 18)\n",
        "ax.legend(fancybox=True,\n",
        "          fontsize=16,\n",
        "          title=\"HD / SD ratio\",\n",
        "          title_fontsize=17)\n",
        "plt.show()\n",
        "fig.savefig('HD_SD.png')"
      ],
      "metadata": {
        "colab": {
          "base_uri": "https://localhost:8080/",
          "height": 458
        },
        "id": "CU2kEz0DfRaR",
        "outputId": "a861df39-84c6-41b1-dae4-43fb7db107fb"
      },
      "execution_count": 174,
      "outputs": [
        {
          "output_type": "display_data",
          "data": {
            "text/plain": [
              "<Figure size 864x504 with 1 Axes>"
            ],
            "image/png": "[encoded data removed]"
          },
          "metadata": {}
        }
      ]
    },
    {
      "cell_type": "markdown",
      "source": [
        "#### Most popular Genres in movie & TV Show types"
      ],
      "metadata": {
        "id": "ZxvwK-Wp1cqS"
      }
    },
    {
      "cell_type": "code",
      "source": [
        "movie_type = df[df[\"program_type\"] == \"Movie\"][[\"program_type\", \"program_genre\"]]\n",
        "tvshow_type = df[df[\"program_type\"] == \"TV Show\"][[\"program_type\", \"program_genre\"]]"
      ],
      "metadata": {
        "id": "xbOe1ReK2dps"
      },
      "execution_count": 66,
      "outputs": []
    },
    {
      "cell_type": "code",
      "source": [
        "fig = plt.figure(1, (15, 5))\n",
        "\n",
        "ax1 = plt.subplot(1, 1, 1)\n",
        "sns.countplot(movie_type['program_genre'], order=movie_type['program_genre'].value_counts().index)\n",
        "ax1.set_xticklabels(ax1.get_xticklabels(), rotation=45)\n",
        "ax1.set_xlabel(\"Movies genre\", fontsize=15)\n",
        "ax1.set_title(\"Movie type people\", fontsize=20)\n",
        "plt.tight_layout()\n",
        "plt.show();\n",
        "fig.savefig('movie_type_people.png')"
      ],
      "metadata": {
        "colab": {
          "base_uri": "https://localhost:8080/",
          "height": 369
        },
        "id": "imgzRpR6vPlX",
        "outputId": "f3b3a908-fc76-4580-facb-e8f8654245f4"
      },
      "execution_count": 177,
      "outputs": [
        {
          "output_type": "display_data",
          "data": {
            "text/plain": [
              "<Figure size 1080x360 with 1 Axes>"
            ],
            "image/png": "[encoded data removed]"
          },
          "metadata": {}
        }
      ]
    },
    {
      "cell_type": "code",
      "source": [
        "fig2 = plt.figure(1, (15, 5))\n",
        "\n",
        "ax2 = plt.subplot(1, 1, 1)\n",
        "sns.countplot(tvshow_type['program_genre'], order=tvshow_type['program_genre'].value_counts().index)\n",
        "ax2.set_xticklabels(ax2.get_xticklabels(), rotation=45)\n",
        "ax2.set_xlabel(\"TV Shows genres\", fontsize=15)\n",
        "ax2.set_title(\"TV Shows type people\", fontsize=20)\n",
        "plt.tight_layout()\n",
        "plt.show();\n",
        "fig.savefig('tvshow_type_people.png')"
      ],
      "metadata": {
        "colab": {
          "base_uri": "https://localhost:8080/",
          "height": 369
        },
        "id": "IR4doN331i8c",
        "outputId": "3289e963-e1bf-496e-e529-2c5a991e3761"
      },
      "execution_count": 178,
      "outputs": [
        {
          "output_type": "display_data",
          "data": {
            "text/plain": [
              "<Figure size 1080x360 with 1 Axes>"
            ],
            "image/png": "[encoded data removed]"
          },
          "metadata": {}
        }
      ]
    },
    {
      "cell_type": "markdown",
      "source": [
        "Keypoints:\n",
        "- Both Movies & TV Shows people leaning towards \"Animation\" genre.\n",
        "- For TV Shows people Favours drama in 2nd place. Unlike Movies which Action is the 2nd.\n",
        "- The Ratio of SD Movies / TV Shows are more than HD resolution.\n"
      ],
      "metadata": {
        "id": "6KeT38Om5klM"
      }
    },
    {
      "cell_type": "markdown",
      "source": [
        "#### Most watched Movie and TV Show"
      ],
      "metadata": {
        "id": "rHvQVvAT7Vqv"
      }
    },
    {
      "cell_type": "code",
      "source": [
        "# Create a subset for top movies\n",
        "top_10_movies = df[df[\"program_type\"] == \"Movie\"][[\"user_id\", \"original_name\"]].groupby(\"original_name\")[\"user_id\"] \\\n",
        "            .count().reset_index(name='movie_count') \\\n",
        "            .sort_values(by=\"movie_count\", ascending=False) \\\n",
        "            .rename({\"original_name\": \"movie_title\"}, axis=1) \\\n",
        "            .set_index(\"movie_title\") \\\n",
        "            .nlargest(10, columns=\"movie_count\")\n",
        "top_10_movies.head(2)"
      ],
      "metadata": {
        "colab": {
          "base_uri": "https://localhost:8080/",
          "height": 143
        },
        "id": "3b7LRULC7KTE",
        "outputId": "9bd53c31-30ad-4d5c-f957-53eb4d858bd5"
      },
      "execution_count": 69,
      "outputs": [
        {
          "output_type": "execute_result",
          "data": {
            "text/plain": [
              "                                     movie_count\n",
              "movie_title                                     \n",
              "The Boss Baby                              81257\n",
              "The Adventures of Petey and Friends        40714"
            ],
            "text/html": [
              "\n",
              "  <div id=\"df-93fa5f42-cca7-4148-ac9a-b7838d5e72cf\">\n",
              "    <div class=\"colab-df-container\">\n",
              "      <div>\n",
              "<style scoped>\n",
              "    .dataframe tbody tr th:only-of-type {\n",
              "        vertical-align: middle;\n",
              "    }\n",
              "\n",
              "    .dataframe tbody tr th {\n",
              "        vertical-align: top;\n",
              "    }\n",
              "\n",
              "    .dataframe thead th {\n",
              "        text-align: right;\n",
              "    }\n",
              "</style>\n",
              "<table border=\"1\" class=\"dataframe\">\n",
              "  <thead>\n",
              "    <tr style=\"text-align: right;\">\n",
              "      <th></th>\n",
              "      <th>movie_count</th>\n",
              "    </tr>\n",
              "    <tr>\n",
              "      <th>movie_title</th>\n",
              "      <th></th>\n",
              "    </tr>\n",
              "  </thead>\n",
              "  <tbody>\n",
              "    <tr>\n",
              "      <th>The Boss Baby</th>\n",
              "      <td>81257</td>\n",
              "    </tr>\n",
              "    <tr>\n",
              "      <th>The Adventures of Petey and Friends</th>\n",
              "      <td>40714</td>\n",
              "    </tr>\n",
              "  </tbody>\n",
              "</table>\n",
              "</div>\n",
              "      <button class=\"colab-df-convert\" onclick=\"convertToInteractive('df-93fa5f42-cca7-4148-ac9a-b7838d5e72cf')\"\n",
              "              title=\"Convert this dataframe to an interactive table.\"\n",
              "              style=\"display:none;\">\n",
              "        \n",
              "  <svg xmlns=\"http://www.w3.org/2000/svg\" height=\"24px\"viewBox=\"0 0 24 24\"\n",
              "       width=\"24px\">\n",
              "    <path d=\"M0 0h24v24H0V0z\" fill=\"none\"/>\n",
              "    <path d=\"M18.56 5.44l.94 2.06.94-2.06 2.06-.94-2.06-.94-.94-2.06-.94 2.06-2.06.94zm-11 1L8.5 8.5l.94-2.06 2.06-.94-2.06-.94L8.5 2.5l-.94 2.06-2.06.94zm10 10l.94 2.06.94-2.06 2.06-.94-2.06-.94-.94-2.06-.94 2.06-2.06.94z\"/><path d=\"M17.41 7.96l-1.37-1.37c-.4-.4-.92-.59-1.43-.59-.52 0-1.04.2-1.43.59L10.3 9.45l-7.72 7.72c-.78.78-.78 2.05 0 2.83L4 21.41c.39.39.9.59 1.41.59.51 0 1.02-.2 1.41-.59l7.78-7.78 2.81-2.81c.8-.78.8-2.07 0-2.86zM5.41 20L4 18.59l7.72-7.72 1.47 1.35L5.41 20z\"/>\n",
              "  </svg>\n",
              "      </button>\n",
              "      \n",
              "  <style>\n",
              "    .colab-df-container {\n",
              "      display:flex;\n",
              "      flex-wrap:wrap;\n",
              "      gap: 12px;\n",
              "    }\n",
              "\n",
              "    .colab-df-convert {\n",
              "      background-color: #E8F0FE;\n",
              "      border: none;\n",
              "      border-radius: 50%;\n",
              "      cursor: pointer;\n",
              "      display: none;\n",
              "      fill: #1967D2;\n",
              "      height: 32px;\n",
              "      padding: 0 0 0 0;\n",
              "      width: 32px;\n",
              "    }\n",
              "\n",
              "    .colab-df-convert:hover {\n",
              "      background-color: #E2EBFA;\n",
              "      box-shadow: 0px 1px 2px rgba(60, 64, 67, 0.3), 0px 1px 3px 1px rgba(60, 64, 67, 0.15);\n",
              "      fill: #174EA6;\n",
              "    }\n",
              "\n",
              "    [theme=dark] .colab-df-convert {\n",
              "      background-color: #3B4455;\n",
              "      fill: #D2E3FC;\n",
              "    }\n",
              "\n",
              "    [theme=dark] .colab-df-convert:hover {\n",
              "      background-color: #434B5C;\n",
              "      box-shadow: 0px 1px 3px 1px rgba(0, 0, 0, 0.15);\n",
              "      filter: drop-shadow(0px 1px 2px rgba(0, 0, 0, 0.3));\n",
              "      fill: #FFFFFF;\n",
              "    }\n",
              "  </style>\n",
              "\n",
              "      <script>\n",
              "        const buttonEl =\n",
              "          document.querySelector('#df-93fa5f42-cca7-4148-ac9a-b7838d5e72cf button.colab-df-convert');\n",
              "        buttonEl.style.display =\n",
              "          google.colab.kernel.accessAllowed ? 'block' : 'none';\n",
              "\n",
              "        async function convertToInteractive(key) {\n",
              "          const element = document.querySelector('#df-93fa5f42-cca7-4148-ac9a-b7838d5e72cf');\n",
              "          const dataTable =\n",
              "            await google.colab.kernel.invokeFunction('convertToInteractive',\n",
              "                                                     [key], {});\n",
              "          if (!dataTable) return;\n",
              "\n",
              "          const docLinkHtml = 'Like what you see? Visit the ' +\n",
              "            '<a target=\"_blank\" href=https://colab.research.google.com/notebooks/data_table.ipynb>data table notebook</a>'\n",
              "            + ' to learn more about interactive tables.';\n",
              "          element.innerHTML = '';\n",
              "          dataTable['output_type'] = 'display_data';\n",
              "          await google.colab.output.renderOutput(dataTable, element);\n",
              "          const docLink = document.createElement('div');\n",
              "          docLink.innerHTML = docLinkHtml;\n",
              "          element.appendChild(docLink);\n",
              "        }\n",
              "      </script>\n",
              "    </div>\n",
              "  </div>\n",
              "  "
            ]
          },
          "metadata": {},
          "execution_count": 69
        }
      ]
    },
    {
      "cell_type": "code",
      "source": [
        "# Visualize the top 10 movies watched by users\n",
        "fig, ax = plt.subplots(figsize=(15, 6))\n",
        "ax.barh(top_10_movies.index,\n",
        "        top_10_movies[\"movie_count\"])\n",
        "\n",
        "for i, v in enumerate(top_10_movies[\"movie_count\"]):\n",
        "    ax.text(v + 5, i + .05, str(v), color='black', fontweight='bold')\n",
        "\n",
        "ax.set_xlabel(\"Number of people watched it\", color=\"black\", fontsize=15)\n",
        "plt.title(\"Top 10 movies watched by users\", fontsize = 20)\n",
        "plt.tight_layout()\n",
        "\n",
        "plt.show();\n",
        "fig.savefig('top10_movies.png')"
      ],
      "metadata": {
        "colab": {
          "base_uri": "https://localhost:8080/",
          "height": 441
        },
        "id": "_YWwo9NLPFTX",
        "outputId": "b02053d2-4ab5-4336-d949-885d0ae60c3b"
      },
      "execution_count": 180,
      "outputs": [
        {
          "output_type": "display_data",
          "data": {
            "text/plain": [
              "<Figure size 1080x432 with 1 Axes>"
            ],
            "image/png": "[encoded data removed]"
          },
          "metadata": {}
        }
      ]
    },
    {
      "cell_type": "code",
      "source": [
        "# Create the top 10 TV Shows watched by users\n",
        "# mask1 = df[\"program_type\"] == \"Movie\"\n",
        "# mask2 = df[\"program_type\"] == \"TV Show\"\n",
        "\n",
        "top_10_tvshows = df[df[\"program_type\"] == \"TV Show\"][[\"user_id\", \"original_name\"]].groupby(\"original_name\")[\"user_id\"] \\\n",
        "            .count().reset_index(name='episodes_count') \\\n",
        "            .sort_values(by=\"episodes_count\", ascending=False) \\\n",
        "            .rename({\"original_name\": \"tvshow_title\"}, axis=1) \\\n",
        "            .set_index(\"tvshow_title\") \\\n",
        "            .nlargest(10, columns=\"episodes_count\")\n",
        "top_10_tvshows.head(2)"
      ],
      "metadata": {
        "colab": {
          "base_uri": "https://localhost:8080/",
          "height": 143
        },
        "id": "r_s1vFINSIyo",
        "outputId": "42a5f903-4fcb-4300-8dc1-0ed3183080a5"
      },
      "execution_count": 71,
      "outputs": [
        {
          "output_type": "execute_result",
          "data": {
            "text/plain": [
              "              episodes_count\n",
              "tvshow_title                \n",
              "PAW Patrol            118213\n",
              "Friends               114168"
            ],
            "text/html": [
              "\n",
              "  <div id=\"df-a66e3ca5-d2de-4a6b-a00e-f46c81830f73\">\n",
              "    <div class=\"colab-df-container\">\n",
              "      <div>\n",
              "<style scoped>\n",
              "    .dataframe tbody tr th:only-of-type {\n",
              "        vertical-align: middle;\n",
              "    }\n",
              "\n",
              "    .dataframe tbody tr th {\n",
              "        vertical-align: top;\n",
              "    }\n",
              "\n",
              "    .dataframe thead th {\n",
              "        text-align: right;\n",
              "    }\n",
              "</style>\n",
              "<table border=\"1\" class=\"dataframe\">\n",
              "  <thead>\n",
              "    <tr style=\"text-align: right;\">\n",
              "      <th></th>\n",
              "      <th>episodes_count</th>\n",
              "    </tr>\n",
              "    <tr>\n",
              "      <th>tvshow_title</th>\n",
              "      <th></th>\n",
              "    </tr>\n",
              "  </thead>\n",
              "  <tbody>\n",
              "    <tr>\n",
              "      <th>PAW Patrol</th>\n",
              "      <td>118213</td>\n",
              "    </tr>\n",
              "    <tr>\n",
              "      <th>Friends</th>\n",
              "      <td>114168</td>\n",
              "    </tr>\n",
              "  </tbody>\n",
              "</table>\n",
              "</div>\n",
              "      <button class=\"colab-df-convert\" onclick=\"convertToInteractive('df-a66e3ca5-d2de-4a6b-a00e-f46c81830f73')\"\n",
              "              title=\"Convert this dataframe to an interactive table.\"\n",
              "              style=\"display:none;\">\n",
              "        \n",
              "  <svg xmlns=\"http://www.w3.org/2000/svg\" height=\"24px\"viewBox=\"0 0 24 24\"\n",
              "       width=\"24px\">\n",
              "    <path d=\"M0 0h24v24H0V0z\" fill=\"none\"/>\n",
              "    <path d=\"M18.56 5.44l.94 2.06.94-2.06 2.06-.94-2.06-.94-.94-2.06-.94 2.06-2.06.94zm-11 1L8.5 8.5l.94-2.06 2.06-.94-2.06-.94L8.5 2.5l-.94 2.06-2.06.94zm10 10l.94 2.06.94-2.06 2.06-.94-2.06-.94-.94-2.06-.94 2.06-2.06.94z\"/><path d=\"M17.41 7.96l-1.37-1.37c-.4-.4-.92-.59-1.43-.59-.52 0-1.04.2-1.43.59L10.3 9.45l-7.72 7.72c-.78.78-.78 2.05 0 2.83L4 21.41c.39.39.9.59 1.41.59.51 0 1.02-.2 1.41-.59l7.78-7.78 2.81-2.81c.8-.78.8-2.07 0-2.86zM5.41 20L4 18.59l7.72-7.72 1.47 1.35L5.41 20z\"/>\n",
              "  </svg>\n",
              "      </button>\n",
              "      \n",
              "  <style>\n",
              "    .colab-df-container {\n",
              "      display:flex;\n",
              "      flex-wrap:wrap;\n",
              "      gap: 12px;\n",
              "    }\n",
              "\n",
              "    .colab-df-convert {\n",
              "      background-color: #E8F0FE;\n",
              "      border: none;\n",
              "      border-radius: 50%;\n",
              "      cursor: pointer;\n",
              "      display: none;\n",
              "      fill: #1967D2;\n",
              "      height: 32px;\n",
              "      padding: 0 0 0 0;\n",
              "      width: 32px;\n",
              "    }\n",
              "\n",
              "    .colab-df-convert:hover {\n",
              "      background-color: #E2EBFA;\n",
              "      box-shadow: 0px 1px 2px rgba(60, 64, 67, 0.3), 0px 1px 3px 1px rgba(60, 64, 67, 0.15);\n",
              "      fill: #174EA6;\n",
              "    }\n",
              "\n",
              "    [theme=dark] .colab-df-convert {\n",
              "      background-color: #3B4455;\n",
              "      fill: #D2E3FC;\n",
              "    }\n",
              "\n",
              "    [theme=dark] .colab-df-convert:hover {\n",
              "      background-color: #434B5C;\n",
              "      box-shadow: 0px 1px 3px 1px rgba(0, 0, 0, 0.15);\n",
              "      filter: drop-shadow(0px 1px 2px rgba(0, 0, 0, 0.3));\n",
              "      fill: #FFFFFF;\n",
              "    }\n",
              "  </style>\n",
              "\n",
              "      <script>\n",
              "        const buttonEl =\n",
              "          document.querySelector('#df-a66e3ca5-d2de-4a6b-a00e-f46c81830f73 button.colab-df-convert');\n",
              "        buttonEl.style.display =\n",
              "          google.colab.kernel.accessAllowed ? 'block' : 'none';\n",
              "\n",
              "        async function convertToInteractive(key) {\n",
              "          const element = document.querySelector('#df-a66e3ca5-d2de-4a6b-a00e-f46c81830f73');\n",
              "          const dataTable =\n",
              "            await google.colab.kernel.invokeFunction('convertToInteractive',\n",
              "                                                     [key], {});\n",
              "          if (!dataTable) return;\n",
              "\n",
              "          const docLinkHtml = 'Like what you see? Visit the ' +\n",
              "            '<a target=\"_blank\" href=https://colab.research.google.com/notebooks/data_table.ipynb>data table notebook</a>'\n",
              "            + ' to learn more about interactive tables.';\n",
              "          element.innerHTML = '';\n",
              "          dataTable['output_type'] = 'display_data';\n",
              "          await google.colab.output.renderOutput(dataTable, element);\n",
              "          const docLink = document.createElement('div');\n",
              "          docLink.innerHTML = docLinkHtml;\n",
              "          element.appendChild(docLink);\n",
              "        }\n",
              "      </script>\n",
              "    </div>\n",
              "  </div>\n",
              "  "
            ]
          },
          "metadata": {},
          "execution_count": 71
        }
      ]
    },
    {
      "cell_type": "code",
      "source": [
        "# Visualize the top 10 TV shows watched by users\n",
        "fig3, ax3 = plt.subplots(figsize=(15, 6))\n",
        "ax3.barh(top_10_tvshows.index,\n",
        "        top_10_tvshows[\"episodes_count\"])\n",
        "\n",
        "for i, v in enumerate(top_10_tvshows[\"episodes_count\"]):\n",
        "    ax3.text(v + 5, i + .05, str(v), color='black', fontweight='bold')\n",
        "\n",
        "ax3.set_xlabel(\"Number of people watched it\", color=\"black\", fontsize=15)\n",
        "plt.title(\"Top 10 TV Shows watched by users\", fontsize = 20)\n",
        "plt.tight_layout()\n",
        "plt.show();\n",
        "fig.savefig('top10_tvshows.png')"
      ],
      "metadata": {
        "colab": {
          "base_uri": "https://localhost:8080/",
          "height": 441
        },
        "id": "WEWQ9EykYG3P",
        "outputId": "d2949239-1234-4e79-9405-bd03d7f24222"
      },
      "execution_count": 181,
      "outputs": [
        {
          "output_type": "display_data",
          "data": {
            "text/plain": [
              "<Figure size 1080x432 with 1 Axes>"
            ],
            "image/png": "[encoded data removed]"
          },
          "metadata": {}
        }
      ]
    },
    {
      "cell_type": "markdown",
      "source": [
        "Keypoints for users preference in genres:\n",
        "- For movies: the most watched \"The Boss Baby\" which is an animation movie.\n",
        "- For TV Shows: The most watched \"PAW Patrol\" which also an animation of 9 seasons untill this date.\n",
        "    - In the 2nd place goes to \"Friends\". not far from the 1st one in popularity among Jawwy users. Unlike movies the 2nd one goes very far from 1st.\n"
      ],
      "metadata": {
        "id": "eoHW8M6MbLLA"
      }
    },
    {
      "cell_type": "markdown",
      "source": [
        "#### Insights on Weekends & Business days users activity"
      ],
      "metadata": {
        "id": "pDJCseZDh48N"
      }
    },
    {
      "cell_type": "markdown",
      "source": [
        "##### Weekends Vs. Business days"
      ],
      "metadata": {
        "id": "OjicgKfU9LzQ"
      }
    },
    {
      "cell_type": "code",
      "source": [
        "# Create a subset of weekend only data\n",
        "weekend_users = df[[\"date\", \"user_id\"]]\n",
        "weekend_users[\"day_of_week\"] = weekend_users[\"date\"].dt.day_name()\n",
        "weekend_users.drop(\"date\", axis=1, inplace=True)\n",
        "weekend_users = weekend_users[(weekend_users[\"day_of_week\"] == \"Friday\") |\n",
        "                              (weekend_users[\"day_of_week\"] == \"Saturday\")].groupby(\"day_of_week\").first()[\"user_id\"]\n",
        "weekend_users.head(3)"
      ],
      "metadata": {
        "colab": {
          "base_uri": "https://localhost:8080/"
        },
        "id": "11gkStGXYibx",
        "outputId": "51da8879-510e-4ddc-ff06-76ec71bd8e13"
      },
      "execution_count": 73,
      "outputs": [
        {
          "output_type": "stream",
          "name": "stderr",
          "text": [
            "/usr/local/lib/python3.7/dist-packages/ipykernel_launcher.py:3: SettingWithCopyWarning: \n",
            "A value is trying to be set on a copy of a slice from a DataFrame.\n",
            "Try using .loc[row_indexer,col_indexer] = value instead\n",
            "\n",
            "See the caveats in the documentation: https://pandas.pydata.org/pandas-docs/stable/user_guide/indexing.html#returning-a-view-versus-a-copy\n",
            "  This is separate from the ipykernel package so we can avoid doing imports until\n",
            "/usr/local/lib/python3.7/dist-packages/pandas/core/frame.py:4913: SettingWithCopyWarning: \n",
            "A value is trying to be set on a copy of a slice from a DataFrame\n",
            "\n",
            "See the caveats in the documentation: https://pandas.pydata.org/pandas-docs/stable/user_guide/indexing.html#returning-a-view-versus-a-copy\n",
            "  errors=errors,\n"
          ]
        },
        {
          "output_type": "execute_result",
          "data": {
            "text/plain": [
              "day_of_week\n",
              "Friday      15860\n",
              "Saturday    26138\n",
              "Name: user_id, dtype: int64"
            ]
          },
          "metadata": {},
          "execution_count": 73
        }
      ]
    },
    {
      "cell_type": "code",
      "source": [
        "# Visualize the activity of users for weekends only using Circle & pie chart\n",
        "fig4, ax4 = plt.subplots(figsize=(16, 5))\n",
        "\n",
        "circle = plt.Circle((0, 0), radius=0.55, color=\"white\")\n",
        "\n",
        "p = plt.gcf()\n",
        "p.gca().add_artist(circle)\n",
        "\n",
        "ax4.pie(weekend_users, \n",
        "        labels=[\"Friday\", \"Saturday\"],\n",
        "        autopct='%1.0f%%',\n",
        "        textprops={'size': 18, 'color': 'black'},\n",
        "        pctdistance=0.75,\n",
        "        shadow=True)\n",
        "ax4.set_title(\"Users activity in weekends\", fontsize=20)\n",
        "plt.tight_layout()\n",
        "plt.show();\n",
        "fig4.savefig('users_act_weekend.png')"
      ],
      "metadata": {
        "colab": {
          "base_uri": "https://localhost:8080/",
          "height": 369
        },
        "id": "8zm0n5F3otSI",
        "outputId": "7a750cba-f2a1-422f-b08a-a809263de52f"
      },
      "execution_count": 182,
      "outputs": [
        {
          "output_type": "display_data",
          "data": {
            "text/plain": [
              "<Figure size 1152x360 with 1 Axes>"
            ],
            "image/png": "[encoded data removed]"
          },
          "metadata": {}
        }
      ]
    },
    {
      "cell_type": "code",
      "source": [
        "# Create a subset of business days\n",
        "businessdays_users = df[[\"date\", \"user_id\"]]\n",
        "businessdays_users[\"day_of_week\"] = businessdays_users[\"date\"].dt.day_name()\n",
        "businessdays_users.drop(\"date\", axis=1, inplace=True)\n",
        "businessdays_users = businessdays_users[~businessdays_users[\"day_of_week\"].isin([\"Friday\", \"Saturday\"])].groupby(\"day_of_week\")\n",
        "businessdays_users.first()"
      ],
      "metadata": {
        "colab": {
          "base_uri": "https://localhost:8080/",
          "height": 342
        },
        "id": "V5-LYyzFpg1P",
        "outputId": "0234d5e5-0d6a-4ec0-d76d-edbc8bb521d8"
      },
      "execution_count": 75,
      "outputs": [
        {
          "output_type": "stream",
          "name": "stderr",
          "text": [
            "/usr/local/lib/python3.7/dist-packages/ipykernel_launcher.py:3: SettingWithCopyWarning: \n",
            "A value is trying to be set on a copy of a slice from a DataFrame.\n",
            "Try using .loc[row_indexer,col_indexer] = value instead\n",
            "\n",
            "See the caveats in the documentation: https://pandas.pydata.org/pandas-docs/stable/user_guide/indexing.html#returning-a-view-versus-a-copy\n",
            "  This is separate from the ipykernel package so we can avoid doing imports until\n"
          ]
        },
        {
          "output_type": "execute_result",
          "data": {
            "text/plain": [
              "             user_id\n",
              "day_of_week         \n",
              "Monday         11374\n",
              "Sunday          7946\n",
              "Thursday        7418\n",
              "Tuesday        30971\n",
              "Wednesday      19307"
            ],
            "text/html": [
              "\n",
              "  <div id=\"df-51aa3c8a-e2bb-4ab8-bfce-2d649d0aa4d2\">\n",
              "    <div class=\"colab-df-container\">\n",
              "      <div>\n",
              "<style scoped>\n",
              "    .dataframe tbody tr th:only-of-type {\n",
              "        vertical-align: middle;\n",
              "    }\n",
              "\n",
              "    .dataframe tbody tr th {\n",
              "        vertical-align: top;\n",
              "    }\n",
              "\n",
              "    .dataframe thead th {\n",
              "        text-align: right;\n",
              "    }\n",
              "</style>\n",
              "<table border=\"1\" class=\"dataframe\">\n",
              "  <thead>\n",
              "    <tr style=\"text-align: right;\">\n",
              "      <th></th>\n",
              "      <th>user_id</th>\n",
              "    </tr>\n",
              "    <tr>\n",
              "      <th>day_of_week</th>\n",
              "      <th></th>\n",
              "    </tr>\n",
              "  </thead>\n",
              "  <tbody>\n",
              "    <tr>\n",
              "      <th>Monday</th>\n",
              "      <td>11374</td>\n",
              "    </tr>\n",
              "    <tr>\n",
              "      <th>Sunday</th>\n",
              "      <td>7946</td>\n",
              "    </tr>\n",
              "    <tr>\n",
              "      <th>Thursday</th>\n",
              "      <td>7418</td>\n",
              "    </tr>\n",
              "    <tr>\n",
              "      <th>Tuesday</th>\n",
              "      <td>30971</td>\n",
              "    </tr>\n",
              "    <tr>\n",
              "      <th>Wednesday</th>\n",
              "      <td>19307</td>\n",
              "    </tr>\n",
              "  </tbody>\n",
              "</table>\n",
              "</div>\n",
              "      <button class=\"colab-df-convert\" onclick=\"convertToInteractive('df-51aa3c8a-e2bb-4ab8-bfce-2d649d0aa4d2')\"\n",
              "              title=\"Convert this dataframe to an interactive table.\"\n",
              "              style=\"display:none;\">\n",
              "        \n",
              "  <svg xmlns=\"http://www.w3.org/2000/svg\" height=\"24px\"viewBox=\"0 0 24 24\"\n",
              "       width=\"24px\">\n",
              "    <path d=\"M0 0h24v24H0V0z\" fill=\"none\"/>\n",
              "    <path d=\"M18.56 5.44l.94 2.06.94-2.06 2.06-.94-2.06-.94-.94-2.06-.94 2.06-2.06.94zm-11 1L8.5 8.5l.94-2.06 2.06-.94-2.06-.94L8.5 2.5l-.94 2.06-2.06.94zm10 10l.94 2.06.94-2.06 2.06-.94-2.06-.94-.94-2.06-.94 2.06-2.06.94z\"/><path d=\"M17.41 7.96l-1.37-1.37c-.4-.4-.92-.59-1.43-.59-.52 0-1.04.2-1.43.59L10.3 9.45l-7.72 7.72c-.78.78-.78 2.05 0 2.83L4 21.41c.39.39.9.59 1.41.59.51 0 1.02-.2 1.41-.59l7.78-7.78 2.81-2.81c.8-.78.8-2.07 0-2.86zM5.41 20L4 18.59l7.72-7.72 1.47 1.35L5.41 20z\"/>\n",
              "  </svg>\n",
              "      </button>\n",
              "      \n",
              "  <style>\n",
              "    .colab-df-container {\n",
              "      display:flex;\n",
              "      flex-wrap:wrap;\n",
              "      gap: 12px;\n",
              "    }\n",
              "\n",
              "    .colab-df-convert {\n",
              "      background-color: #E8F0FE;\n",
              "      border: none;\n",
              "      border-radius: 50%;\n",
              "      cursor: pointer;\n",
              "      display: none;\n",
              "      fill: #1967D2;\n",
              "      height: 32px;\n",
              "      padding: 0 0 0 0;\n",
              "      width: 32px;\n",
              "    }\n",
              "\n",
              "    .colab-df-convert:hover {\n",
              "      background-color: #E2EBFA;\n",
              "      box-shadow: 0px 1px 2px rgba(60, 64, 67, 0.3), 0px 1px 3px 1px rgba(60, 64, 67, 0.15);\n",
              "      fill: #174EA6;\n",
              "    }\n",
              "\n",
              "    [theme=dark] .colab-df-convert {\n",
              "      background-color: #3B4455;\n",
              "      fill: #D2E3FC;\n",
              "    }\n",
              "\n",
              "    [theme=dark] .colab-df-convert:hover {\n",
              "      background-color: #434B5C;\n",
              "      box-shadow: 0px 1px 3px 1px rgba(0, 0, 0, 0.15);\n",
              "      filter: drop-shadow(0px 1px 2px rgba(0, 0, 0, 0.3));\n",
              "      fill: #FFFFFF;\n",
              "    }\n",
              "  </style>\n",
              "\n",
              "      <script>\n",
              "        const buttonEl =\n",
              "          document.querySelector('#df-51aa3c8a-e2bb-4ab8-bfce-2d649d0aa4d2 button.colab-df-convert');\n",
              "        buttonEl.style.display =\n",
              "          google.colab.kernel.accessAllowed ? 'block' : 'none';\n",
              "\n",
              "        async function convertToInteractive(key) {\n",
              "          const element = document.querySelector('#df-51aa3c8a-e2bb-4ab8-bfce-2d649d0aa4d2');\n",
              "          const dataTable =\n",
              "            await google.colab.kernel.invokeFunction('convertToInteractive',\n",
              "                                                     [key], {});\n",
              "          if (!dataTable) return;\n",
              "\n",
              "          const docLinkHtml = 'Like what you see? Visit the ' +\n",
              "            '<a target=\"_blank\" href=https://colab.research.google.com/notebooks/data_table.ipynb>data table notebook</a>'\n",
              "            + ' to learn more about interactive tables.';\n",
              "          element.innerHTML = '';\n",
              "          dataTable['output_type'] = 'display_data';\n",
              "          await google.colab.output.renderOutput(dataTable, element);\n",
              "          const docLink = document.createElement('div');\n",
              "          docLink.innerHTML = docLinkHtml;\n",
              "          element.appendChild(docLink);\n",
              "        }\n",
              "      </script>\n",
              "    </div>\n",
              "  </div>\n",
              "  "
            ]
          },
          "metadata": {},
          "execution_count": 75
        }
      ]
    },
    {
      "cell_type": "code",
      "source": [
        "# Visualize the business days only using Pie & Circle graph\n",
        "plt.style.use(\"tableau-colorblind10\")\n",
        "fig5, ax5 = plt.subplots(figsize=(18, 7))\n",
        "\n",
        "circle = plt.Circle((0, 0), radius=0.55, color=\"white\")\n",
        "\n",
        "p = plt.gcf()\n",
        "p.gca().add_artist(circle)\n",
        "\n",
        "ax5.pie(businessdays_users.first()[\"user_id\"], \n",
        "        labels=[\"Monday\", \"Sunday\", \"Thursday\", \"Tuesday\", \"Wednesday\"],\n",
        "        autopct='%1.0f%%',\n",
        "        textprops={'size': 18, 'color': 'black'},\n",
        "        pctdistance=0.75,\n",
        "        startangle=15,\n",
        "        shadow=True)\n",
        "ax5.set_title(\"Users activity in business days\", fontsize=20)\n",
        "plt.tight_layout()\n",
        "plt.show();\n",
        "fig5.savefig('user_act_bus.png')"
      ],
      "metadata": {
        "colab": {
          "base_uri": "https://localhost:8080/",
          "height": 513
        },
        "id": "8ANY3QL79eQb",
        "outputId": "2c79cfa7-4954-4fbd-d150-b2428c2e63e2"
      },
      "execution_count": 183,
      "outputs": [
        {
          "output_type": "display_data",
          "data": {
            "text/plain": [
              "<Figure size 1296x504 with 1 Axes>"
            ],
            "image/png": "[encoded data removed]"
          },
          "metadata": {}
        }
      ]
    },
    {
      "cell_type": "markdown",
      "source": [
        "Keypoints:\n",
        "- People in tend to use Jawwy TV to watch either movies or TV shows in the Saturday for the weekend.\n",
        "- For business days, It seems like people prefer Tuesday the most as the day to watch movies or TV shows.\n",
        "- Interesting thing is Wednesday is the 2nd famous day to watch movies/TV shows on even though from what I see the Thursday is more popular as It's nearly a weekend even though half of it but that's interesting indeed to be Wednesday the 2nd."
      ],
      "metadata": {
        "id": "-l0t5ie8qTr5"
      }
    },
    {
      "cell_type": "markdown",
      "source": [
        "##### User preferences movie or TV Show to watch for each day"
      ],
      "metadata": {
        "id": "RrT-jaJlva-2"
      }
    },
    {
      "cell_type": "code",
      "source": [
        "weekend_programs = df[[\"date\", \"program_type\"]]\n",
        "weekend_programs[\"day_of_week\"] = weekend_programs[\"date\"].dt.day_name()\n",
        "weekend_programs.drop(\"date\", axis=1, inplace=True)\n",
        "weekend_programs.head()"
      ],
      "metadata": {
        "colab": {
          "base_uri": "https://localhost:8080/",
          "height": 397
        },
        "id": "ax2CC6smvsBV",
        "outputId": "e233b99a-fc93-42bc-e6e0-4edce940ead3"
      },
      "execution_count": 81,
      "outputs": [
        {
          "output_type": "stream",
          "name": "stderr",
          "text": [
            "/usr/local/lib/python3.7/dist-packages/ipykernel_launcher.py:2: SettingWithCopyWarning: \n",
            "A value is trying to be set on a copy of a slice from a DataFrame.\n",
            "Try using .loc[row_indexer,col_indexer] = value instead\n",
            "\n",
            "See the caveats in the documentation: https://pandas.pydata.org/pandas-docs/stable/user_guide/indexing.html#returning-a-view-versus-a-copy\n",
            "  \n",
            "/usr/local/lib/python3.7/dist-packages/pandas/core/frame.py:4913: SettingWithCopyWarning: \n",
            "A value is trying to be set on a copy of a slice from a DataFrame\n",
            "\n",
            "See the caveats in the documentation: https://pandas.pydata.org/pandas-docs/stable/user_guide/indexing.html#returning-a-view-versus-a-copy\n",
            "  errors=errors,\n"
          ]
        },
        {
          "output_type": "execute_result",
          "data": {
            "text/plain": [
              "  program_type day_of_week\n",
              "0        Movie    Saturday\n",
              "1        Movie      Sunday\n",
              "2        Movie    Thursday\n",
              "3        Movie   Wednesday\n",
              "4        Movie      Friday"
            ],
            "text/html": [
              "\n",
              "  <div id=\"df-603b997e-91a0-4076-96d1-203c7de06f34\">\n",
              "    <div class=\"colab-df-container\">\n",
              "      <div>\n",
              "<style scoped>\n",
              "    .dataframe tbody tr th:only-of-type {\n",
              "        vertical-align: middle;\n",
              "    }\n",
              "\n",
              "    .dataframe tbody tr th {\n",
              "        vertical-align: top;\n",
              "    }\n",
              "\n",
              "    .dataframe thead th {\n",
              "        text-align: right;\n",
              "    }\n",
              "</style>\n",
              "<table border=\"1\" class=\"dataframe\">\n",
              "  <thead>\n",
              "    <tr style=\"text-align: right;\">\n",
              "      <th></th>\n",
              "      <th>program_type</th>\n",
              "      <th>day_of_week</th>\n",
              "    </tr>\n",
              "  </thead>\n",
              "  <tbody>\n",
              "    <tr>\n",
              "      <th>0</th>\n",
              "      <td>Movie</td>\n",
              "      <td>Saturday</td>\n",
              "    </tr>\n",
              "    <tr>\n",
              "      <th>1</th>\n",
              "      <td>Movie</td>\n",
              "      <td>Sunday</td>\n",
              "    </tr>\n",
              "    <tr>\n",
              "      <th>2</th>\n",
              "      <td>Movie</td>\n",
              "      <td>Thursday</td>\n",
              "    </tr>\n",
              "    <tr>\n",
              "      <th>3</th>\n",
              "      <td>Movie</td>\n",
              "      <td>Wednesday</td>\n",
              "    </tr>\n",
              "    <tr>\n",
              "      <th>4</th>\n",
              "      <td>Movie</td>\n",
              "      <td>Friday</td>\n",
              "    </tr>\n",
              "  </tbody>\n",
              "</table>\n",
              "</div>\n",
              "      <button class=\"colab-df-convert\" onclick=\"convertToInteractive('df-603b997e-91a0-4076-96d1-203c7de06f34')\"\n",
              "              title=\"Convert this dataframe to an interactive table.\"\n",
              "              style=\"display:none;\">\n",
              "        \n",
              "  <svg xmlns=\"http://www.w3.org/2000/svg\" height=\"24px\"viewBox=\"0 0 24 24\"\n",
              "       width=\"24px\">\n",
              "    <path d=\"M0 0h24v24H0V0z\" fill=\"none\"/>\n",
              "    <path d=\"M18.56 5.44l.94 2.06.94-2.06 2.06-.94-2.06-.94-.94-2.06-.94 2.06-2.06.94zm-11 1L8.5 8.5l.94-2.06 2.06-.94-2.06-.94L8.5 2.5l-.94 2.06-2.06.94zm10 10l.94 2.06.94-2.06 2.06-.94-2.06-.94-.94-2.06-.94 2.06-2.06.94z\"/><path d=\"M17.41 7.96l-1.37-1.37c-.4-.4-.92-.59-1.43-.59-.52 0-1.04.2-1.43.59L10.3 9.45l-7.72 7.72c-.78.78-.78 2.05 0 2.83L4 21.41c.39.39.9.59 1.41.59.51 0 1.02-.2 1.41-.59l7.78-7.78 2.81-2.81c.8-.78.8-2.07 0-2.86zM5.41 20L4 18.59l7.72-7.72 1.47 1.35L5.41 20z\"/>\n",
              "  </svg>\n",
              "      </button>\n",
              "      \n",
              "  <style>\n",
              "    .colab-df-container {\n",
              "      display:flex;\n",
              "      flex-wrap:wrap;\n",
              "      gap: 12px;\n",
              "    }\n",
              "\n",
              "    .colab-df-convert {\n",
              "      background-color: #E8F0FE;\n",
              "      border: none;\n",
              "      border-radius: 50%;\n",
              "      cursor: pointer;\n",
              "      display: none;\n",
              "      fill: #1967D2;\n",
              "      height: 32px;\n",
              "      padding: 0 0 0 0;\n",
              "      width: 32px;\n",
              "    }\n",
              "\n",
              "    .colab-df-convert:hover {\n",
              "      background-color: #E2EBFA;\n",
              "      box-shadow: 0px 1px 2px rgba(60, 64, 67, 0.3), 0px 1px 3px 1px rgba(60, 64, 67, 0.15);\n",
              "      fill: #174EA6;\n",
              "    }\n",
              "\n",
              "    [theme=dark] .colab-df-convert {\n",
              "      background-color: #3B4455;\n",
              "      fill: #D2E3FC;\n",
              "    }\n",
              "\n",
              "    [theme=dark] .colab-df-convert:hover {\n",
              "      background-color: #434B5C;\n",
              "      box-shadow: 0px 1px 3px 1px rgba(0, 0, 0, 0.15);\n",
              "      filter: drop-shadow(0px 1px 2px rgba(0, 0, 0, 0.3));\n",
              "      fill: #FFFFFF;\n",
              "    }\n",
              "  </style>\n",
              "\n",
              "      <script>\n",
              "        const buttonEl =\n",
              "          document.querySelector('#df-603b997e-91a0-4076-96d1-203c7de06f34 button.colab-df-convert');\n",
              "        buttonEl.style.display =\n",
              "          google.colab.kernel.accessAllowed ? 'block' : 'none';\n",
              "\n",
              "        async function convertToInteractive(key) {\n",
              "          const element = document.querySelector('#df-603b997e-91a0-4076-96d1-203c7de06f34');\n",
              "          const dataTable =\n",
              "            await google.colab.kernel.invokeFunction('convertToInteractive',\n",
              "                                                     [key], {});\n",
              "          if (!dataTable) return;\n",
              "\n",
              "          const docLinkHtml = 'Like what you see? Visit the ' +\n",
              "            '<a target=\"_blank\" href=https://colab.research.google.com/notebooks/data_table.ipynb>data table notebook</a>'\n",
              "            + ' to learn more about interactive tables.';\n",
              "          element.innerHTML = '';\n",
              "          dataTable['output_type'] = 'display_data';\n",
              "          await google.colab.output.renderOutput(dataTable, element);\n",
              "          const docLink = document.createElement('div');\n",
              "          docLink.innerHTML = docLinkHtml;\n",
              "          element.appendChild(docLink);\n",
              "        }\n",
              "      </script>\n",
              "    </div>\n",
              "  </div>\n",
              "  "
            ]
          },
          "metadata": {},
          "execution_count": 81
        }
      ]
    },
    {
      "cell_type": "code",
      "source": [
        "weekend_programs.groupby(\"program_type\")[\"day_of_week\"].value_counts()"
      ],
      "metadata": {
        "colab": {
          "base_uri": "https://localhost:8080/"
        },
        "id": "FHvJOcnbwhww",
        "outputId": "c1353d81-4bd3-4bbe-e280-9a3e3604dd82"
      },
      "execution_count": 110,
      "outputs": [
        {
          "output_type": "execute_result",
          "data": {
            "text/plain": [
              "program_type  day_of_week\n",
              "Movie         Friday         254100\n",
              "              Saturday       245084\n",
              "              Monday         220215\n",
              "              Thursday       218129\n",
              "              Tuesday        206153\n",
              "              Wednesday      201871\n",
              "              Sunday         199400\n",
              "TV Show       Saturday       305234\n",
              "              Monday         300795\n",
              "              Tuesday        299876\n",
              "              Wednesday      296169\n",
              "              Sunday         294669\n",
              "              Thursday       279850\n",
              "              Friday         277062\n",
              "Name: day_of_week, dtype: int64"
            ]
          },
          "metadata": {},
          "execution_count": 110
        }
      ]
    },
    {
      "cell_type": "code",
      "source": [
        "#use fivethirty eights style of plots\n",
        "plt.style.use(\"fivethirtyeight\")\n",
        "\n",
        "\n",
        "# Create the base axis to add the bars to\n",
        "fig6, ax6 = plt.subplots(1,1, figsize = (15, 6))\n",
        "\n",
        "# Extract the labels\n",
        "label = sorted(weekend_programs.groupby(\"program_type\")[\"day_of_week\"].value_counts()[\"Movie\"].index)\n",
        "\n",
        "# Create x ticks to add the data to later\n",
        "x = np.arange(len(label))\n",
        "\n",
        "# Set a width for each bar \n",
        "width = 0.3\n",
        "\n",
        "# Create out first bar\n",
        "rect1 = ax6.bar(x - width/2,\n",
        "              weekend_programs.groupby(\"program_type\")[\"day_of_week\"].value_counts()[\"Movie\"].sort_index(),\n",
        "              width= width, \n",
        "              label=\"Movie\",\n",
        "              edgecolor=\"black\")\n",
        "\n",
        "# Create the second bar\n",
        "rect2 = ax6.bar(x + width/2,\n",
        "              weekend_programs.groupby(\"program_type\")[\"day_of_week\"].value_counts()[\"TV Show\"].sort_index(),\n",
        "              width=width,\n",
        "              label=\"TV Show\",\n",
        "              edgecolor = \"black\")\n",
        "\n",
        "# Add the labels to the axis\n",
        "ax6.set_ylabel(\"Number of people\",\n",
        "             fontsize = 20,\n",
        "             labelpad = 20)\n",
        "\n",
        "ax6.set_xlabel(\"Days of the week\",\n",
        "             fontsize = 20,\n",
        "             labelpad =20)\n",
        "\n",
        "ax6.set_title(\"Weekends Vs. Business days activity\",\n",
        "            fontsize = 30,\n",
        "            pad = 20)\n",
        "\n",
        "# Set the ticks\n",
        "ax6.set_xticks(x)\n",
        "ax6.set_xticklabels(label)\n",
        "\n",
        "ax6.legend(title=\"Movie / TV Show\",\n",
        "         fontsize=14,\n",
        "         title_fontsize=15, \n",
        "         fancybox=True,\n",
        "         bbox_to_anchor=(0.8, 0.95))\n",
        "\n",
        "# Adjust the tick paramaters\n",
        "ax6.tick_params(axis = \"x\",\n",
        "              which = \"both\",\n",
        "              labelrotation = 44)\n",
        "\n",
        "ax6.tick_params(axis = \"y\",\n",
        "              which = \"both\",\n",
        "              labelsize = 15)\n",
        "\n",
        "plt.tight_layout()\n",
        "fig6.savefig('weekend_bus.png')"
      ],
      "metadata": {
        "colab": {
          "base_uri": "https://localhost:8080/",
          "height": 438
        },
        "id": "klGNpNkk5yfZ",
        "outputId": "739a4ac0-70f4-4931-80d4-f29096701753"
      },
      "execution_count": 185,
      "outputs": [
        {
          "output_type": "display_data",
          "data": {
            "text/plain": [
              "<Figure size 1080x432 with 1 Axes>"
            ],
            "image/png": "[encoded data removed]"
          },
          "metadata": {}
        }
      ]
    },
    {
      "cell_type": "markdown",
      "source": [
        "keypoints:\n",
        "- All DAYS people tend to learn more on watching TV shows more than movies.\n",
        "- In Friday & Saturday which is a weekend here in Saudi Arabia the movie watching increasing more than the other days."
      ],
      "metadata": {
        "id": "TM7aUcItFQVa"
      }
    },
    {
      "cell_type": "code",
      "source": [],
      "metadata": {
        "id": "h5cNUJoiPl-8"
      },
      "execution_count": null,
      "outputs": []
    }
  ]
}